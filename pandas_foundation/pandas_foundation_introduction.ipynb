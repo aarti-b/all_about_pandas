{
 "cells": [
  {
   "cell_type": "markdown",
   "metadata": {},
   "source": [
    "#  Introduction to Pandas\n",
    "Working with data is most exciting job in 21st century. With this easily accessible internet technolgy and with abundance of data and freely available online sources to boost data anlysis skils available out there it has become easier for most of the people to dive in this field for either swithching to this career or accelerating present job or even for interest to invest in stock market. Understanding data and making inference out of it takes experience and a right track for starters. In this tutorial we will cover topics from as basic as dissecting data to advance as faster and parallel execution with \"Ray\" variant of Pandas."
   ]
  },
  {
   "cell_type": "code",
   "execution_count": 1,
   "metadata": {
    "collapsed": true
   },
   "outputs": [],
   "source": [
    "import pandas as pd\n",
    "import numpy as np"
   ]
  },
  {
   "cell_type": "markdown",
   "metadata": {},
   "source": [
    "### Import BlackRock past one year Dataset (15 April 2018- 10 May 2019). This data is available in data folder. Some changes have been made in this data for this tutorial. ###"
   ]
  },
  {
   "cell_type": "code",
   "execution_count": 2,
   "metadata": {
    "collapsed": true
   },
   "outputs": [],
   "source": [
    "data = pd.read_csv('./data/BLK.csv')                            #change your path "
   ]
  },
  {
   "cell_type": "code",
   "execution_count": 3,
   "metadata": {},
   "outputs": [
    {
     "data": {
      "text/plain": [
       "(19, 7)"
      ]
     },
     "execution_count": 3,
     "metadata": {},
     "output_type": "execute_result"
    }
   ],
   "source": [
    "data.shape          # prints (rows,columns)"
   ]
  },
  {
   "cell_type": "code",
   "execution_count": 4,
   "metadata": {},
   "outputs": [
    {
     "name": "stdout",
     "output_type": "stream",
     "text": [
      "<class 'pandas.core.frame.DataFrame'>\n",
      "RangeIndex: 19 entries, 0 to 18\n",
      "Data columns (total 7 columns):\n",
      "Date         19 non-null object\n",
      "Open         17 non-null float64\n",
      "High         19 non-null float64\n",
      "Low          19 non-null float64\n",
      "Close        19 non-null float64\n",
      "Adj Close    19 non-null float64\n",
      "Volume       19 non-null int64\n",
      "dtypes: float64(5), int64(1), object(1)\n",
      "memory usage: 1.1+ KB\n"
     ]
    }
   ],
   "source": [
    "data.info() # number of non-missing values, data-type for each column and memory usage."
   ]
  },
  {
   "cell_type": "markdown",
   "metadata": {},
   "source": [
    "Have understanding of data columns, data values by printing few entries. Following code prints first five examples of dataset. There are three things in dataframe to be taken care of for data crunching\n",
    "* Index\n",
    "* Columns\n",
    "* Data values\n",
    "\n",
    "Index and Column names make it easier to access a particular entry or subset of data."
   ]
  },
  {
   "cell_type": "code",
   "execution_count": 5,
   "metadata": {},
   "outputs": [
    {
     "data": {
      "text/html": [
       "<div>\n",
       "<style scoped>\n",
       "    .dataframe tbody tr th:only-of-type {\n",
       "        vertical-align: middle;\n",
       "    }\n",
       "\n",
       "    .dataframe tbody tr th {\n",
       "        vertical-align: top;\n",
       "    }\n",
       "\n",
       "    .dataframe thead th {\n",
       "        text-align: right;\n",
       "    }\n",
       "</style>\n",
       "<table border=\"1\" class=\"dataframe\">\n",
       "  <thead>\n",
       "    <tr style=\"text-align: right;\">\n",
       "      <th></th>\n",
       "      <th>Date</th>\n",
       "      <th>Open</th>\n",
       "      <th>High</th>\n",
       "      <th>Low</th>\n",
       "      <th>Close</th>\n",
       "      <th>Adj Close</th>\n",
       "      <th>Volume</th>\n",
       "    </tr>\n",
       "  </thead>\n",
       "  <tbody>\n",
       "    <tr>\n",
       "      <th>0</th>\n",
       "      <td>4/15/2019</td>\n",
       "      <td>456.359985</td>\n",
       "      <td>457.100006</td>\n",
       "      <td>449.769989</td>\n",
       "      <td>451.859985</td>\n",
       "      <td>451.859985</td>\n",
       "      <td>590800</td>\n",
       "    </tr>\n",
       "    <tr>\n",
       "      <th>1</th>\n",
       "      <td>4/16/2019</td>\n",
       "      <td>453.100006</td>\n",
       "      <td>466.890015</td>\n",
       "      <td>453.000000</td>\n",
       "      <td>466.540009</td>\n",
       "      <td>466.540009</td>\n",
       "      <td>1030700</td>\n",
       "    </tr>\n",
       "    <tr>\n",
       "      <th>2</th>\n",
       "      <td>4/17/2019</td>\n",
       "      <td>466.980011</td>\n",
       "      <td>468.779999</td>\n",
       "      <td>462.420013</td>\n",
       "      <td>467.489990</td>\n",
       "      <td>467.489990</td>\n",
       "      <td>628200</td>\n",
       "    </tr>\n",
       "    <tr>\n",
       "      <th>3</th>\n",
       "      <td>4/18/2019</td>\n",
       "      <td>468.779999</td>\n",
       "      <td>469.369995</td>\n",
       "      <td>465.690002</td>\n",
       "      <td>465.690002</td>\n",
       "      <td>465.690002</td>\n",
       "      <td>530400</td>\n",
       "    </tr>\n",
       "    <tr>\n",
       "      <th>4</th>\n",
       "      <td>4/22/2019</td>\n",
       "      <td>463.750000</td>\n",
       "      <td>465.660004</td>\n",
       "      <td>462.149994</td>\n",
       "      <td>464.019989</td>\n",
       "      <td>464.019989</td>\n",
       "      <td>432900</td>\n",
       "    </tr>\n",
       "  </tbody>\n",
       "</table>\n",
       "</div>"
      ],
      "text/plain": [
       "        Date        Open        High         Low       Close   Adj Close  \\\n",
       "0  4/15/2019  456.359985  457.100006  449.769989  451.859985  451.859985   \n",
       "1  4/16/2019  453.100006  466.890015  453.000000  466.540009  466.540009   \n",
       "2  4/17/2019  466.980011  468.779999  462.420013  467.489990  467.489990   \n",
       "3  4/18/2019  468.779999  469.369995  465.690002  465.690002  465.690002   \n",
       "4  4/22/2019  463.750000  465.660004  462.149994  464.019989  464.019989   \n",
       "\n",
       "    Volume  \n",
       "0   590800  \n",
       "1  1030700  \n",
       "2   628200  \n",
       "3   530400  \n",
       "4   432900  "
      ]
     },
     "execution_count": 5,
     "metadata": {},
     "output_type": "execute_result"
    }
   ],
   "source": [
    "data.head()         # prints 0-4 examples of data frame\n",
    "# data.tail()       # prints last five entries of data "
   ]
  },
  {
   "cell_type": "markdown",
   "metadata": {},
   "source": [
    "In case, you want to print any number of row then you can just pass an argument to the head command."
   ]
  },
  {
   "cell_type": "code",
   "execution_count": 7,
   "metadata": {},
   "outputs": [
    {
     "data": {
      "text/html": [
       "<div>\n",
       "<style scoped>\n",
       "    .dataframe tbody tr th:only-of-type {\n",
       "        vertical-align: middle;\n",
       "    }\n",
       "\n",
       "    .dataframe tbody tr th {\n",
       "        vertical-align: top;\n",
       "    }\n",
       "\n",
       "    .dataframe thead th {\n",
       "        text-align: right;\n",
       "    }\n",
       "</style>\n",
       "<table border=\"1\" class=\"dataframe\">\n",
       "  <thead>\n",
       "    <tr style=\"text-align: right;\">\n",
       "      <th></th>\n",
       "      <th>Date</th>\n",
       "      <th>Open</th>\n",
       "      <th>High</th>\n",
       "      <th>Low</th>\n",
       "      <th>Close</th>\n",
       "      <th>Adj Close</th>\n",
       "      <th>Volume</th>\n",
       "    </tr>\n",
       "  </thead>\n",
       "  <tbody>\n",
       "    <tr>\n",
       "      <th>0</th>\n",
       "      <td>4/15/2019</td>\n",
       "      <td>456.359985</td>\n",
       "      <td>457.100006</td>\n",
       "      <td>449.769989</td>\n",
       "      <td>451.859985</td>\n",
       "      <td>451.859985</td>\n",
       "      <td>590800</td>\n",
       "    </tr>\n",
       "    <tr>\n",
       "      <th>1</th>\n",
       "      <td>4/16/2019</td>\n",
       "      <td>453.100006</td>\n",
       "      <td>466.890015</td>\n",
       "      <td>453.000000</td>\n",
       "      <td>466.540009</td>\n",
       "      <td>466.540009</td>\n",
       "      <td>1030700</td>\n",
       "    </tr>\n",
       "    <tr>\n",
       "      <th>2</th>\n",
       "      <td>4/17/2019</td>\n",
       "      <td>466.980011</td>\n",
       "      <td>468.779999</td>\n",
       "      <td>462.420013</td>\n",
       "      <td>467.489990</td>\n",
       "      <td>467.489990</td>\n",
       "      <td>628200</td>\n",
       "    </tr>\n",
       "  </tbody>\n",
       "</table>\n",
       "</div>"
      ],
      "text/plain": [
       "        Date        Open        High         Low       Close   Adj Close  \\\n",
       "0  4/15/2019  456.359985  457.100006  449.769989  451.859985  451.859985   \n",
       "1  4/16/2019  453.100006  466.890015  453.000000  466.540009  466.540009   \n",
       "2  4/17/2019  466.980011  468.779999  462.420013  467.489990  467.489990   \n",
       "\n",
       "    Volume  \n",
       "0   590800  \n",
       "1  1030700  \n",
       "2   628200  "
      ]
     },
     "execution_count": 7,
     "metadata": {},
     "output_type": "execute_result"
    }
   ],
   "source": [
    "data.head(3) # print first 8 rows of the dataset"
   ]
  },
  {
   "cell_type": "code",
   "execution_count": 8,
   "metadata": {},
   "outputs": [
    {
     "name": "stdout",
     "output_type": "stream",
     "text": [
      "Index(['Date', 'Open', 'High', 'Low', 'Close', 'Adj Close', 'Volume'], dtype='object')\n",
      "RangeIndex(start=0, stop=19, step=1)\n"
     ]
    }
   ],
   "source": [
    "print(data.columns)        # prints data column names\n",
    "print(data.index)          # prints index name if any\n",
    "# To set index name run following\n"
   ]
  },
  {
   "cell_type": "markdown",
   "metadata": {},
   "source": [
    "Check the type of columns and indexes"
   ]
  },
  {
   "cell_type": "code",
   "execution_count": 9,
   "metadata": {},
   "outputs": [
    {
     "name": "stdout",
     "output_type": "stream",
     "text": [
      "<class 'pandas.core.indexes.base.Index'>\n",
      "<class 'pandas.core.indexes.range.RangeIndex'>\n"
     ]
    }
   ],
   "source": [
    "print(type(data.columns))\n",
    "print(type(data.index))"
   ]
  },
  {
   "cell_type": "markdown",
   "metadata": {},
   "source": [
    "Both types seem closely related, infact pandas has number of similar objects reserved for either Index or column. Both Index and columns must be some kind of Index object. \"issubclass\" buildin method shows if RangeIndex is subclass of Index. Let's check"
   ]
  },
  {
   "cell_type": "code",
   "execution_count": 10,
   "metadata": {},
   "outputs": [
    {
     "name": "stdout",
     "output_type": "stream",
     "text": [
      "True\n"
     ]
    }
   ],
   "source": [
    "print(issubclass(pd.RangeIndex, pd.Index))"
   ]
  },
  {
   "cell_type": "markdown",
   "metadata": {},
   "source": [
    "If it is more convenient to use index as any other column."
   ]
  },
  {
   "cell_type": "code",
   "execution_count": 11,
   "metadata": {},
   "outputs": [
    {
     "data": {
      "text/html": [
       "<div>\n",
       "<style scoped>\n",
       "    .dataframe tbody tr th:only-of-type {\n",
       "        vertical-align: middle;\n",
       "    }\n",
       "\n",
       "    .dataframe tbody tr th {\n",
       "        vertical-align: top;\n",
       "    }\n",
       "\n",
       "    .dataframe thead th {\n",
       "        text-align: right;\n",
       "    }\n",
       "</style>\n",
       "<table border=\"1\" class=\"dataframe\">\n",
       "  <thead>\n",
       "    <tr style=\"text-align: right;\">\n",
       "      <th></th>\n",
       "      <th>Date</th>\n",
       "      <th>Open</th>\n",
       "      <th>High</th>\n",
       "      <th>Low</th>\n",
       "      <th>Close</th>\n",
       "      <th>Adj Close</th>\n",
       "    </tr>\n",
       "    <tr>\n",
       "      <th>Volume</th>\n",
       "      <th></th>\n",
       "      <th></th>\n",
       "      <th></th>\n",
       "      <th></th>\n",
       "      <th></th>\n",
       "      <th></th>\n",
       "    </tr>\n",
       "  </thead>\n",
       "  <tbody>\n",
       "    <tr>\n",
       "      <th>590800</th>\n",
       "      <td>4/15/2019</td>\n",
       "      <td>456.359985</td>\n",
       "      <td>457.100006</td>\n",
       "      <td>449.769989</td>\n",
       "      <td>451.859985</td>\n",
       "      <td>451.859985</td>\n",
       "    </tr>\n",
       "    <tr>\n",
       "      <th>1030700</th>\n",
       "      <td>4/16/2019</td>\n",
       "      <td>453.100006</td>\n",
       "      <td>466.890015</td>\n",
       "      <td>453.000000</td>\n",
       "      <td>466.540009</td>\n",
       "      <td>466.540009</td>\n",
       "    </tr>\n",
       "    <tr>\n",
       "      <th>628200</th>\n",
       "      <td>4/17/2019</td>\n",
       "      <td>466.980011</td>\n",
       "      <td>468.779999</td>\n",
       "      <td>462.420013</td>\n",
       "      <td>467.489990</td>\n",
       "      <td>467.489990</td>\n",
       "    </tr>\n",
       "    <tr>\n",
       "      <th>530400</th>\n",
       "      <td>4/18/2019</td>\n",
       "      <td>468.779999</td>\n",
       "      <td>469.369995</td>\n",
       "      <td>465.690002</td>\n",
       "      <td>465.690002</td>\n",
       "      <td>465.690002</td>\n",
       "    </tr>\n",
       "    <tr>\n",
       "      <th>432900</th>\n",
       "      <td>4/22/2019</td>\n",
       "      <td>463.750000</td>\n",
       "      <td>465.660004</td>\n",
       "      <td>462.149994</td>\n",
       "      <td>464.019989</td>\n",
       "      <td>464.019989</td>\n",
       "    </tr>\n",
       "  </tbody>\n",
       "</table>\n",
       "</div>"
      ],
      "text/plain": [
       "              Date        Open        High         Low       Close   Adj Close\n",
       "Volume                                                                        \n",
       "590800   4/15/2019  456.359985  457.100006  449.769989  451.859985  451.859985\n",
       "1030700  4/16/2019  453.100006  466.890015  453.000000  466.540009  466.540009\n",
       "628200   4/17/2019  466.980011  468.779999  462.420013  467.489990  467.489990\n",
       "530400   4/18/2019  468.779999  469.369995  465.690002  465.690002  465.690002\n",
       "432900   4/22/2019  463.750000  465.660004  462.149994  464.019989  464.019989"
      ]
     },
     "execution_count": 11,
     "metadata": {},
     "output_type": "execute_result"
    }
   ],
   "source": [
    "data.set_index('Volume').head() # to set \"Volume\" as index."
   ]
  },
  {
   "cell_type": "markdown",
   "metadata": {},
   "source": [
    "Now let's check for data types of columns"
   ]
  },
  {
   "cell_type": "code",
   "execution_count": 12,
   "metadata": {},
   "outputs": [
    {
     "data": {
      "text/plain": [
       "Date          object\n",
       "Open         float64\n",
       "High         float64\n",
       "Low          float64\n",
       "Close        float64\n",
       "Adj Close    float64\n",
       "Volume         int64\n",
       "dtype: object"
      ]
     },
     "execution_count": 12,
     "metadata": {},
     "output_type": "execute_result"
    }
   ],
   "source": [
    "data.dtypes # return the datatypes for each column separately."
   ]
  },
  {
   "cell_type": "code",
   "execution_count": 13,
   "metadata": {},
   "outputs": [
    {
     "data": {
      "text/plain": [
       "float64    5\n",
       "int64      1\n",
       "object     1\n",
       "dtype: int64"
      ]
     },
     "execution_count": 13,
     "metadata": {},
     "output_type": "execute_result"
    }
   ],
   "source": [
    "data.get_dtype_counts()      #counts of datatypes in dataframe."
   ]
  },
  {
   "cell_type": "code",
   "execution_count": 57,
   "metadata": {},
   "outputs": [
    {
     "data": {
      "text/plain": [
       "Date         19\n",
       "Open         17\n",
       "High         19\n",
       "Low          19\n",
       "Close        19\n",
       "Adj Close    19\n",
       "Volume       19\n",
       "dtype: int64"
      ]
     },
     "execution_count": 57,
     "metadata": {},
     "output_type": "execute_result"
    }
   ],
   "source": [
    "data.count()          # count of datatypes in dataframe for each column."
   ]
  },
  {
   "cell_type": "code",
   "execution_count": 32,
   "metadata": {},
   "outputs": [],
   "source": [
    "open_data = data['Open']"
   ]
  },
  {
   "cell_type": "code",
   "execution_count": 15,
   "metadata": {},
   "outputs": [
    {
     "name": "stdout",
     "output_type": "stream",
     "text": [
      "453.10000599999995\n",
      "486.839996\n",
      "469.14000023529405\n",
      "468.77999900000003\n",
      "9.335423854402823\n",
      "7975.380004\n"
     ]
    }
   ],
   "source": [
    "print(open_data.min());\n",
    "print(open_data.max());\n",
    "print(open_data.mean());\n",
    "print(open_data.median());\n",
    "print(open_data.std());\n",
    "print(open_data.sum());"
   ]
  },
  {
   "cell_type": "markdown",
   "metadata": {},
   "source": [
    "Now above statatistics could be found in one line of code i.e. __```open_data.describe()```__  (Please try yourself)"
   ]
  },
  {
   "cell_type": "code",
   "execution_count": 16,
   "metadata": {},
   "outputs": [
    {
     "data": {
      "text/plain": [
       "461.91600339999997"
      ]
     },
     "execution_count": 16,
     "metadata": {},
     "output_type": "execute_result"
    }
   ],
   "source": [
    "# get 0.2 quantile out of data\n",
    "open_data.quantile(0.2)"
   ]
  },
  {
   "cell_type": "code",
   "execution_count": 25,
   "metadata": {},
   "outputs": [
    {
     "name": "stdout",
     "output_type": "stream",
     "text": [
      "2\n"
     ]
    }
   ],
   "source": [
    "# check if any null value\n",
    "open_data.isnull()\n",
    "\n",
    "'''\n",
    "out []\n",
    "\n",
    "0     False\n",
    "1     False\n",
    "2     False\n",
    "3     False\n",
    "4     False\n",
    "5     False\n",
    "6     False\n",
    "7     False\n",
    "8     False\n",
    "9     False\n",
    "10    False\n",
    "11    False\n",
    "12    False\n",
    "13    False\n",
    "14    False\n",
    "15    False\n",
    "16    False\n",
    "17    False\n",
    "18    False\n",
    "Name: Open, dtype: bool\n",
    "'''\n",
    "\n",
    "# or\n",
    "total_number_of_nulls = sum(open_data.isnull())\n",
    "print(total_number_of_nulls)"
   ]
  },
  {
   "cell_type": "code",
   "execution_count": 17,
   "metadata": {},
   "outputs": [
    {
     "data": {
      "text/plain": [
       "17"
      ]
     },
     "execution_count": 17,
     "metadata": {},
     "output_type": "execute_result"
    }
   ],
   "source": [
    "open_data.notnull().sum() # this instance method perform exactly opposite to the isnull() method."
   ]
  },
  {
   "cell_type": "code",
   "execution_count": 18,
   "metadata": {},
   "outputs": [
    {
     "data": {
      "text/plain": [
       "Date         0\n",
       "Open         2\n",
       "High         0\n",
       "Low          0\n",
       "Close        0\n",
       "Adj Close    0\n",
       "Volume       0\n",
       "dtype: int64"
      ]
     },
     "execution_count": 18,
     "metadata": {},
     "output_type": "execute_result"
    }
   ],
   "source": [
    "data.isnull().sum() # count the NaNs for each column.\n",
    "# to count all of the NaNs \n",
    "# dataframe data.isnull().sum().sum()  "
   ]
  },
  {
   "cell_type": "code",
   "execution_count": 19,
   "metadata": {},
   "outputs": [
    {
     "data": {
      "text/plain": [
       "True"
      ]
     },
     "execution_count": 19,
     "metadata": {},
     "output_type": "execute_result"
    }
   ],
   "source": [
    "data.isnull().any().any() # to check quickly wheather there is NaN or not.\n",
    "# data.isnull().any() to quickcheck NaN's column-wise. "
   ]
  },
  {
   "cell_type": "markdown",
   "metadata": {},
   "source": [
    "As we know that there may be sevral missing values in the dataframe. We have performed some calculations above like median, standard deviation. These all misisng get ignored during the calculations. We can include the missing values by running the following code."
   ]
  },
  {
   "cell_type": "code",
   "execution_count": 20,
   "metadata": {},
   "outputs": [
    {
     "name": "stdout",
     "output_type": "stream",
     "text": [
      "The mean with excluded NaN is 469.14000023529405 and the mean with incluede NaN is nan\n"
     ]
    }
   ],
   "source": [
    "print(\"The mean with excluded NaN is\",data[\"Open\"].mean(),\"and the mean with incluede NaN is\",data[\"Open\"].mean(skipna=False))"
   ]
  },
  {
   "cell_type": "markdown",
   "metadata": {},
   "source": [
    "The setting __```skipna = False```__ enable the __NaN__ to get counted. This is the reason the mean was not calculated in the second case. By deault __```skipna = True```__. In this case, if all the values in the column are __NaN__, then obviously mean would be __NaN__ too."
   ]
  },
  {
   "cell_type": "markdown",
   "metadata": {},
   "source": [
    "Instead of skipping __NaN__ of deleting that particular row is not a good idea. So, let's try something different."
   ]
  },
  {
   "cell_type": "markdown",
   "metadata": {},
   "source": [
    "Fill __NaNs__ with some number, Now this some number depends on business cases corresponsing data would have. Lets fill it with __0__\n",
    "for now."
   ]
  },
  {
   "cell_type": "code",
   "execution_count": 21,
   "metadata": {},
   "outputs": [
    {
     "data": {
      "text/plain": [
       "0"
      ]
     },
     "execution_count": 21,
     "metadata": {},
     "output_type": "execute_result"
    }
   ],
   "source": [
    "filled_open_data = open_data.fillna(0)\n",
    "# to fill NaNs of specific type say int, run following command\n",
    "\n",
    "\n",
    "fill_open_data = open_data.fillna(0).astype(int)\n",
    "# check if any NaNs now?\n",
    "filled_open_data.isnull().sum()"
   ]
  },
  {
   "cell_type": "markdown",
   "metadata": {},
   "source": [
    "If one has enough data and information would not be lost much then one can drop particular row which is having null value."
   ]
  },
  {
   "cell_type": "code",
   "execution_count": 22,
   "metadata": {},
   "outputs": [
    {
     "data": {
      "text/plain": [
       "0"
      ]
     },
     "execution_count": 22,
     "metadata": {},
     "output_type": "execute_result"
    }
   ],
   "source": [
    "dropped_open_data = open_data.dropna()\n",
    "dropped_open_data.isnull().sum()"
   ]
  },
  {
   "cell_type": "markdown",
   "metadata": {},
   "source": [
    "If you afraid of losing the data by dropping the __NaN__ and also feel bad to replace it with zero, then we have better options to apply to the data. We can replace all the __NaN__ with the __mean__ or __median__. Let's do that."
   ]
  },
  {
   "cell_type": "code",
   "execution_count": 24,
   "metadata": {},
   "outputs": [
    {
     "data": {
      "text/plain": [
       "0     456.359985\n",
       "1     453.100006\n",
       "2     466.980011\n",
       "3     468.779999\n",
       "4     463.750000\n",
       "5     464.000000\n",
       "6     474.029999\n",
       "7     477.890015\n",
       "8     475.109985\n",
       "9     469.140000\n",
       "10    479.739990\n",
       "11    486.839996\n",
       "12    479.510010\n",
       "13    469.140000\n",
       "14    472.920013\n",
       "15    473.609985\n",
       "16    462.179993\n",
       "17    458.730011\n",
       "18    461.850006\n",
       "Name: Open, dtype: float64"
      ]
     },
     "execution_count": 24,
     "metadata": {},
     "output_type": "execute_result"
    }
   ],
   "source": [
    "open_data_mean_filled = open_data.fillna(open_data.mean()) # use median to fill with median.\n",
    "open_data_mean_filled"
   ]
  },
  {
   "cell_type": "markdown",
   "metadata": {},
   "source": [
    "The row 9 and 13 were __NaN__ but now it is filled by the mean of that particular column. Similar code is helpful for median as well. <br/> __```DataFrame.fillna(DataFrame.median())```__"
   ]
  },
  {
   "cell_type": "markdown",
   "metadata": {},
   "source": [
    "One more way to fill the the missing values is to fill using __interpolation__. We will use here the __forward interpolation__."
   ]
  },
  {
   "cell_type": "code",
   "execution_count": 34,
   "metadata": {},
   "outputs": [
    {
     "data": {
      "text/plain": [
       "0      True\n",
       "1      True\n",
       "2      True\n",
       "3      True\n",
       "4      True\n",
       "5      True\n",
       "6      True\n",
       "7      True\n",
       "8      True\n",
       "9     False\n",
       "10     True\n",
       "11     True\n",
       "12     True\n",
       "13    False\n",
       "14     True\n",
       "15     True\n",
       "16     True\n",
       "17     True\n",
       "18     True\n",
       "Name: Open, dtype: bool"
      ]
     },
     "execution_count": 34,
     "metadata": {},
     "output_type": "execute_result"
    }
   ],
   "source": [
    "open_data_ffill = open_data.ffill()   # filling missing values uinsg interpolation of the data\n",
    "open_data_ffill == open_data_mean_filled "
   ]
  },
  {
   "cell_type": "markdown",
   "metadata": {},
   "source": [
    "The output shows that the value of row 9 and 13 are different in both of the filling methods."
   ]
  },
  {
   "cell_type": "markdown",
   "metadata": {},
   "source": [
    "The forward filling method by default work across the column but it can be done across the rows by passing an argument __```axis = 1```__ to fill across the rows. This method will not work when the missing value is in the begining of the column or row."
   ]
  },
  {
   "cell_type": "markdown",
   "metadata": {},
   "source": [
    "Arithmetic Operations can be applied on Pandas series like positive, multiply, divide."
   ]
  },
  {
   "cell_type": "code",
   "execution_count": 51,
   "metadata": {},
   "outputs": [
    {
     "name": "stdout",
     "output_type": "stream",
     "text": [
      "0    457.359985\n",
      "1    454.100006\n",
      "2    467.980011\n",
      "3    469.779999\n",
      "4    464.750000\n",
      "Name: Open, dtype: float64\n",
      "0    912.719970\n",
      "1    906.200012\n",
      "2    933.960022\n",
      "3    937.559998\n",
      "4    927.500000\n",
      "Name: Open, dtype: float64\n",
      "0    152.0\n",
      "1    151.0\n",
      "2    155.0\n",
      "3    156.0\n",
      "4    154.0\n",
      "Name: Open, dtype: float64\n"
     ]
    }
   ],
   "source": [
    "# addition of 1 in dropped_open_data column\n",
    "\n",
    "add_dod = dropped_open_data + 1\n",
    "mul_dod = dropped_open_data * 2\n",
    "div_dod = dropped_open_data // 3\n",
    "\n",
    "print(add_dod.head())\n",
    "print(mul_dod.head())\n",
    "print(div_dod.head())"
   ]
  },
  {
   "cell_type": "markdown",
   "metadata": {},
   "source": [
    "Following are three methods to change column names of dataframe"
   ]
  },
  {
   "cell_type": "code",
   "execution_count": 83,
   "metadata": {
    "collapsed": true
   },
   "outputs": [],
   "source": [
    "#Rename column names in pandas make list of new names and replace inplace with new names\n",
    "\n",
    "#columns = ['date', 'open', 'high', 'low', 'close', 'Adj_close', 'vol']\n",
    "#data.columns = columns\n",
    "\n",
    "# rename and create new Dataframe\n",
    "df = data.rename(columns={'Date': 'date', 'Open': 'open','High': 'high', 'Low':'low', 'Close':'close','Adj Close':'Adj_close','Volume':'vol'})\n",
    "\n",
    "# Or rename the existing DataFrame (rather than creating a copy) \n",
    "#data.rename(columns={'Date': 'date', 'Open': 'open','High': 'high', 'Low':'low', 'Close':'close','Adj Close':'Adj_close','Volume':'vol'}, inplace=True)"
   ]
  },
  {
   "cell_type": "markdown",
   "metadata": {},
   "source": [
    "Creating new column"
   ]
  },
  {
   "cell_type": "code",
   "execution_count": 84,
   "metadata": {},
   "outputs": [
    {
     "name": "stdout",
     "output_type": "stream",
     "text": [
      "data columns after adding new column are : Index(['Date', 'Open', 'High', 'Low', 'Close', 'Adj Close', 'Volume',\n",
      "       'zero_risk'],\n",
      "      dtype='object')\n"
     ]
    }
   ],
   "source": [
    "# create new column with entries 0 (easiest one)\n",
    "data['zero_risk'] = 0\n",
    "# check column names in dataframe now\n",
    "print('data columns after adding new column are :',data.columns)\n"
   ]
  },
  {
   "cell_type": "markdown",
   "metadata": {},
   "source": [
    "Sometimes it is helpful to access the data by sorting it accorting to a specific column. For example I want to access the data in increasing order of volume."
   ]
  },
  {
   "cell_type": "code",
   "execution_count": 47,
   "metadata": {},
   "outputs": [
    {
     "data": {
      "text/html": [
       "<div>\n",
       "<style>\n",
       "    .dataframe thead tr:only-child th {\n",
       "        text-align: right;\n",
       "    }\n",
       "\n",
       "    .dataframe thead th {\n",
       "        text-align: left;\n",
       "    }\n",
       "\n",
       "    .dataframe tbody tr th {\n",
       "        vertical-align: top;\n",
       "    }\n",
       "</style>\n",
       "<table border=\"1\" class=\"dataframe\">\n",
       "  <thead>\n",
       "    <tr style=\"text-align: right;\">\n",
       "      <th></th>\n",
       "      <th>Date</th>\n",
       "      <th>Open</th>\n",
       "      <th>High</th>\n",
       "      <th>Low</th>\n",
       "      <th>Close</th>\n",
       "      <th>Adj Close</th>\n",
       "      <th>Volume</th>\n",
       "    </tr>\n",
       "  </thead>\n",
       "  <tbody>\n",
       "    <tr>\n",
       "      <th>9</th>\n",
       "      <td>4/29/2019</td>\n",
       "      <td>NaN</td>\n",
       "      <td>481.579987</td>\n",
       "      <td>478.609985</td>\n",
       "      <td>479.839996</td>\n",
       "      <td>479.839996</td>\n",
       "      <td>366900</td>\n",
       "    </tr>\n",
       "    <tr>\n",
       "      <th>13</th>\n",
       "      <td>5/3/2019</td>\n",
       "      <td>NaN</td>\n",
       "      <td>482.899994</td>\n",
       "      <td>476.410004</td>\n",
       "      <td>482.500000</td>\n",
       "      <td>482.500000</td>\n",
       "      <td>403300</td>\n",
       "    </tr>\n",
       "    <tr>\n",
       "      <th>4</th>\n",
       "      <td>4/22/2019</td>\n",
       "      <td>463.750000</td>\n",
       "      <td>465.660004</td>\n",
       "      <td>462.149994</td>\n",
       "      <td>464.019989</td>\n",
       "      <td>464.019989</td>\n",
       "      <td>432900</td>\n",
       "    </tr>\n",
       "    <tr>\n",
       "      <th>14</th>\n",
       "      <td>5/6/2019</td>\n",
       "      <td>472.920013</td>\n",
       "      <td>478.619995</td>\n",
       "      <td>469.869995</td>\n",
       "      <td>476.369995</td>\n",
       "      <td>476.369995</td>\n",
       "      <td>434400</td>\n",
       "    </tr>\n",
       "    <tr>\n",
       "      <th>17</th>\n",
       "      <td>5/9/2019</td>\n",
       "      <td>458.730011</td>\n",
       "      <td>464.459991</td>\n",
       "      <td>454.160004</td>\n",
       "      <td>464.220001</td>\n",
       "      <td>464.220001</td>\n",
       "      <td>435500</td>\n",
       "    </tr>\n",
       "  </tbody>\n",
       "</table>\n",
       "</div>"
      ],
      "text/plain": [
       "         Date        Open        High         Low       Close   Adj Close  \\\n",
       "9   4/29/2019         NaN  481.579987  478.609985  479.839996  479.839996   \n",
       "13   5/3/2019         NaN  482.899994  476.410004  482.500000  482.500000   \n",
       "4   4/22/2019  463.750000  465.660004  462.149994  464.019989  464.019989   \n",
       "14   5/6/2019  472.920013  478.619995  469.869995  476.369995  476.369995   \n",
       "17   5/9/2019  458.730011  464.459991  454.160004  464.220001  464.220001   \n",
       "\n",
       "    Volume  \n",
       "9   366900  \n",
       "13  403300  \n",
       "4   432900  \n",
       "14  434400  \n",
       "17  435500  "
      ]
     },
     "execution_count": 47,
     "metadata": {},
     "output_type": "execute_result"
    }
   ],
   "source": [
    "data.sort_values(\"Volume\").head()  # By default it rearrange the data in ascending order. If descending order \n",
    "                            #is required then following command can be helpful.\n",
    "#data.sort_values(\"Volume\",ascending = False)"
   ]
  },
  {
   "cell_type": "markdown",
   "metadata": {},
   "source": [
    "Pandas is able to run multiple operations in one go. For example,I want to sort the volumes and simultaneously willing to print first five rows of the data."
   ]
  },
  {
   "cell_type": "code",
   "execution_count": 4,
   "metadata": {},
   "outputs": [
    {
     "data": {
      "text/html": [
       "<div>\n",
       "<style>\n",
       "    .dataframe thead tr:only-child th {\n",
       "        text-align: right;\n",
       "    }\n",
       "\n",
       "    .dataframe thead th {\n",
       "        text-align: left;\n",
       "    }\n",
       "\n",
       "    .dataframe tbody tr th {\n",
       "        vertical-align: top;\n",
       "    }\n",
       "</style>\n",
       "<table border=\"1\" class=\"dataframe\">\n",
       "  <thead>\n",
       "    <tr style=\"text-align: right;\">\n",
       "      <th></th>\n",
       "      <th>Date</th>\n",
       "      <th>Open</th>\n",
       "      <th>High</th>\n",
       "      <th>Low</th>\n",
       "      <th>Close</th>\n",
       "      <th>Adj Close</th>\n",
       "      <th>Volume</th>\n",
       "    </tr>\n",
       "  </thead>\n",
       "  <tbody>\n",
       "    <tr>\n",
       "      <th>9</th>\n",
       "      <td>4/29/2019</td>\n",
       "      <td>NaN</td>\n",
       "      <td>481.579987</td>\n",
       "      <td>478.609985</td>\n",
       "      <td>479.839996</td>\n",
       "      <td>479.839996</td>\n",
       "      <td>366900</td>\n",
       "    </tr>\n",
       "    <tr>\n",
       "      <th>13</th>\n",
       "      <td>5/3/2019</td>\n",
       "      <td>NaN</td>\n",
       "      <td>482.899994</td>\n",
       "      <td>476.410004</td>\n",
       "      <td>482.500000</td>\n",
       "      <td>482.500000</td>\n",
       "      <td>403300</td>\n",
       "    </tr>\n",
       "    <tr>\n",
       "      <th>4</th>\n",
       "      <td>4/22/2019</td>\n",
       "      <td>463.750000</td>\n",
       "      <td>465.660004</td>\n",
       "      <td>462.149994</td>\n",
       "      <td>464.019989</td>\n",
       "      <td>464.019989</td>\n",
       "      <td>432900</td>\n",
       "    </tr>\n",
       "    <tr>\n",
       "      <th>14</th>\n",
       "      <td>5/6/2019</td>\n",
       "      <td>472.920013</td>\n",
       "      <td>478.619995</td>\n",
       "      <td>469.869995</td>\n",
       "      <td>476.369995</td>\n",
       "      <td>476.369995</td>\n",
       "      <td>434400</td>\n",
       "    </tr>\n",
       "    <tr>\n",
       "      <th>17</th>\n",
       "      <td>5/9/2019</td>\n",
       "      <td>458.730011</td>\n",
       "      <td>464.459991</td>\n",
       "      <td>454.160004</td>\n",
       "      <td>464.220001</td>\n",
       "      <td>464.220001</td>\n",
       "      <td>435500</td>\n",
       "    </tr>\n",
       "  </tbody>\n",
       "</table>\n",
       "</div>"
      ],
      "text/plain": [
       "         Date        Open        High         Low       Close   Adj Close  \\\n",
       "9   4/29/2019         NaN  481.579987  478.609985  479.839996  479.839996   \n",
       "13   5/3/2019         NaN  482.899994  476.410004  482.500000  482.500000   \n",
       "4   4/22/2019  463.750000  465.660004  462.149994  464.019989  464.019989   \n",
       "14   5/6/2019  472.920013  478.619995  469.869995  476.369995  476.369995   \n",
       "17   5/9/2019  458.730011  464.459991  454.160004  464.220001  464.220001   \n",
       "\n",
       "    Volume  \n",
       "9   366900  \n",
       "13  403300  \n",
       "4   432900  \n",
       "14  434400  \n",
       "17  435500  "
      ]
     },
     "execution_count": 4,
     "metadata": {},
     "output_type": "execute_result"
    }
   ],
   "source": [
    "data.sort_values(\"Volume\").head()"
   ]
  },
  {
   "cell_type": "markdown",
   "metadata": {},
   "source": [
    "Any operation applied on the data set never alter the original data. From the above operations it seems that I have sorted the original data. Let's take a look at the original data."
   ]
  },
  {
   "cell_type": "code",
   "execution_count": 5,
   "metadata": {},
   "outputs": [
    {
     "data": {
      "text/html": [
       "<div>\n",
       "<style>\n",
       "    .dataframe thead tr:only-child th {\n",
       "        text-align: right;\n",
       "    }\n",
       "\n",
       "    .dataframe thead th {\n",
       "        text-align: left;\n",
       "    }\n",
       "\n",
       "    .dataframe tbody tr th {\n",
       "        vertical-align: top;\n",
       "    }\n",
       "</style>\n",
       "<table border=\"1\" class=\"dataframe\">\n",
       "  <thead>\n",
       "    <tr style=\"text-align: right;\">\n",
       "      <th></th>\n",
       "      <th>Date</th>\n",
       "      <th>Open</th>\n",
       "      <th>High</th>\n",
       "      <th>Low</th>\n",
       "      <th>Close</th>\n",
       "      <th>Adj Close</th>\n",
       "      <th>Volume</th>\n",
       "    </tr>\n",
       "  </thead>\n",
       "  <tbody>\n",
       "    <tr>\n",
       "      <th>0</th>\n",
       "      <td>4/15/2019</td>\n",
       "      <td>456.359985</td>\n",
       "      <td>457.100006</td>\n",
       "      <td>449.769989</td>\n",
       "      <td>451.859985</td>\n",
       "      <td>451.859985</td>\n",
       "      <td>590800</td>\n",
       "    </tr>\n",
       "    <tr>\n",
       "      <th>1</th>\n",
       "      <td>4/16/2019</td>\n",
       "      <td>453.100006</td>\n",
       "      <td>466.890015</td>\n",
       "      <td>453.000000</td>\n",
       "      <td>466.540009</td>\n",
       "      <td>466.540009</td>\n",
       "      <td>1030700</td>\n",
       "    </tr>\n",
       "    <tr>\n",
       "      <th>2</th>\n",
       "      <td>4/17/2019</td>\n",
       "      <td>466.980011</td>\n",
       "      <td>468.779999</td>\n",
       "      <td>462.420013</td>\n",
       "      <td>467.489990</td>\n",
       "      <td>467.489990</td>\n",
       "      <td>628200</td>\n",
       "    </tr>\n",
       "    <tr>\n",
       "      <th>3</th>\n",
       "      <td>4/18/2019</td>\n",
       "      <td>468.779999</td>\n",
       "      <td>469.369995</td>\n",
       "      <td>465.690002</td>\n",
       "      <td>465.690002</td>\n",
       "      <td>465.690002</td>\n",
       "      <td>530400</td>\n",
       "    </tr>\n",
       "    <tr>\n",
       "      <th>4</th>\n",
       "      <td>4/22/2019</td>\n",
       "      <td>463.750000</td>\n",
       "      <td>465.660004</td>\n",
       "      <td>462.149994</td>\n",
       "      <td>464.019989</td>\n",
       "      <td>464.019989</td>\n",
       "      <td>432900</td>\n",
       "    </tr>\n",
       "  </tbody>\n",
       "</table>\n",
       "</div>"
      ],
      "text/plain": [
       "        Date        Open        High         Low       Close   Adj Close  \\\n",
       "0  4/15/2019  456.359985  457.100006  449.769989  451.859985  451.859985   \n",
       "1  4/16/2019  453.100006  466.890015  453.000000  466.540009  466.540009   \n",
       "2  4/17/2019  466.980011  468.779999  462.420013  467.489990  467.489990   \n",
       "3  4/18/2019  468.779999  469.369995  465.690002  465.690002  465.690002   \n",
       "4  4/22/2019  463.750000  465.660004  462.149994  464.019989  464.019989   \n",
       "\n",
       "    Volume  \n",
       "0   590800  \n",
       "1  1030700  \n",
       "2   628200  \n",
       "3   530400  \n",
       "4   432900  "
      ]
     },
     "execution_count": 5,
     "metadata": {},
     "output_type": "execute_result"
    }
   ],
   "source": [
    "data.head()"
   ]
  },
  {
   "cell_type": "markdown",
   "metadata": {},
   "source": [
    "Well!! it still same as original data. Now what should I do if I required to alter the original data.\n",
    "\n"
   ]
  },
  {
   "cell_type": "code",
   "execution_count": 6,
   "metadata": {},
   "outputs": [
    {
     "data": {
      "text/html": [
       "<div>\n",
       "<style>\n",
       "    .dataframe thead tr:only-child th {\n",
       "        text-align: right;\n",
       "    }\n",
       "\n",
       "    .dataframe thead th {\n",
       "        text-align: left;\n",
       "    }\n",
       "\n",
       "    .dataframe tbody tr th {\n",
       "        vertical-align: top;\n",
       "    }\n",
       "</style>\n",
       "<table border=\"1\" class=\"dataframe\">\n",
       "  <thead>\n",
       "    <tr style=\"text-align: right;\">\n",
       "      <th></th>\n",
       "      <th>Date</th>\n",
       "      <th>Open</th>\n",
       "      <th>High</th>\n",
       "      <th>Low</th>\n",
       "      <th>Close</th>\n",
       "      <th>Adj Close</th>\n",
       "      <th>Volume</th>\n",
       "    </tr>\n",
       "  </thead>\n",
       "  <tbody>\n",
       "    <tr>\n",
       "      <th>9</th>\n",
       "      <td>4/29/2019</td>\n",
       "      <td>NaN</td>\n",
       "      <td>481.579987</td>\n",
       "      <td>478.609985</td>\n",
       "      <td>479.839996</td>\n",
       "      <td>479.839996</td>\n",
       "      <td>366900</td>\n",
       "    </tr>\n",
       "    <tr>\n",
       "      <th>13</th>\n",
       "      <td>5/3/2019</td>\n",
       "      <td>NaN</td>\n",
       "      <td>482.899994</td>\n",
       "      <td>476.410004</td>\n",
       "      <td>482.500000</td>\n",
       "      <td>482.500000</td>\n",
       "      <td>403300</td>\n",
       "    </tr>\n",
       "    <tr>\n",
       "      <th>4</th>\n",
       "      <td>4/22/2019</td>\n",
       "      <td>463.750000</td>\n",
       "      <td>465.660004</td>\n",
       "      <td>462.149994</td>\n",
       "      <td>464.019989</td>\n",
       "      <td>464.019989</td>\n",
       "      <td>432900</td>\n",
       "    </tr>\n",
       "    <tr>\n",
       "      <th>14</th>\n",
       "      <td>5/6/2019</td>\n",
       "      <td>472.920013</td>\n",
       "      <td>478.619995</td>\n",
       "      <td>469.869995</td>\n",
       "      <td>476.369995</td>\n",
       "      <td>476.369995</td>\n",
       "      <td>434400</td>\n",
       "    </tr>\n",
       "    <tr>\n",
       "      <th>17</th>\n",
       "      <td>5/9/2019</td>\n",
       "      <td>458.730011</td>\n",
       "      <td>464.459991</td>\n",
       "      <td>454.160004</td>\n",
       "      <td>464.220001</td>\n",
       "      <td>464.220001</td>\n",
       "      <td>435500</td>\n",
       "    </tr>\n",
       "  </tbody>\n",
       "</table>\n",
       "</div>"
      ],
      "text/plain": [
       "         Date        Open        High         Low       Close   Adj Close  \\\n",
       "9   4/29/2019         NaN  481.579987  478.609985  479.839996  479.839996   \n",
       "13   5/3/2019         NaN  482.899994  476.410004  482.500000  482.500000   \n",
       "4   4/22/2019  463.750000  465.660004  462.149994  464.019989  464.019989   \n",
       "14   5/6/2019  472.920013  478.619995  469.869995  476.369995  476.369995   \n",
       "17   5/9/2019  458.730011  464.459991  454.160004  464.220001  464.220001   \n",
       "\n",
       "    Volume  \n",
       "9   366900  \n",
       "13  403300  \n",
       "4   432900  \n",
       "14  434400  \n",
       "17  435500  "
      ]
     },
     "execution_count": 6,
     "metadata": {},
     "output_type": "execute_result"
    }
   ],
   "source": [
    "data.sort_values(\"Volume\", inplace = True) # inplace command alter the original data.\n",
    "data.head()"
   ]
  },
  {
   "cell_type": "markdown",
   "metadata": {},
   "source": [
    "__```sort_values```__ is able to do more than that. It can sort the multiple columns in a single command. The list of the columns should be passed to the __```sort_values```__ command. The order of the sorting is same as the list passed to the command. For example, in __```data.sort_values([\"High\", \"Low\"])```__ __High__ sorted first and then __Low__."
   ]
  },
  {
   "cell_type": "code",
   "execution_count": 46,
   "metadata": {},
   "outputs": [
    {
     "data": {
      "text/html": [
       "<div>\n",
       "<style>\n",
       "    .dataframe thead tr:only-child th {\n",
       "        text-align: right;\n",
       "    }\n",
       "\n",
       "    .dataframe thead th {\n",
       "        text-align: left;\n",
       "    }\n",
       "\n",
       "    .dataframe tbody tr th {\n",
       "        vertical-align: top;\n",
       "    }\n",
       "</style>\n",
       "<table border=\"1\" class=\"dataframe\">\n",
       "  <thead>\n",
       "    <tr style=\"text-align: right;\">\n",
       "      <th></th>\n",
       "      <th>Date</th>\n",
       "      <th>Open</th>\n",
       "      <th>High</th>\n",
       "      <th>Low</th>\n",
       "      <th>Close</th>\n",
       "      <th>Adj Close</th>\n",
       "      <th>Volume</th>\n",
       "    </tr>\n",
       "  </thead>\n",
       "  <tbody>\n",
       "    <tr>\n",
       "      <th>0</th>\n",
       "      <td>4/15/2019</td>\n",
       "      <td>456.359985</td>\n",
       "      <td>457.100006</td>\n",
       "      <td>449.769989</td>\n",
       "      <td>451.859985</td>\n",
       "      <td>451.859985</td>\n",
       "      <td>590800</td>\n",
       "    </tr>\n",
       "    <tr>\n",
       "      <th>17</th>\n",
       "      <td>5/9/2019</td>\n",
       "      <td>458.730011</td>\n",
       "      <td>464.459991</td>\n",
       "      <td>454.160004</td>\n",
       "      <td>464.220001</td>\n",
       "      <td>464.220001</td>\n",
       "      <td>435500</td>\n",
       "    </tr>\n",
       "    <tr>\n",
       "      <th>18</th>\n",
       "      <td>5/10/2019</td>\n",
       "      <td>461.850006</td>\n",
       "      <td>465.640015</td>\n",
       "      <td>453.250000</td>\n",
       "      <td>463.000000</td>\n",
       "      <td>463.000000</td>\n",
       "      <td>484000</td>\n",
       "    </tr>\n",
       "    <tr>\n",
       "      <th>4</th>\n",
       "      <td>4/22/2019</td>\n",
       "      <td>463.750000</td>\n",
       "      <td>465.660004</td>\n",
       "      <td>462.149994</td>\n",
       "      <td>464.019989</td>\n",
       "      <td>464.019989</td>\n",
       "      <td>432900</td>\n",
       "    </tr>\n",
       "    <tr>\n",
       "      <th>1</th>\n",
       "      <td>4/16/2019</td>\n",
       "      <td>453.100006</td>\n",
       "      <td>466.890015</td>\n",
       "      <td>453.000000</td>\n",
       "      <td>466.540009</td>\n",
       "      <td>466.540009</td>\n",
       "      <td>1030700</td>\n",
       "    </tr>\n",
       "  </tbody>\n",
       "</table>\n",
       "</div>"
      ],
      "text/plain": [
       "         Date        Open        High         Low       Close   Adj Close  \\\n",
       "0   4/15/2019  456.359985  457.100006  449.769989  451.859985  451.859985   \n",
       "17   5/9/2019  458.730011  464.459991  454.160004  464.220001  464.220001   \n",
       "18  5/10/2019  461.850006  465.640015  453.250000  463.000000  463.000000   \n",
       "4   4/22/2019  463.750000  465.660004  462.149994  464.019989  464.019989   \n",
       "1   4/16/2019  453.100006  466.890015  453.000000  466.540009  466.540009   \n",
       "\n",
       "     Volume  \n",
       "0    590800  \n",
       "17   435500  \n",
       "18   484000  \n",
       "4    432900  \n",
       "1   1030700  "
      ]
     },
     "execution_count": 46,
     "metadata": {},
     "output_type": "execute_result"
    }
   ],
   "source": [
    "data.sort_values([\"High\", \"Low\"]).head()"
   ]
  },
  {
   "cell_type": "markdown",
   "metadata": {},
   "source": [
    "**Great!!!** We are able to sort the data in different manner. But there are few __```NaN```__ in __Open__ column. What to do with that? By default, all the __```NaN```__'s are at the end but if we need to keep the __```NaN```__'s in the begining, then use the __```data.sort_values(\"Open\", na_postion = first)```__"
   ]
  },
  {
   "cell_type": "code",
   "execution_count": 45,
   "metadata": {},
   "outputs": [
    {
     "data": {
      "text/html": [
       "<div>\n",
       "<style>\n",
       "    .dataframe thead tr:only-child th {\n",
       "        text-align: right;\n",
       "    }\n",
       "\n",
       "    .dataframe thead th {\n",
       "        text-align: left;\n",
       "    }\n",
       "\n",
       "    .dataframe tbody tr th {\n",
       "        vertical-align: top;\n",
       "    }\n",
       "</style>\n",
       "<table border=\"1\" class=\"dataframe\">\n",
       "  <thead>\n",
       "    <tr style=\"text-align: right;\">\n",
       "      <th></th>\n",
       "      <th>Date</th>\n",
       "      <th>Open</th>\n",
       "      <th>High</th>\n",
       "      <th>Low</th>\n",
       "      <th>Close</th>\n",
       "      <th>Adj Close</th>\n",
       "      <th>Volume</th>\n",
       "    </tr>\n",
       "  </thead>\n",
       "  <tbody>\n",
       "    <tr>\n",
       "      <th>9</th>\n",
       "      <td>4/29/2019</td>\n",
       "      <td>NaN</td>\n",
       "      <td>481.579987</td>\n",
       "      <td>478.609985</td>\n",
       "      <td>479.839996</td>\n",
       "      <td>479.839996</td>\n",
       "      <td>366900</td>\n",
       "    </tr>\n",
       "    <tr>\n",
       "      <th>13</th>\n",
       "      <td>5/3/2019</td>\n",
       "      <td>NaN</td>\n",
       "      <td>482.899994</td>\n",
       "      <td>476.410004</td>\n",
       "      <td>482.500000</td>\n",
       "      <td>482.500000</td>\n",
       "      <td>403300</td>\n",
       "    </tr>\n",
       "    <tr>\n",
       "      <th>1</th>\n",
       "      <td>4/16/2019</td>\n",
       "      <td>453.100006</td>\n",
       "      <td>466.890015</td>\n",
       "      <td>453.000000</td>\n",
       "      <td>466.540009</td>\n",
       "      <td>466.540009</td>\n",
       "      <td>1030700</td>\n",
       "    </tr>\n",
       "    <tr>\n",
       "      <th>0</th>\n",
       "      <td>4/15/2019</td>\n",
       "      <td>456.359985</td>\n",
       "      <td>457.100006</td>\n",
       "      <td>449.769989</td>\n",
       "      <td>451.859985</td>\n",
       "      <td>451.859985</td>\n",
       "      <td>590800</td>\n",
       "    </tr>\n",
       "    <tr>\n",
       "      <th>17</th>\n",
       "      <td>5/9/2019</td>\n",
       "      <td>458.730011</td>\n",
       "      <td>464.459991</td>\n",
       "      <td>454.160004</td>\n",
       "      <td>464.220001</td>\n",
       "      <td>464.220001</td>\n",
       "      <td>435500</td>\n",
       "    </tr>\n",
       "  </tbody>\n",
       "</table>\n",
       "</div>"
      ],
      "text/plain": [
       "         Date        Open        High         Low       Close   Adj Close  \\\n",
       "9   4/29/2019         NaN  481.579987  478.609985  479.839996  479.839996   \n",
       "13   5/3/2019         NaN  482.899994  476.410004  482.500000  482.500000   \n",
       "1   4/16/2019  453.100006  466.890015  453.000000  466.540009  466.540009   \n",
       "0   4/15/2019  456.359985  457.100006  449.769989  451.859985  451.859985   \n",
       "17   5/9/2019  458.730011  464.459991  454.160004  464.220001  464.220001   \n",
       "\n",
       "     Volume  \n",
       "9    366900  \n",
       "13   403300  \n",
       "1   1030700  \n",
       "0    590800  \n",
       "17   435500  "
      ]
     },
     "execution_count": 45,
     "metadata": {},
     "output_type": "execute_result"
    }
   ],
   "source": [
    "data.sort_values(\"Open\",na_position = \"first\").head()"
   ]
  },
  {
   "cell_type": "markdown",
   "metadata": {},
   "source": [
    "Now, Let's get the original data again."
   ]
  },
  {
   "cell_type": "code",
   "execution_count": 21,
   "metadata": {
    "collapsed": true
   },
   "outputs": [],
   "source": [
    "data.sort_index(inplace = True) # sort the data according to the index."
   ]
  },
  {
   "cell_type": "markdown",
   "metadata": {
    "collapsed": true
   },
   "source": [
    "### How to select the data"
   ]
  },
  {
   "cell_type": "markdown",
   "metadata": {},
   "source": [
    "__to select the column__ <br/>\n",
    "Sometimes it is helpful to access some specific columns for better vizualization of the data. Pandas allows this in very simple manner. Here let's access the \"High\" and \"Low\" only. A list needed columns should be passed to the data."
   ]
  },
  {
   "cell_type": "code",
   "execution_count": 25,
   "metadata": {},
   "outputs": [
    {
     "data": {
      "text/html": [
       "<div>\n",
       "<style>\n",
       "    .dataframe thead tr:only-child th {\n",
       "        text-align: right;\n",
       "    }\n",
       "\n",
       "    .dataframe thead th {\n",
       "        text-align: left;\n",
       "    }\n",
       "\n",
       "    .dataframe tbody tr th {\n",
       "        vertical-align: top;\n",
       "    }\n",
       "</style>\n",
       "<table border=\"1\" class=\"dataframe\">\n",
       "  <thead>\n",
       "    <tr style=\"text-align: right;\">\n",
       "      <th></th>\n",
       "      <th>High</th>\n",
       "      <th>Low</th>\n",
       "    </tr>\n",
       "  </thead>\n",
       "  <tbody>\n",
       "    <tr>\n",
       "      <th>0</th>\n",
       "      <td>457.100006</td>\n",
       "      <td>449.769989</td>\n",
       "    </tr>\n",
       "    <tr>\n",
       "      <th>1</th>\n",
       "      <td>466.890015</td>\n",
       "      <td>453.000000</td>\n",
       "    </tr>\n",
       "    <tr>\n",
       "      <th>2</th>\n",
       "      <td>468.779999</td>\n",
       "      <td>462.420013</td>\n",
       "    </tr>\n",
       "    <tr>\n",
       "      <th>3</th>\n",
       "      <td>469.369995</td>\n",
       "      <td>465.690002</td>\n",
       "    </tr>\n",
       "    <tr>\n",
       "      <th>4</th>\n",
       "      <td>465.660004</td>\n",
       "      <td>462.149994</td>\n",
       "    </tr>\n",
       "  </tbody>\n",
       "</table>\n",
       "</div>"
      ],
      "text/plain": [
       "         High         Low\n",
       "0  457.100006  449.769989\n",
       "1  466.890015  453.000000\n",
       "2  468.779999  462.420013\n",
       "3  469.369995  465.690002\n",
       "4  465.660004  462.149994"
      ]
     },
     "execution_count": 25,
     "metadata": {},
     "output_type": "execute_result"
    }
   ],
   "source": [
    "data[[\"High\",\"Low\"]] # selecting the column High and Low only.\n",
    "data[[\"High\",\"Low\"]].head() "
   ]
  },
  {
   "cell_type": "markdown",
   "metadata": {},
   "source": [
    "__```Pandas```__  allow to select the data in the more specific manner. For example, we wish to select the columns having numbers only."
   ]
  },
  {
   "cell_type": "code",
   "execution_count": 4,
   "metadata": {},
   "outputs": [
    {
     "data": {
      "text/html": [
       "<div>\n",
       "<style>\n",
       "    .dataframe thead tr:only-child th {\n",
       "        text-align: right;\n",
       "    }\n",
       "\n",
       "    .dataframe thead th {\n",
       "        text-align: left;\n",
       "    }\n",
       "\n",
       "    .dataframe tbody tr th {\n",
       "        vertical-align: top;\n",
       "    }\n",
       "</style>\n",
       "<table border=\"1\" class=\"dataframe\">\n",
       "  <thead>\n",
       "    <tr style=\"text-align: right;\">\n",
       "      <th></th>\n",
       "      <th>Open</th>\n",
       "      <th>High</th>\n",
       "      <th>Low</th>\n",
       "      <th>Close</th>\n",
       "      <th>Adj Close</th>\n",
       "      <th>Volume</th>\n",
       "    </tr>\n",
       "  </thead>\n",
       "  <tbody>\n",
       "    <tr>\n",
       "      <th>0</th>\n",
       "      <td>456.359985</td>\n",
       "      <td>457.100006</td>\n",
       "      <td>449.769989</td>\n",
       "      <td>451.859985</td>\n",
       "      <td>451.859985</td>\n",
       "      <td>590800</td>\n",
       "    </tr>\n",
       "    <tr>\n",
       "      <th>1</th>\n",
       "      <td>453.100006</td>\n",
       "      <td>466.890015</td>\n",
       "      <td>453.000000</td>\n",
       "      <td>466.540009</td>\n",
       "      <td>466.540009</td>\n",
       "      <td>1030700</td>\n",
       "    </tr>\n",
       "    <tr>\n",
       "      <th>2</th>\n",
       "      <td>466.980011</td>\n",
       "      <td>468.779999</td>\n",
       "      <td>462.420013</td>\n",
       "      <td>467.489990</td>\n",
       "      <td>467.489990</td>\n",
       "      <td>628200</td>\n",
       "    </tr>\n",
       "    <tr>\n",
       "      <th>3</th>\n",
       "      <td>468.779999</td>\n",
       "      <td>469.369995</td>\n",
       "      <td>465.690002</td>\n",
       "      <td>465.690002</td>\n",
       "      <td>465.690002</td>\n",
       "      <td>530400</td>\n",
       "    </tr>\n",
       "    <tr>\n",
       "      <th>4</th>\n",
       "      <td>463.750000</td>\n",
       "      <td>465.660004</td>\n",
       "      <td>462.149994</td>\n",
       "      <td>464.019989</td>\n",
       "      <td>464.019989</td>\n",
       "      <td>432900</td>\n",
       "    </tr>\n",
       "  </tbody>\n",
       "</table>\n",
       "</div>"
      ],
      "text/plain": [
       "         Open        High         Low       Close   Adj Close   Volume\n",
       "0  456.359985  457.100006  449.769989  451.859985  451.859985   590800\n",
       "1  453.100006  466.890015  453.000000  466.540009  466.540009  1030700\n",
       "2  466.980011  468.779999  462.420013  467.489990  467.489990   628200\n",
       "3  468.779999  469.369995  465.690002  465.690002  465.690002   530400\n",
       "4  463.750000  465.660004  462.149994  464.019989  464.019989   432900"
      ]
     },
     "execution_count": 4,
     "metadata": {},
     "output_type": "execute_result"
    }
   ],
   "source": [
    "data.select_dtypes(include=['number']).head()"
   ]
  },
  {
   "cell_type": "markdown",
   "metadata": {},
   "source": [
    "__```filter```__ method in pandas is also very felxible in selecting the data. It take a list or string to filter the data."
   ]
  },
  {
   "cell_type": "code",
   "execution_count": 48,
   "metadata": {},
   "outputs": [
    {
     "data": {
      "text/html": [
       "<div>\n",
       "<style>\n",
       "    .dataframe thead tr:only-child th {\n",
       "        text-align: right;\n",
       "    }\n",
       "\n",
       "    .dataframe thead th {\n",
       "        text-align: left;\n",
       "    }\n",
       "\n",
       "    .dataframe tbody tr th {\n",
       "        vertical-align: top;\n",
       "    }\n",
       "</style>\n",
       "<table border=\"1\" class=\"dataframe\">\n",
       "  <thead>\n",
       "    <tr style=\"text-align: right;\">\n",
       "      <th></th>\n",
       "      <th>High</th>\n",
       "      <th>Low</th>\n",
       "    </tr>\n",
       "  </thead>\n",
       "  <tbody>\n",
       "    <tr>\n",
       "      <th>0</th>\n",
       "      <td>457.100006</td>\n",
       "      <td>449.769989</td>\n",
       "    </tr>\n",
       "    <tr>\n",
       "      <th>1</th>\n",
       "      <td>466.890015</td>\n",
       "      <td>453.000000</td>\n",
       "    </tr>\n",
       "    <tr>\n",
       "      <th>2</th>\n",
       "      <td>468.779999</td>\n",
       "      <td>462.420013</td>\n",
       "    </tr>\n",
       "    <tr>\n",
       "      <th>3</th>\n",
       "      <td>469.369995</td>\n",
       "      <td>465.690002</td>\n",
       "    </tr>\n",
       "    <tr>\n",
       "      <th>4</th>\n",
       "      <td>465.660004</td>\n",
       "      <td>462.149994</td>\n",
       "    </tr>\n",
       "  </tbody>\n",
       "</table>\n",
       "</div>"
      ],
      "text/plain": [
       "         High         Low\n",
       "0  457.100006  449.769989\n",
       "1  466.890015  453.000000\n",
       "2  468.779999  462.420013\n",
       "3  469.369995  465.690002\n",
       "4  465.660004  462.149994"
      ]
     },
     "execution_count": 48,
     "metadata": {},
     "output_type": "execute_result"
    }
   ],
   "source": [
    "data.filter([\"High\",\"Low\"]).head() # .head() can be ommited. It is just added to reduce the output data."
   ]
  },
  {
   "cell_type": "markdown",
   "metadata": {},
   "source": [
    "__```filter```__ method has an argument __```like```__. It takes a string and return all of the columns with heading which includes the provided string."
   ]
  },
  {
   "cell_type": "code",
   "execution_count": 27,
   "metadata": {},
   "outputs": [
    {
     "data": {
      "text/html": [
       "<div>\n",
       "<style>\n",
       "    .dataframe thead tr:only-child th {\n",
       "        text-align: right;\n",
       "    }\n",
       "\n",
       "    .dataframe thead th {\n",
       "        text-align: left;\n",
       "    }\n",
       "\n",
       "    .dataframe tbody tr th {\n",
       "        vertical-align: top;\n",
       "    }\n",
       "</style>\n",
       "<table border=\"1\" class=\"dataframe\">\n",
       "  <thead>\n",
       "    <tr style=\"text-align: right;\">\n",
       "      <th></th>\n",
       "      <th>Low</th>\n",
       "      <th>Close</th>\n",
       "      <th>Adj Close</th>\n",
       "      <th>Volume</th>\n",
       "    </tr>\n",
       "  </thead>\n",
       "  <tbody>\n",
       "    <tr>\n",
       "      <th>0</th>\n",
       "      <td>449.769989</td>\n",
       "      <td>451.859985</td>\n",
       "      <td>451.859985</td>\n",
       "      <td>590800</td>\n",
       "    </tr>\n",
       "    <tr>\n",
       "      <th>1</th>\n",
       "      <td>453.000000</td>\n",
       "      <td>466.540009</td>\n",
       "      <td>466.540009</td>\n",
       "      <td>1030700</td>\n",
       "    </tr>\n",
       "    <tr>\n",
       "      <th>2</th>\n",
       "      <td>462.420013</td>\n",
       "      <td>467.489990</td>\n",
       "      <td>467.489990</td>\n",
       "      <td>628200</td>\n",
       "    </tr>\n",
       "    <tr>\n",
       "      <th>3</th>\n",
       "      <td>465.690002</td>\n",
       "      <td>465.690002</td>\n",
       "      <td>465.690002</td>\n",
       "      <td>530400</td>\n",
       "    </tr>\n",
       "    <tr>\n",
       "      <th>4</th>\n",
       "      <td>462.149994</td>\n",
       "      <td>464.019989</td>\n",
       "      <td>464.019989</td>\n",
       "      <td>432900</td>\n",
       "    </tr>\n",
       "  </tbody>\n",
       "</table>\n",
       "</div>"
      ],
      "text/plain": [
       "          Low       Close   Adj Close   Volume\n",
       "0  449.769989  451.859985  451.859985   590800\n",
       "1  453.000000  466.540009  466.540009  1030700\n",
       "2  462.420013  467.489990  467.489990   628200\n",
       "3  465.690002  465.690002  465.690002   530400\n",
       "4  462.149994  464.019989  464.019989   432900"
      ]
     },
     "execution_count": 27,
     "metadata": {},
     "output_type": "execute_result"
    }
   ],
   "source": [
    "data.filter(like=\"o\").head() # will return all the columns consisting \"o\"."
   ]
  },
  {
   "cell_type": "markdown",
   "metadata": {},
   "source": [
    "__selecting the complete row__"
   ]
  },
  {
   "cell_type": "code",
   "execution_count": 51,
   "metadata": {},
   "outputs": [
    {
     "data": {
      "text/plain": [
       "Date         4/30/2019\n",
       "Open            479.74\n",
       "High            485.85\n",
       "Low             477.57\n",
       "Close           485.24\n",
       "Adj Close       485.24\n",
       "Volume          567600\n",
       "Name: 10, dtype: object"
      ]
     },
     "execution_count": 51,
     "metadata": {},
     "output_type": "execute_result"
    }
   ],
   "source": [
    "data.loc[10] # selecting the 10th row"
   ]
  },
  {
   "cell_type": "markdown",
   "metadata": {},
   "source": [
    "Above method can also be used to access the multiple rows at the same time. Passing a list of the indices of the row to be select."
   ]
  },
  {
   "cell_type": "code",
   "execution_count": 17,
   "metadata": {},
   "outputs": [
    {
     "data": {
      "text/html": [
       "<div>\n",
       "<style scoped>\n",
       "    .dataframe tbody tr th:only-of-type {\n",
       "        vertical-align: middle;\n",
       "    }\n",
       "\n",
       "    .dataframe tbody tr th {\n",
       "        vertical-align: top;\n",
       "    }\n",
       "\n",
       "    .dataframe thead th {\n",
       "        text-align: right;\n",
       "    }\n",
       "</style>\n",
       "<table border=\"1\" class=\"dataframe\">\n",
       "  <thead>\n",
       "    <tr style=\"text-align: right;\">\n",
       "      <th></th>\n",
       "      <th>Date</th>\n",
       "      <th>Open</th>\n",
       "      <th>High</th>\n",
       "      <th>Low</th>\n",
       "      <th>Close</th>\n",
       "      <th>Adj Close</th>\n",
       "      <th>Volume</th>\n",
       "    </tr>\n",
       "  </thead>\n",
       "  <tbody>\n",
       "    <tr>\n",
       "      <th>0</th>\n",
       "      <td>4/15/2019</td>\n",
       "      <td>456.359985</td>\n",
       "      <td>457.100006</td>\n",
       "      <td>449.769989</td>\n",
       "      <td>451.859985</td>\n",
       "      <td>451.859985</td>\n",
       "      <td>590800</td>\n",
       "    </tr>\n",
       "    <tr>\n",
       "      <th>2</th>\n",
       "      <td>4/17/2019</td>\n",
       "      <td>466.980011</td>\n",
       "      <td>468.779999</td>\n",
       "      <td>462.420013</td>\n",
       "      <td>467.489990</td>\n",
       "      <td>467.489990</td>\n",
       "      <td>628200</td>\n",
       "    </tr>\n",
       "    <tr>\n",
       "      <th>3</th>\n",
       "      <td>4/18/2019</td>\n",
       "      <td>468.779999</td>\n",
       "      <td>469.369995</td>\n",
       "      <td>465.690002</td>\n",
       "      <td>465.690002</td>\n",
       "      <td>465.690002</td>\n",
       "      <td>530400</td>\n",
       "    </tr>\n",
       "    <tr>\n",
       "      <th>5</th>\n",
       "      <td>4/23/2019</td>\n",
       "      <td>464.000000</td>\n",
       "      <td>474.029999</td>\n",
       "      <td>463.899994</td>\n",
       "      <td>474.029999</td>\n",
       "      <td>474.029999</td>\n",
       "      <td>687400</td>\n",
       "    </tr>\n",
       "    <tr>\n",
       "      <th>8</th>\n",
       "      <td>4/26/2019</td>\n",
       "      <td>475.109985</td>\n",
       "      <td>479.459991</td>\n",
       "      <td>471.850006</td>\n",
       "      <td>478.980011</td>\n",
       "      <td>478.980011</td>\n",
       "      <td>469000</td>\n",
       "    </tr>\n",
       "  </tbody>\n",
       "</table>\n",
       "</div>"
      ],
      "text/plain": [
       "        Date        Open        High         Low       Close   Adj Close  \\\n",
       "0  4/15/2019  456.359985  457.100006  449.769989  451.859985  451.859985   \n",
       "2  4/17/2019  466.980011  468.779999  462.420013  467.489990  467.489990   \n",
       "3  4/18/2019  468.779999  469.369995  465.690002  465.690002  465.690002   \n",
       "5  4/23/2019  464.000000  474.029999  463.899994  474.029999  474.029999   \n",
       "8  4/26/2019  475.109985  479.459991  471.850006  478.980011  478.980011   \n",
       "\n",
       "   Volume  \n",
       "0  590800  \n",
       "2  628200  \n",
       "3  530400  \n",
       "5  687400  \n",
       "8  469000  "
      ]
     },
     "execution_count": 17,
     "metadata": {},
     "output_type": "execute_result"
    }
   ],
   "source": [
    "data.loc[[0,2,3,5,8]]"
   ]
  },
  {
   "cell_type": "markdown",
   "metadata": {},
   "source": [
    "__```loc```__ loc method can also select a slice of rows."
   ]
  },
  {
   "cell_type": "code",
   "execution_count": 53,
   "metadata": {},
   "outputs": [
    {
     "data": {
      "text/html": [
       "<div>\n",
       "<style scoped>\n",
       "    .dataframe tbody tr th:only-of-type {\n",
       "        vertical-align: middle;\n",
       "    }\n",
       "\n",
       "    .dataframe tbody tr th {\n",
       "        vertical-align: top;\n",
       "    }\n",
       "\n",
       "    .dataframe thead th {\n",
       "        text-align: right;\n",
       "    }\n",
       "</style>\n",
       "<table border=\"1\" class=\"dataframe\">\n",
       "  <thead>\n",
       "    <tr style=\"text-align: right;\">\n",
       "      <th></th>\n",
       "      <th>Date</th>\n",
       "      <th>Open</th>\n",
       "      <th>High</th>\n",
       "      <th>Low</th>\n",
       "      <th>Close</th>\n",
       "      <th>Adj Close</th>\n",
       "      <th>Volume</th>\n",
       "    </tr>\n",
       "  </thead>\n",
       "  <tbody>\n",
       "    <tr>\n",
       "      <th>5</th>\n",
       "      <td>4/23/2019</td>\n",
       "      <td>464.000000</td>\n",
       "      <td>474.029999</td>\n",
       "      <td>463.899994</td>\n",
       "      <td>474.029999</td>\n",
       "      <td>474.029999</td>\n",
       "      <td>687400</td>\n",
       "    </tr>\n",
       "    <tr>\n",
       "      <th>6</th>\n",
       "      <td>4/24/2019</td>\n",
       "      <td>474.029999</td>\n",
       "      <td>482.369995</td>\n",
       "      <td>472.609985</td>\n",
       "      <td>480.170013</td>\n",
       "      <td>480.170013</td>\n",
       "      <td>1008500</td>\n",
       "    </tr>\n",
       "    <tr>\n",
       "      <th>7</th>\n",
       "      <td>4/25/2019</td>\n",
       "      <td>477.890015</td>\n",
       "      <td>480.480011</td>\n",
       "      <td>472.609985</td>\n",
       "      <td>474.450012</td>\n",
       "      <td>474.450012</td>\n",
       "      <td>598700</td>\n",
       "    </tr>\n",
       "    <tr>\n",
       "      <th>8</th>\n",
       "      <td>4/26/2019</td>\n",
       "      <td>475.109985</td>\n",
       "      <td>479.459991</td>\n",
       "      <td>471.850006</td>\n",
       "      <td>478.980011</td>\n",
       "      <td>478.980011</td>\n",
       "      <td>469000</td>\n",
       "    </tr>\n",
       "    <tr>\n",
       "      <th>9</th>\n",
       "      <td>4/29/2019</td>\n",
       "      <td>NaN</td>\n",
       "      <td>481.579987</td>\n",
       "      <td>478.609985</td>\n",
       "      <td>479.839996</td>\n",
       "      <td>479.839996</td>\n",
       "      <td>366900</td>\n",
       "    </tr>\n",
       "    <tr>\n",
       "      <th>10</th>\n",
       "      <td>4/30/2019</td>\n",
       "      <td>479.739990</td>\n",
       "      <td>485.850006</td>\n",
       "      <td>477.570007</td>\n",
       "      <td>485.239990</td>\n",
       "      <td>485.239990</td>\n",
       "      <td>567600</td>\n",
       "    </tr>\n",
       "  </tbody>\n",
       "</table>\n",
       "</div>"
      ],
      "text/plain": [
       "         Date        Open        High         Low       Close   Adj Close  \\\n",
       "5   4/23/2019  464.000000  474.029999  463.899994  474.029999  474.029999   \n",
       "6   4/24/2019  474.029999  482.369995  472.609985  480.170013  480.170013   \n",
       "7   4/25/2019  477.890015  480.480011  472.609985  474.450012  474.450012   \n",
       "8   4/26/2019  475.109985  479.459991  471.850006  478.980011  478.980011   \n",
       "9   4/29/2019         NaN  481.579987  478.609985  479.839996  479.839996   \n",
       "10  4/30/2019  479.739990  485.850006  477.570007  485.239990  485.239990   \n",
       "\n",
       "     Volume  \n",
       "5    687400  \n",
       "6   1008500  \n",
       "7    598700  \n",
       "8    469000  \n",
       "9    366900  \n",
       "10   567600  "
      ]
     },
     "execution_count": 53,
     "metadata": {},
     "output_type": "execute_result"
    }
   ],
   "source": [
    "data.loc[5:10]  # selecting the rows from 5 to 10"
   ]
  },
  {
   "cell_type": "markdown",
   "metadata": {},
   "source": [
    "One more possible way to select the data using the __```loc```__ method is __```data.loc[initial,end,step]```__"
   ]
  },
  {
   "cell_type": "code",
   "execution_count": 50,
   "metadata": {},
   "outputs": [
    {
     "data": {
      "text/html": [
       "<div>\n",
       "<style scoped>\n",
       "    .dataframe tbody tr th:only-of-type {\n",
       "        vertical-align: middle;\n",
       "    }\n",
       "\n",
       "    .dataframe tbody tr th {\n",
       "        vertical-align: top;\n",
       "    }\n",
       "\n",
       "    .dataframe thead th {\n",
       "        text-align: right;\n",
       "    }\n",
       "</style>\n",
       "<table border=\"1\" class=\"dataframe\">\n",
       "  <thead>\n",
       "    <tr style=\"text-align: right;\">\n",
       "      <th></th>\n",
       "      <th>Date</th>\n",
       "      <th>Open</th>\n",
       "      <th>High</th>\n",
       "      <th>Low</th>\n",
       "      <th>Close</th>\n",
       "      <th>Adj Close</th>\n",
       "      <th>Volume</th>\n",
       "    </tr>\n",
       "  </thead>\n",
       "  <tbody>\n",
       "    <tr>\n",
       "      <th>4</th>\n",
       "      <td>4/22/2019</td>\n",
       "      <td>463.750000</td>\n",
       "      <td>465.660004</td>\n",
       "      <td>462.149994</td>\n",
       "      <td>464.019989</td>\n",
       "      <td>464.019989</td>\n",
       "      <td>432900</td>\n",
       "    </tr>\n",
       "    <tr>\n",
       "      <th>6</th>\n",
       "      <td>4/24/2019</td>\n",
       "      <td>474.029999</td>\n",
       "      <td>482.369995</td>\n",
       "      <td>472.609985</td>\n",
       "      <td>480.170013</td>\n",
       "      <td>480.170013</td>\n",
       "      <td>1008500</td>\n",
       "    </tr>\n",
       "    <tr>\n",
       "      <th>8</th>\n",
       "      <td>4/26/2019</td>\n",
       "      <td>475.109985</td>\n",
       "      <td>479.459991</td>\n",
       "      <td>471.850006</td>\n",
       "      <td>478.980011</td>\n",
       "      <td>478.980011</td>\n",
       "      <td>469000</td>\n",
       "    </tr>\n",
       "    <tr>\n",
       "      <th>10</th>\n",
       "      <td>4/30/2019</td>\n",
       "      <td>479.739990</td>\n",
       "      <td>485.850006</td>\n",
       "      <td>477.570007</td>\n",
       "      <td>485.239990</td>\n",
       "      <td>485.239990</td>\n",
       "      <td>567600</td>\n",
       "    </tr>\n",
       "    <tr>\n",
       "      <th>12</th>\n",
       "      <td>5/2/2019</td>\n",
       "      <td>479.510010</td>\n",
       "      <td>480.170013</td>\n",
       "      <td>471.470001</td>\n",
       "      <td>476.410004</td>\n",
       "      <td>476.410004</td>\n",
       "      <td>436100</td>\n",
       "    </tr>\n",
       "  </tbody>\n",
       "</table>\n",
       "</div>"
      ],
      "text/plain": [
       "         Date        Open        High         Low       Close   Adj Close  \\\n",
       "4   4/22/2019  463.750000  465.660004  462.149994  464.019989  464.019989   \n",
       "6   4/24/2019  474.029999  482.369995  472.609985  480.170013  480.170013   \n",
       "8   4/26/2019  475.109985  479.459991  471.850006  478.980011  478.980011   \n",
       "10  4/30/2019  479.739990  485.850006  477.570007  485.239990  485.239990   \n",
       "12   5/2/2019  479.510010  480.170013  471.470001  476.410004  476.410004   \n",
       "\n",
       "     Volume  \n",
       "4    432900  \n",
       "6   1008500  \n",
       "8    469000  \n",
       "10   567600  \n",
       "12   436100  "
      ]
     },
     "execution_count": 50,
     "metadata": {},
     "output_type": "execute_result"
    }
   ],
   "source": [
    "data.iloc[4:19:2].head()"
   ]
  },
  {
   "cell_type": "markdown",
   "metadata": {},
   "source": [
    "* __```loc```__ and __```iloc```__ method look similar but they differ in a manner that __`iloc`__ takes only integers.\n",
    "* There are two more methods __`at`__ and __`iat`__ which can replace __`loc`__ and __`iloc`__ because they are faster."
   ]
  },
  {
   "cell_type": "markdown",
   "metadata": {},
   "source": [
    "** Accessing a particular entry from dataframe ** <br/>\n",
    "Python has number of in-built containers like lists, dictionary, tuple, each of which uses index to access element. In similar fashion Pandas has dataframe as complex container which uses index or column names to access data point."
   ]
  },
  {
   "cell_type": "code",
   "execution_count": 7,
   "metadata": {},
   "outputs": [
    {
     "data": {
      "text/plain": [
       "0    456.359985\n",
       "1    453.100006\n",
       "2    466.980011\n",
       "3    468.779999\n",
       "4    463.750000\n",
       "Name: Open, dtype: float64"
      ]
     },
     "execution_count": 7,
     "metadata": {},
     "output_type": "execute_result"
    }
   ],
   "source": [
    "# Access with Column name\n",
    "\n",
    "data['Open']      #fetches \"Open\" pandas series\n",
    "# one can rename this pandas series if one has to work with sigle column only\n",
    "open_data = data['Open']\n",
    "open_data.head()"
   ]
  },
  {
   "cell_type": "markdown",
   "metadata": {},
   "source": [
    "Above method is recommended but there is another dot method i.e. __```data.Open```__ to access columns, which is quite error prone. You can not access column if the dataframe has column names with special characters and spaces in it as well as if column name is same as pandas DataFrame method name."
   ]
  },
  {
   "cell_type": "code",
   "execution_count": 18,
   "metadata": {},
   "outputs": [
    {
     "data": {
      "text/plain": [
       "Date         4/15/2019\n",
       "Open            456.36\n",
       "High             457.1\n",
       "Low             449.77\n",
       "Close           451.86\n",
       "Adj Close       451.86\n",
       "Volume          590800\n",
       "Name: 0, dtype: object"
      ]
     },
     "execution_count": 18,
     "metadata": {},
     "output_type": "execute_result"
    }
   ],
   "source": [
    "# Access complete row with index \n",
    "data.iloc[0]"
   ]
  },
  {
   "cell_type": "markdown",
   "metadata": {},
   "source": [
    "The above method can also be used to select the multiple rows by passing a list of indices of required rows."
   ]
  },
  {
   "cell_type": "code",
   "execution_count": 19,
   "metadata": {},
   "outputs": [
    {
     "data": {
      "text/html": [
       "<div>\n",
       "<style scoped>\n",
       "    .dataframe tbody tr th:only-of-type {\n",
       "        vertical-align: middle;\n",
       "    }\n",
       "\n",
       "    .dataframe tbody tr th {\n",
       "        vertical-align: top;\n",
       "    }\n",
       "\n",
       "    .dataframe thead th {\n",
       "        text-align: right;\n",
       "    }\n",
       "</style>\n",
       "<table border=\"1\" class=\"dataframe\">\n",
       "  <thead>\n",
       "    <tr style=\"text-align: right;\">\n",
       "      <th></th>\n",
       "      <th>Date</th>\n",
       "      <th>Open</th>\n",
       "      <th>High</th>\n",
       "      <th>Low</th>\n",
       "      <th>Close</th>\n",
       "      <th>Adj Close</th>\n",
       "      <th>Volume</th>\n",
       "    </tr>\n",
       "  </thead>\n",
       "  <tbody>\n",
       "    <tr>\n",
       "      <th>0</th>\n",
       "      <td>4/15/2019</td>\n",
       "      <td>456.359985</td>\n",
       "      <td>457.100006</td>\n",
       "      <td>449.769989</td>\n",
       "      <td>451.859985</td>\n",
       "      <td>451.859985</td>\n",
       "      <td>590800</td>\n",
       "    </tr>\n",
       "    <tr>\n",
       "      <th>2</th>\n",
       "      <td>4/17/2019</td>\n",
       "      <td>466.980011</td>\n",
       "      <td>468.779999</td>\n",
       "      <td>462.420013</td>\n",
       "      <td>467.489990</td>\n",
       "      <td>467.489990</td>\n",
       "      <td>628200</td>\n",
       "    </tr>\n",
       "    <tr>\n",
       "      <th>3</th>\n",
       "      <td>4/18/2019</td>\n",
       "      <td>468.779999</td>\n",
       "      <td>469.369995</td>\n",
       "      <td>465.690002</td>\n",
       "      <td>465.690002</td>\n",
       "      <td>465.690002</td>\n",
       "      <td>530400</td>\n",
       "    </tr>\n",
       "    <tr>\n",
       "      <th>5</th>\n",
       "      <td>4/23/2019</td>\n",
       "      <td>464.000000</td>\n",
       "      <td>474.029999</td>\n",
       "      <td>463.899994</td>\n",
       "      <td>474.029999</td>\n",
       "      <td>474.029999</td>\n",
       "      <td>687400</td>\n",
       "    </tr>\n",
       "    <tr>\n",
       "      <th>8</th>\n",
       "      <td>4/26/2019</td>\n",
       "      <td>475.109985</td>\n",
       "      <td>479.459991</td>\n",
       "      <td>471.850006</td>\n",
       "      <td>478.980011</td>\n",
       "      <td>478.980011</td>\n",
       "      <td>469000</td>\n",
       "    </tr>\n",
       "  </tbody>\n",
       "</table>\n",
       "</div>"
      ],
      "text/plain": [
       "        Date        Open        High         Low       Close   Adj Close  \\\n",
       "0  4/15/2019  456.359985  457.100006  449.769989  451.859985  451.859985   \n",
       "2  4/17/2019  466.980011  468.779999  462.420013  467.489990  467.489990   \n",
       "3  4/18/2019  468.779999  469.369995  465.690002  465.690002  465.690002   \n",
       "5  4/23/2019  464.000000  474.029999  463.899994  474.029999  474.029999   \n",
       "8  4/26/2019  475.109985  479.459991  471.850006  478.980011  478.980011   \n",
       "\n",
       "   Volume  \n",
       "0  590800  \n",
       "2  628200  \n",
       "3  530400  \n",
       "5  687400  \n",
       "8  469000  "
      ]
     },
     "execution_count": 19,
     "metadata": {},
     "output_type": "execute_result"
    }
   ],
   "source": [
    "data.loc[[0,2,3,5,8]]"
   ]
  },
  {
   "cell_type": "markdown",
   "metadata": {},
   "source": [
    "If the index of the dataframe is name rather than a number, then that particular index can be checked by the follwoing manner just to avoid any error in selecting the data."
   ]
  },
  {
   "cell_type": "code",
   "execution_count": 58,
   "metadata": {},
   "outputs": [
    {
     "data": {
      "text/plain": [
       "[5, 10, 3]"
      ]
     },
     "execution_count": 58,
     "metadata": {},
     "output_type": "execute_result"
    }
   ],
   "source": [
    "data.iloc[[5, 10, 3]].index.tolist() # return the index name of the rows"
   ]
  },
  {
   "cell_type": "markdown",
   "metadata": {},
   "source": [
    "The __`iloc`__ method accept the two slice arguments to crop the dataframe. We can use __`data.iloc[rows,columns]`__ to crop the required data."
   ]
  },
  {
   "cell_type": "code",
   "execution_count": 5,
   "metadata": {},
   "outputs": [
    {
     "data": {
      "text/html": [
       "<div>\n",
       "<style scoped>\n",
       "    .dataframe tbody tr th:only-of-type {\n",
       "        vertical-align: middle;\n",
       "    }\n",
       "\n",
       "    .dataframe tbody tr th {\n",
       "        vertical-align: top;\n",
       "    }\n",
       "\n",
       "    .dataframe thead th {\n",
       "        text-align: right;\n",
       "    }\n",
       "</style>\n",
       "<table border=\"1\" class=\"dataframe\">\n",
       "  <thead>\n",
       "    <tr style=\"text-align: right;\">\n",
       "      <th></th>\n",
       "      <th>Low</th>\n",
       "      <th>Close</th>\n",
       "      <th>Adj Close</th>\n",
       "    </tr>\n",
       "  </thead>\n",
       "  <tbody>\n",
       "    <tr>\n",
       "      <th>5</th>\n",
       "      <td>463.899994</td>\n",
       "      <td>474.029999</td>\n",
       "      <td>474.029999</td>\n",
       "    </tr>\n",
       "    <tr>\n",
       "      <th>6</th>\n",
       "      <td>472.609985</td>\n",
       "      <td>480.170013</td>\n",
       "      <td>480.170013</td>\n",
       "    </tr>\n",
       "    <tr>\n",
       "      <th>7</th>\n",
       "      <td>472.609985</td>\n",
       "      <td>474.450012</td>\n",
       "      <td>474.450012</td>\n",
       "    </tr>\n",
       "    <tr>\n",
       "      <th>8</th>\n",
       "      <td>471.850006</td>\n",
       "      <td>478.980011</td>\n",
       "      <td>478.980011</td>\n",
       "    </tr>\n",
       "    <tr>\n",
       "      <th>9</th>\n",
       "      <td>478.609985</td>\n",
       "      <td>479.839996</td>\n",
       "      <td>479.839996</td>\n",
       "    </tr>\n",
       "  </tbody>\n",
       "</table>\n",
       "</div>"
      ],
      "text/plain": [
       "          Low       Close   Adj Close\n",
       "5  463.899994  474.029999  474.029999\n",
       "6  472.609985  480.170013  480.170013\n",
       "7  472.609985  474.450012  474.450012\n",
       "8  471.850006  478.980011  478.980011\n",
       "9  478.609985  479.839996  479.839996"
      ]
     },
     "execution_count": 5,
     "metadata": {},
     "output_type": "execute_result"
    }
   ],
   "source": [
    "data.iloc[5:10, 3:6] # cropping the data from the row 5 to 9 and simultaneously the columns from 3rd to 5th.\n",
    "#data.iloc[:10] will select all the column"
   ]
  },
  {
   "cell_type": "code",
   "execution_count": 4,
   "metadata": {},
   "outputs": [
    {
     "data": {
      "text/plain": [
       "480.170013"
      ]
     },
     "execution_count": 4,
     "metadata": {},
     "output_type": "execute_result"
    }
   ],
   "source": [
    "data.iloc[6,-3] # selecting the single entry from 7th row and 4rd column."
   ]
  },
  {
   "cell_type": "markdown",
   "metadata": {},
   "source": [
    "here the index and the number if the row is same therefore the output is same as the input."
   ]
  },
  {
   "cell_type": "markdown",
   "metadata": {},
   "source": [
    "If the dataset is larger enought that knowing the index of the required column is not known. We must know that right column to avoid the error. In that index of that particular column can be determined using the following command. The same will work rows too if the rows index are not inegers."
   ]
  },
  {
   "cell_type": "code",
   "execution_count": 123,
   "metadata": {},
   "outputs": [
    {
     "data": {
      "text/plain": [
       "3"
      ]
     },
     "execution_count": 123,
     "metadata": {},
     "output_type": "execute_result"
    }
   ],
   "source": [
    "Low_index = data.columns.get_loc('Low') #getting the index of the \"Low\" column\n",
    "Low_index"
   ]
  },
  {
   "cell_type": "code",
   "execution_count": 7,
   "metadata": {
    "collapsed": true
   },
   "outputs": [],
   "source": [
    "data_ugds_ = data.filter(like='UGDS_')"
   ]
  },
  {
   "cell_type": "markdown",
   "metadata": {},
   "source": [
    "### How to use operations on dataframe?"
   ]
  },
  {
   "cell_type": "markdown",
   "metadata": {},
   "source": [
    "There are number of operations which are quite helpful to make data more sensible. For example, adding a new column whose values are based on the two columns. \n",
    "Here the range of the price fluctutations for a particular day to be calculate just by taking the difference of the  __```\"High\"```__ and __```\"Low\"```__ column."
   ]
  },
  {
   "cell_type": "code",
   "execution_count": 16,
   "metadata": {
    "collapsed": true
   },
   "outputs": [],
   "source": [
    "data['Range'] = data['High']-data['Low'] # to calulate the range and putting into a new column."
   ]
  },
  {
   "cell_type": "code",
   "execution_count": 17,
   "metadata": {},
   "outputs": [
    {
     "data": {
      "text/html": [
       "<div>\n",
       "<style>\n",
       "    .dataframe thead tr:only-child th {\n",
       "        text-align: right;\n",
       "    }\n",
       "\n",
       "    .dataframe thead th {\n",
       "        text-align: left;\n",
       "    }\n",
       "\n",
       "    .dataframe tbody tr th {\n",
       "        vertical-align: top;\n",
       "    }\n",
       "</style>\n",
       "<table border=\"1\" class=\"dataframe\">\n",
       "  <thead>\n",
       "    <tr style=\"text-align: right;\">\n",
       "      <th></th>\n",
       "      <th>Date</th>\n",
       "      <th>Open</th>\n",
       "      <th>High</th>\n",
       "      <th>Low</th>\n",
       "      <th>Close</th>\n",
       "      <th>Adj Close</th>\n",
       "      <th>Volume</th>\n",
       "      <th>Range</th>\n",
       "    </tr>\n",
       "  </thead>\n",
       "  <tbody>\n",
       "    <tr>\n",
       "      <th>0</th>\n",
       "      <td>4/15/2019</td>\n",
       "      <td>456.359985</td>\n",
       "      <td>457.100006</td>\n",
       "      <td>449.769989</td>\n",
       "      <td>451.859985</td>\n",
       "      <td>451.859985</td>\n",
       "      <td>590800</td>\n",
       "      <td>7.330017</td>\n",
       "    </tr>\n",
       "    <tr>\n",
       "      <th>1</th>\n",
       "      <td>4/16/2019</td>\n",
       "      <td>453.100006</td>\n",
       "      <td>466.890015</td>\n",
       "      <td>453.000000</td>\n",
       "      <td>466.540009</td>\n",
       "      <td>466.540009</td>\n",
       "      <td>1030700</td>\n",
       "      <td>13.890015</td>\n",
       "    </tr>\n",
       "    <tr>\n",
       "      <th>2</th>\n",
       "      <td>4/17/2019</td>\n",
       "      <td>466.980011</td>\n",
       "      <td>468.779999</td>\n",
       "      <td>462.420013</td>\n",
       "      <td>467.489990</td>\n",
       "      <td>467.489990</td>\n",
       "      <td>628200</td>\n",
       "      <td>6.359986</td>\n",
       "    </tr>\n",
       "    <tr>\n",
       "      <th>3</th>\n",
       "      <td>4/18/2019</td>\n",
       "      <td>468.779999</td>\n",
       "      <td>469.369995</td>\n",
       "      <td>465.690002</td>\n",
       "      <td>465.690002</td>\n",
       "      <td>465.690002</td>\n",
       "      <td>530400</td>\n",
       "      <td>3.679993</td>\n",
       "    </tr>\n",
       "    <tr>\n",
       "      <th>4</th>\n",
       "      <td>4/22/2019</td>\n",
       "      <td>463.750000</td>\n",
       "      <td>465.660004</td>\n",
       "      <td>462.149994</td>\n",
       "      <td>464.019989</td>\n",
       "      <td>464.019989</td>\n",
       "      <td>432900</td>\n",
       "      <td>3.510010</td>\n",
       "    </tr>\n",
       "  </tbody>\n",
       "</table>\n",
       "</div>"
      ],
      "text/plain": [
       "        Date        Open        High         Low       Close   Adj Close  \\\n",
       "0  4/15/2019  456.359985  457.100006  449.769989  451.859985  451.859985   \n",
       "1  4/16/2019  453.100006  466.890015  453.000000  466.540009  466.540009   \n",
       "2  4/17/2019  466.980011  468.779999  462.420013  467.489990  467.489990   \n",
       "3  4/18/2019  468.779999  469.369995  465.690002  465.690002  465.690002   \n",
       "4  4/22/2019  463.750000  465.660004  462.149994  464.019989  464.019989   \n",
       "\n",
       "    Volume      Range  \n",
       "0   590800   7.330017  \n",
       "1  1030700  13.890015  \n",
       "2   628200   6.359986  \n",
       "3   530400   3.679993  \n",
       "4   432900   3.510010  "
      ]
     },
     "execution_count": 17,
     "metadata": {},
     "output_type": "execute_result"
    }
   ],
   "source": [
    "data.head()"
   ]
  },
  {
   "cell_type": "markdown",
   "metadata": {},
   "source": [
    "* whenever a column is subjected under an operation then the all of the NaN's in that column remains NaN."
   ]
  },
  {
   "cell_type": "markdown",
   "metadata": {},
   "source": [
    "By default, all the operations are operated according to the columns but if operations according to the row, then __```axis```__ will help us to do so. The __```axis```__ has two possible values __```0 or 1```__. By default, it is __```0```__. Passing the __```axis=1```__ operates all the operations by taking the transpose of the data."
   ]
  },
  {
   "cell_type": "code",
   "execution_count": 33,
   "metadata": {},
   "outputs": [
    {
     "data": {
      "text/plain": [
       "0    8\n",
       "1    8\n",
       "2    8\n",
       "3    8\n",
       "4    8\n",
       "dtype: int64"
      ]
     },
     "execution_count": 33,
     "metadata": {},
     "output_type": "execute_result"
    }
   ],
   "source": [
    "data.count(axis = 1).head() # counting the non-missing values of the data for each row."
   ]
  },
  {
   "cell_type": "markdown",
   "metadata": {},
   "source": [
    "To take the sum of the all of the columns and adding it into a new row following procedure can be followed."
   ]
  },
  {
   "cell_type": "markdown",
   "metadata": {},
   "source": [
    "* Creating a copy of dataframe so that our original data remains intact therefore __```agg_data = data[data.columns]```__ is preferred over the __```agg_data = data```__."
   ]
  },
  {
   "cell_type": "code",
   "execution_count": 6,
   "metadata": {
    "collapsed": true
   },
   "outputs": [],
   "source": [
    "agg_data = data[data.columns] "
   ]
  },
  {
   "cell_type": "markdown",
   "metadata": {},
   "source": [
    "* adding the all values of the required columns and then appending it to the dataframe."
   ]
  },
  {
   "cell_type": "code",
   "execution_count": 7,
   "metadata": {
    "collapsed": true
   },
   "outputs": [],
   "source": [
    "agg_data.loc['Total']= agg_data[[\"Open\",\"High\", \"Low\", \"Close\", \"Adj Close\", \"Volume\"]].sum() # run this only once to avoid \n",
    "                                                                                              # repeated sum.\n",
    "#agg_data.loc['Total']= agg_data[data.columns].sum() (This command is avoided because the sum of Date column is not required)"
   ]
  },
  {
   "cell_type": "code",
   "execution_count": 8,
   "metadata": {},
   "outputs": [
    {
     "data": {
      "text/html": [
       "<div>\n",
       "<style scoped>\n",
       "    .dataframe tbody tr th:only-of-type {\n",
       "        vertical-align: middle;\n",
       "    }\n",
       "\n",
       "    .dataframe tbody tr th {\n",
       "        vertical-align: top;\n",
       "    }\n",
       "\n",
       "    .dataframe thead th {\n",
       "        text-align: right;\n",
       "    }\n",
       "</style>\n",
       "<table border=\"1\" class=\"dataframe\">\n",
       "  <thead>\n",
       "    <tr style=\"text-align: right;\">\n",
       "      <th></th>\n",
       "      <th>Date</th>\n",
       "      <th>Open</th>\n",
       "      <th>High</th>\n",
       "      <th>Low</th>\n",
       "      <th>Close</th>\n",
       "      <th>Adj Close</th>\n",
       "      <th>Volume</th>\n",
       "    </tr>\n",
       "  </thead>\n",
       "  <tbody>\n",
       "    <tr>\n",
       "      <th>15</th>\n",
       "      <td>5/7/2019</td>\n",
       "      <td>473.609985</td>\n",
       "      <td>473.929993</td>\n",
       "      <td>459.059998</td>\n",
       "      <td>463.769989</td>\n",
       "      <td>463.769989</td>\n",
       "      <td>709500.0</td>\n",
       "    </tr>\n",
       "    <tr>\n",
       "      <th>16</th>\n",
       "      <td>5/8/2019</td>\n",
       "      <td>462.179993</td>\n",
       "      <td>469.459991</td>\n",
       "      <td>459.619995</td>\n",
       "      <td>465.470001</td>\n",
       "      <td>465.470001</td>\n",
       "      <td>454800.0</td>\n",
       "    </tr>\n",
       "    <tr>\n",
       "      <th>17</th>\n",
       "      <td>5/9/2019</td>\n",
       "      <td>458.730011</td>\n",
       "      <td>464.459991</td>\n",
       "      <td>454.160004</td>\n",
       "      <td>464.220001</td>\n",
       "      <td>464.220001</td>\n",
       "      <td>435500.0</td>\n",
       "    </tr>\n",
       "    <tr>\n",
       "      <th>18</th>\n",
       "      <td>5/10/2019</td>\n",
       "      <td>461.850006</td>\n",
       "      <td>465.640015</td>\n",
       "      <td>453.250000</td>\n",
       "      <td>463.000000</td>\n",
       "      <td>463.000000</td>\n",
       "      <td>484000.0</td>\n",
       "    </tr>\n",
       "    <tr>\n",
       "      <th>Total</th>\n",
       "      <td>NaN</td>\n",
       "      <td>7975.380004</td>\n",
       "      <td>9014.200012</td>\n",
       "      <td>8852.729948</td>\n",
       "      <td>8959.179991</td>\n",
       "      <td>8959.179991</td>\n",
       "      <td>10757300.0</td>\n",
       "    </tr>\n",
       "  </tbody>\n",
       "</table>\n",
       "</div>"
      ],
      "text/plain": [
       "            Date         Open         High          Low        Close  \\\n",
       "15      5/7/2019   473.609985   473.929993   459.059998   463.769989   \n",
       "16      5/8/2019   462.179993   469.459991   459.619995   465.470001   \n",
       "17      5/9/2019   458.730011   464.459991   454.160004   464.220001   \n",
       "18     5/10/2019   461.850006   465.640015   453.250000   463.000000   \n",
       "Total        NaN  7975.380004  9014.200012  8852.729948  8959.179991   \n",
       "\n",
       "         Adj Close      Volume  \n",
       "15      463.769989    709500.0  \n",
       "16      465.470001    454800.0  \n",
       "17      464.220001    435500.0  \n",
       "18      463.000000    484000.0  \n",
       "Total  8959.179991  10757300.0  "
      ]
     },
     "execution_count": 8,
     "metadata": {},
     "output_type": "execute_result"
    }
   ],
   "source": [
    "agg_data.tail()"
   ]
  },
  {
   "cell_type": "markdown",
   "metadata": {
    "collapsed": true
   },
   "source": [
    "### How to a analyse the data?"
   ]
  },
  {
   "cell_type": "code",
   "execution_count": 19,
   "metadata": {},
   "outputs": [
    {
     "data": {
      "text/html": [
       "<div>\n",
       "<style scoped>\n",
       "    .dataframe tbody tr th:only-of-type {\n",
       "        vertical-align: middle;\n",
       "    }\n",
       "\n",
       "    .dataframe tbody tr th {\n",
       "        vertical-align: top;\n",
       "    }\n",
       "\n",
       "    .dataframe thead th {\n",
       "        text-align: right;\n",
       "    }\n",
       "</style>\n",
       "<table border=\"1\" class=\"dataframe\">\n",
       "  <thead>\n",
       "    <tr style=\"text-align: right;\">\n",
       "      <th></th>\n",
       "      <th>count</th>\n",
       "      <th>mean</th>\n",
       "      <th>std</th>\n",
       "      <th>min</th>\n",
       "      <th>25%</th>\n",
       "      <th>50%</th>\n",
       "      <th>75%</th>\n",
       "      <th>max</th>\n",
       "    </tr>\n",
       "  </thead>\n",
       "  <tbody>\n",
       "    <tr>\n",
       "      <th>Open</th>\n",
       "      <td>17.0</td>\n",
       "      <td>469.140000</td>\n",
       "      <td>9.335424</td>\n",
       "      <td>453.100006</td>\n",
       "      <td>462.179993</td>\n",
       "      <td>468.779999</td>\n",
       "      <td>475.109985</td>\n",
       "      <td>4.868400e+02</td>\n",
       "    </tr>\n",
       "    <tr>\n",
       "      <th>High</th>\n",
       "      <td>19.0</td>\n",
       "      <td>474.431580</td>\n",
       "      <td>8.471016</td>\n",
       "      <td>457.100006</td>\n",
       "      <td>467.835007</td>\n",
       "      <td>474.029999</td>\n",
       "      <td>481.029999</td>\n",
       "      <td>4.874500e+02</td>\n",
       "    </tr>\n",
       "    <tr>\n",
       "      <th>Low</th>\n",
       "      <td>19.0</td>\n",
       "      <td>465.933155</td>\n",
       "      <td>9.384924</td>\n",
       "      <td>449.769989</td>\n",
       "      <td>459.339997</td>\n",
       "      <td>465.690002</td>\n",
       "      <td>472.609985</td>\n",
       "      <td>4.787100e+02</td>\n",
       "    </tr>\n",
       "    <tr>\n",
       "      <th>Close</th>\n",
       "      <td>19.0</td>\n",
       "      <td>471.535789</td>\n",
       "      <td>8.721189</td>\n",
       "      <td>451.859985</td>\n",
       "      <td>464.845001</td>\n",
       "      <td>474.029999</td>\n",
       "      <td>479.055008</td>\n",
       "      <td>4.852400e+02</td>\n",
       "    </tr>\n",
       "    <tr>\n",
       "      <th>Adj Close</th>\n",
       "      <td>19.0</td>\n",
       "      <td>471.535789</td>\n",
       "      <td>8.721189</td>\n",
       "      <td>451.859985</td>\n",
       "      <td>464.845001</td>\n",
       "      <td>474.029999</td>\n",
       "      <td>479.055008</td>\n",
       "      <td>4.852400e+02</td>\n",
       "    </tr>\n",
       "    <tr>\n",
       "      <th>Volume</th>\n",
       "      <td>19.0</td>\n",
       "      <td>566173.684211</td>\n",
       "      <td>186107.017726</td>\n",
       "      <td>366900.000000</td>\n",
       "      <td>435800.000000</td>\n",
       "      <td>488600.000000</td>\n",
       "      <td>613450.000000</td>\n",
       "      <td>1.030700e+06</td>\n",
       "    </tr>\n",
       "  </tbody>\n",
       "</table>\n",
       "</div>"
      ],
      "text/plain": [
       "           count           mean            std            min            25%  \\\n",
       "Open        17.0     469.140000       9.335424     453.100006     462.179993   \n",
       "High        19.0     474.431580       8.471016     457.100006     467.835007   \n",
       "Low         19.0     465.933155       9.384924     449.769989     459.339997   \n",
       "Close       19.0     471.535789       8.721189     451.859985     464.845001   \n",
       "Adj Close   19.0     471.535789       8.721189     451.859985     464.845001   \n",
       "Volume      19.0  566173.684211  186107.017726  366900.000000  435800.000000   \n",
       "\n",
       "                     50%            75%           max  \n",
       "Open          468.779999     475.109985  4.868400e+02  \n",
       "High          474.029999     481.029999  4.874500e+02  \n",
       "Low           465.690002     472.609985  4.787100e+02  \n",
       "Close         474.029999     479.055008  4.852400e+02  \n",
       "Adj Close     474.029999     479.055008  4.852400e+02  \n",
       "Volume     488600.000000  613450.000000  1.030700e+06  "
      ]
     },
     "execution_count": 19,
     "metadata": {},
     "output_type": "execute_result"
    }
   ],
   "source": [
    "data.describe().T #(summary statistics for the numerical columns and transpose(using .T) the DataFrame for more readable output)"
   ]
  },
  {
   "cell_type": "markdown",
   "metadata": {
    "collapsed": true
   },
   "source": [
    "The __```describe```__ method can accept three arguments to customize the output (percentile, include & exclude). "
   ]
  },
  {
   "cell_type": "code",
   "execution_count": 16,
   "metadata": {},
   "outputs": [
    {
     "data": {
      "text/html": [
       "<div>\n",
       "<style scoped>\n",
       "    .dataframe tbody tr th:only-of-type {\n",
       "        vertical-align: middle;\n",
       "    }\n",
       "\n",
       "    .dataframe tbody tr th {\n",
       "        vertical-align: top;\n",
       "    }\n",
       "\n",
       "    .dataframe thead th {\n",
       "        text-align: right;\n",
       "    }\n",
       "</style>\n",
       "<table border=\"1\" class=\"dataframe\">\n",
       "  <thead>\n",
       "    <tr style=\"text-align: right;\">\n",
       "      <th></th>\n",
       "      <th>count</th>\n",
       "      <th>mean</th>\n",
       "      <th>std</th>\n",
       "      <th>min</th>\n",
       "      <th>1%</th>\n",
       "      <th>7.0%</th>\n",
       "      <th>40%</th>\n",
       "      <th>50%</th>\n",
       "      <th>max</th>\n",
       "    </tr>\n",
       "  </thead>\n",
       "  <tbody>\n",
       "    <tr>\n",
       "      <th>Open</th>\n",
       "      <td>17.0</td>\n",
       "      <td>469.140000</td>\n",
       "      <td>9.335424</td>\n",
       "      <td>453.100006</td>\n",
       "      <td>453.621603</td>\n",
       "      <td>456.644388</td>\n",
       "      <td>465.192004</td>\n",
       "      <td>468.779999</td>\n",
       "      <td>4.868400e+02</td>\n",
       "    </tr>\n",
       "    <tr>\n",
       "      <th>High</th>\n",
       "      <td>19.0</td>\n",
       "      <td>474.431580</td>\n",
       "      <td>8.471016</td>\n",
       "      <td>457.100006</td>\n",
       "      <td>458.424803</td>\n",
       "      <td>464.766797</td>\n",
       "      <td>470.353991</td>\n",
       "      <td>474.029999</td>\n",
       "      <td>4.874500e+02</td>\n",
       "    </tr>\n",
       "    <tr>\n",
       "      <th>Low</th>\n",
       "      <td>19.0</td>\n",
       "      <td>465.933155</td>\n",
       "      <td>9.384924</td>\n",
       "      <td>449.769989</td>\n",
       "      <td>450.351391</td>\n",
       "      <td>453.065000</td>\n",
       "      <td>462.716009</td>\n",
       "      <td>465.690002</td>\n",
       "      <td>4.787100e+02</td>\n",
       "    </tr>\n",
       "    <tr>\n",
       "      <th>Close</th>\n",
       "      <td>19.0</td>\n",
       "      <td>471.535789</td>\n",
       "      <td>8.721189</td>\n",
       "      <td>451.859985</td>\n",
       "      <td>453.865188</td>\n",
       "      <td>463.200197</td>\n",
       "      <td>466.730005</td>\n",
       "      <td>474.029999</td>\n",
       "      <td>4.852400e+02</td>\n",
       "    </tr>\n",
       "    <tr>\n",
       "      <th>Adj Close</th>\n",
       "      <td>19.0</td>\n",
       "      <td>471.535789</td>\n",
       "      <td>8.721189</td>\n",
       "      <td>451.859985</td>\n",
       "      <td>453.865188</td>\n",
       "      <td>463.200197</td>\n",
       "      <td>466.730005</td>\n",
       "      <td>474.029999</td>\n",
       "      <td>4.852400e+02</td>\n",
       "    </tr>\n",
       "    <tr>\n",
       "      <th>Volume</th>\n",
       "      <td>19.0</td>\n",
       "      <td>566173.684211</td>\n",
       "      <td>186107.017726</td>\n",
       "      <td>366900.000000</td>\n",
       "      <td>373452.000000</td>\n",
       "      <td>410996.000000</td>\n",
       "      <td>472000.000000</td>\n",
       "      <td>488600.000000</td>\n",
       "      <td>1.030700e+06</td>\n",
       "    </tr>\n",
       "  </tbody>\n",
       "</table>\n",
       "</div>"
      ],
      "text/plain": [
       "           count           mean            std            min             1%  \\\n",
       "Open        17.0     469.140000       9.335424     453.100006     453.621603   \n",
       "High        19.0     474.431580       8.471016     457.100006     458.424803   \n",
       "Low         19.0     465.933155       9.384924     449.769989     450.351391   \n",
       "Close       19.0     471.535789       8.721189     451.859985     453.865188   \n",
       "Adj Close   19.0     471.535789       8.721189     451.859985     453.865188   \n",
       "Volume      19.0  566173.684211  186107.017726  366900.000000  373452.000000   \n",
       "\n",
       "                    7.0%            40%            50%           max  \n",
       "Open          456.644388     465.192004     468.779999  4.868400e+02  \n",
       "High          464.766797     470.353991     474.029999  4.874500e+02  \n",
       "Low           453.065000     462.716009     465.690002  4.787100e+02  \n",
       "Close         463.200197     466.730005     474.029999  4.852400e+02  \n",
       "Adj Close     463.200197     466.730005     474.029999  4.852400e+02  \n",
       "Volume     410996.000000  472000.000000  488600.000000  1.030700e+06  "
      ]
     },
     "execution_count": 16,
     "metadata": {},
     "output_type": "execute_result"
    }
   ],
   "source": [
    "data.describe(percentiles = [0.01,0.40,0.07]).T # adding the 1%, 7% and 40% percentiles"
   ]
  },
  {
   "cell_type": "markdown",
   "metadata": {},
   "source": [
    "To check the memory of the each column."
   ]
  },
  {
   "cell_type": "code",
   "execution_count": 25,
   "metadata": {},
   "outputs": [
    {
     "data": {
      "text/plain": [
       "Index          80\n",
       "Date         1247\n",
       "Open          152\n",
       "High          152\n",
       "Low           152\n",
       "Close         152\n",
       "Adj Close     152\n",
       "Volume        152\n",
       "dtype: int64"
      ]
     },
     "execution_count": 25,
     "metadata": {},
     "output_type": "execute_result"
    }
   ],
   "source": [
    "data.memory_usage(deep = True) "
   ]
  },
  {
   "cell_type": "markdown",
   "metadata": {},
   "source": [
    "The memory usage can be reduced by converting the datatype. Let's reduce the memory of the ```Volume``` column."
   ]
  },
  {
   "cell_type": "markdown",
   "metadata": {},
   "source": [
    "Memory can be reduced if the columns have repeated values. i.e. the columns have less unique values. But in our dataframe there no repeated values as our dataset not large enough. Let's check!!!"
   ]
  },
  {
   "cell_type": "code",
   "execution_count": 38,
   "metadata": {},
   "outputs": [
    {
     "data": {
      "text/plain": [
       "Date         19\n",
       "Open         17\n",
       "High         19\n",
       "Low          18\n",
       "Close        19\n",
       "Adj Close    19\n",
       "Volume       19\n",
       "dtype: int64"
      ]
     },
     "execution_count": 38,
     "metadata": {},
     "output_type": "execute_result"
    }
   ],
   "source": [
    "data.select_dtypes(include = [\"number\", \"object\"]).nunique() # cheking the unique values in each column\n",
    "#data[\"Volume\"] = data[\"Volume\"].astype(np.int8) # converting the datatype to 8 bit."
   ]
  },
  {
   "cell_type": "markdown",
   "metadata": {},
   "source": [
    "There is significant reduction in the memory usage of each column without losing any information."
   ]
  },
  {
   "cell_type": "markdown",
   "metadata": {},
   "source": [
    "Clearly, there are no repated values in any of the column so we can't reduce the memory here. But in case, if there are repeated values in the columns then __```data['Required_Column'] = data['Required_column'].astype('category')```__ can be used to reduce the memory usage even more."
   ]
  },
  {
   "cell_type": "markdown",
   "metadata": {},
   "source": [
    "We can easily find the top n values or least n values for any column by using the __```nlargest```__ or __```nsmallest```__ method. Here, we are going the find the five days when the closing price is high."
   ]
  },
  {
   "cell_type": "code",
   "execution_count": 42,
   "metadata": {},
   "outputs": [
    {
     "data": {
      "text/html": [
       "<div>\n",
       "<style scoped>\n",
       "    .dataframe tbody tr th:only-of-type {\n",
       "        vertical-align: middle;\n",
       "    }\n",
       "\n",
       "    .dataframe tbody tr th {\n",
       "        vertical-align: top;\n",
       "    }\n",
       "\n",
       "    .dataframe thead th {\n",
       "        text-align: right;\n",
       "    }\n",
       "</style>\n",
       "<table border=\"1\" class=\"dataframe\">\n",
       "  <thead>\n",
       "    <tr style=\"text-align: right;\">\n",
       "      <th></th>\n",
       "      <th>Date</th>\n",
       "      <th>Close</th>\n",
       "    </tr>\n",
       "  </thead>\n",
       "  <tbody>\n",
       "    <tr>\n",
       "      <th>10</th>\n",
       "      <td>4/30/2019</td>\n",
       "      <td>485.239990</td>\n",
       "    </tr>\n",
       "    <tr>\n",
       "      <th>13</th>\n",
       "      <td>5/3/2019</td>\n",
       "      <td>482.500000</td>\n",
       "    </tr>\n",
       "    <tr>\n",
       "      <th>6</th>\n",
       "      <td>4/24/2019</td>\n",
       "      <td>480.170013</td>\n",
       "    </tr>\n",
       "    <tr>\n",
       "      <th>9</th>\n",
       "      <td>4/29/2019</td>\n",
       "      <td>479.839996</td>\n",
       "    </tr>\n",
       "    <tr>\n",
       "      <th>11</th>\n",
       "      <td>5/1/2019</td>\n",
       "      <td>479.130005</td>\n",
       "    </tr>\n",
       "  </tbody>\n",
       "</table>\n",
       "</div>"
      ],
      "text/plain": [
       "         Date       Close\n",
       "10  4/30/2019  485.239990\n",
       "13   5/3/2019  482.500000\n",
       "6   4/24/2019  480.170013\n",
       "9   4/29/2019  479.839996\n",
       "11   5/1/2019  479.130005"
      ]
     },
     "execution_count": 42,
     "metadata": {},
     "output_type": "execute_result"
    }
   ],
   "source": [
    "data.nlargest(5, 'Close')[[\"Date\",\"Close\"]] # only printing the date and close column"
   ]
  },
  {
   "cell_type": "markdown",
   "metadata": {},
   "source": [
    "We can work on multiple columns at the same time. For example, we are finding the 5 days of lowest opening price out of the 10 days of highest closing price."
   ]
  },
  {
   "cell_type": "code",
   "execution_count": 45,
   "metadata": {},
   "outputs": [
    {
     "data": {
      "text/html": [
       "<div>\n",
       "<style scoped>\n",
       "    .dataframe tbody tr th:only-of-type {\n",
       "        vertical-align: middle;\n",
       "    }\n",
       "\n",
       "    .dataframe tbody tr th {\n",
       "        vertical-align: top;\n",
       "    }\n",
       "\n",
       "    .dataframe thead th {\n",
       "        text-align: right;\n",
       "    }\n",
       "</style>\n",
       "<table border=\"1\" class=\"dataframe\">\n",
       "  <thead>\n",
       "    <tr style=\"text-align: right;\">\n",
       "      <th></th>\n",
       "      <th>Date</th>\n",
       "      <th>Open</th>\n",
       "      <th>High</th>\n",
       "      <th>Low</th>\n",
       "      <th>Close</th>\n",
       "      <th>Adj Close</th>\n",
       "      <th>Volume</th>\n",
       "    </tr>\n",
       "  </thead>\n",
       "  <tbody>\n",
       "    <tr>\n",
       "      <th>5</th>\n",
       "      <td>4/23/2019</td>\n",
       "      <td>464.000000</td>\n",
       "      <td>474.029999</td>\n",
       "      <td>463.899994</td>\n",
       "      <td>474.029999</td>\n",
       "      <td>474.029999</td>\n",
       "      <td>687400</td>\n",
       "    </tr>\n",
       "    <tr>\n",
       "      <th>14</th>\n",
       "      <td>5/6/2019</td>\n",
       "      <td>472.920013</td>\n",
       "      <td>478.619995</td>\n",
       "      <td>469.869995</td>\n",
       "      <td>476.369995</td>\n",
       "      <td>476.369995</td>\n",
       "      <td>434400</td>\n",
       "    </tr>\n",
       "    <tr>\n",
       "      <th>6</th>\n",
       "      <td>4/24/2019</td>\n",
       "      <td>474.029999</td>\n",
       "      <td>482.369995</td>\n",
       "      <td>472.609985</td>\n",
       "      <td>480.170013</td>\n",
       "      <td>480.170013</td>\n",
       "      <td>1008500</td>\n",
       "    </tr>\n",
       "    <tr>\n",
       "      <th>8</th>\n",
       "      <td>4/26/2019</td>\n",
       "      <td>475.109985</td>\n",
       "      <td>479.459991</td>\n",
       "      <td>471.850006</td>\n",
       "      <td>478.980011</td>\n",
       "      <td>478.980011</td>\n",
       "      <td>469000</td>\n",
       "    </tr>\n",
       "    <tr>\n",
       "      <th>7</th>\n",
       "      <td>4/25/2019</td>\n",
       "      <td>477.890015</td>\n",
       "      <td>480.480011</td>\n",
       "      <td>472.609985</td>\n",
       "      <td>474.450012</td>\n",
       "      <td>474.450012</td>\n",
       "      <td>598700</td>\n",
       "    </tr>\n",
       "  </tbody>\n",
       "</table>\n",
       "</div>"
      ],
      "text/plain": [
       "         Date        Open        High         Low       Close   Adj Close  \\\n",
       "5   4/23/2019  464.000000  474.029999  463.899994  474.029999  474.029999   \n",
       "14   5/6/2019  472.920013  478.619995  469.869995  476.369995  476.369995   \n",
       "6   4/24/2019  474.029999  482.369995  472.609985  480.170013  480.170013   \n",
       "8   4/26/2019  475.109985  479.459991  471.850006  478.980011  478.980011   \n",
       "7   4/25/2019  477.890015  480.480011  472.609985  474.450012  474.450012   \n",
       "\n",
       "     Volume  \n",
       "5    687400  \n",
       "14   434400  \n",
       "6   1008500  \n",
       "8    469000  \n",
       "7    598700  "
      ]
     },
     "execution_count": 45,
     "metadata": {},
     "output_type": "execute_result"
    }
   ],
   "source": [
    "data.nlargest(10,\"Close\").nsmallest(5,\"Open\")"
   ]
  },
  {
   "cell_type": "markdown",
   "metadata": {},
   "source": [
    "The above method is equivalent to __```sort_values```__ and selecting the required __`n`__ rows. "
   ]
  },
  {
   "cell_type": "markdown",
   "metadata": {},
   "source": [
    "### How to use Boolean to data?"
   ]
  },
  {
   "cell_type": "markdown",
   "metadata": {},
   "source": [
    "Pandas can apply Boolean to the dataframe to filter the data. If we wish to get the days when the closing price is higher than 467, then following would help us."
   ]
  },
  {
   "cell_type": "code",
   "execution_count": 39,
   "metadata": {},
   "outputs": [
    {
     "data": {
      "text/plain": [
       "0     False\n",
       "1     False\n",
       "2      True\n",
       "3     False\n",
       "4     False\n",
       "5      True\n",
       "6      True\n",
       "7      True\n",
       "8      True\n",
       "9      True\n",
       "10     True\n",
       "11     True\n",
       "12     True\n",
       "13     True\n",
       "14     True\n",
       "15    False\n",
       "16    False\n",
       "17    False\n",
       "18    False\n",
       "Name: Close, dtype: bool"
      ]
     },
     "execution_count": 39,
     "metadata": {},
     "output_type": "execute_result"
    }
   ],
   "source": [
    "data[\"Close\"]> 467 # return \"True\" if inequality holds."
   ]
  },
  {
   "cell_type": "code",
   "execution_count": 44,
   "metadata": {},
   "outputs": [
    {
     "data": {
      "text/plain": [
       "count       19\n",
       "unique       2\n",
       "top       True\n",
       "freq        11\n",
       "Name: Close, dtype: object"
      ]
     },
     "execution_count": 44,
     "metadata": {},
     "output_type": "execute_result"
    }
   ],
   "source": [
    "(data[\"Close\"]> 467).describe() # return non-missing values, no of unique values, top boolean and frequency of \"True\"."
   ]
  },
  {
   "cell_type": "code",
   "execution_count": 49,
   "metadata": {},
   "outputs": [
    {
     "data": {
      "text/plain": [
       "True     0.578947\n",
       "False    0.421053\n",
       "Name: Close, dtype: float64"
      ]
     },
     "execution_count": 49,
     "metadata": {},
     "output_type": "execute_result"
    }
   ],
   "source": [
    "(data[\"Close\"]> 467).value_counts(normalize = True) # Return the percentage if the \"True\" and \"False\" values."
   ]
  },
  {
   "cell_type": "markdown",
   "metadata": {},
   "source": [
    "The Boolean conditions can be much more helpful in a analysing the data in a very specific manner. For example, we want to know the days when the closing price was higher than 467, opening price lower than 470 and the volume higher than 500000. Let's create these condition as variables."
   ]
  },
  {
   "cell_type": "code",
   "execution_count": 103,
   "metadata": {},
   "outputs": [
    {
     "data": {
      "text/plain": [
       "0    False\n",
       "1    False\n",
       "2     True\n",
       "3    False\n",
       "4    False\n",
       "dtype: bool"
      ]
     },
     "execution_count": 103,
     "metadata": {},
     "output_type": "execute_result"
    }
   ],
   "source": [
    "condition1 = data[\"Close\"]>467\n",
    "condition2 = data[\"Open\"]<470\n",
    "condition3 = data[\"Volume\"]> 500000\n",
    "and_condition = condition1 & condition2 & condition3 # making a combined condition\n",
    "and_condition.head()"
   ]
  },
  {
   "cell_type": "markdown",
   "metadata": {},
   "source": [
    "The above code can be reduce to a one line code just by putting all the condtion together. Here is an example. <br/>\n",
    "__`and_condition = (data[\"Close\"]>467) & (data[\"Open\"]<470) & ( data[\"Volume\"] > 500000)`__ "
   ]
  },
  {
   "cell_type": "markdown",
   "metadata": {},
   "source": [
    "If we use __`|`__ insetead of __`&`__, then it is called __`OR`__ condition. And offcourse, __`&`__ is an __`AND`__ condition. "
   ]
  },
  {
   "cell_type": "code",
   "execution_count": 81,
   "metadata": {},
   "outputs": [
    {
     "data": {
      "text/plain": [
       "0     True\n",
       "1     True\n",
       "2     True\n",
       "3     True\n",
       "4    False\n",
       "dtype: bool"
      ]
     },
     "execution_count": 81,
     "metadata": {},
     "output_type": "execute_result"
    }
   ],
   "source": [
    "or_condition = condition1 | condition3 # OR condition for condition1 and condition3. \n",
    "or_condition.head()"
   ]
  },
  {
   "cell_type": "markdown",
   "metadata": {},
   "source": [
    "Now, I want to work with the data where the __`or_condition`__ is true then I can use simple command to select the data. By default __`data[or_condition]`__ will select the data where the __`or_condition`__ holds. Otherwise, we can use __`data[or_condition == False]`__ to invert the selection.  "
   ]
  },
  {
   "cell_type": "code",
   "execution_count": 91,
   "metadata": {},
   "outputs": [
    {
     "data": {
      "text/html": [
       "<div>\n",
       "<style scoped>\n",
       "    .dataframe tbody tr th:only-of-type {\n",
       "        vertical-align: middle;\n",
       "    }\n",
       "\n",
       "    .dataframe tbody tr th {\n",
       "        vertical-align: top;\n",
       "    }\n",
       "\n",
       "    .dataframe thead th {\n",
       "        text-align: right;\n",
       "    }\n",
       "</style>\n",
       "<table border=\"1\" class=\"dataframe\">\n",
       "  <thead>\n",
       "    <tr style=\"text-align: right;\">\n",
       "      <th></th>\n",
       "      <th>Date</th>\n",
       "      <th>Open</th>\n",
       "      <th>High</th>\n",
       "      <th>Low</th>\n",
       "      <th>Close</th>\n",
       "      <th>Adj Close</th>\n",
       "      <th>Volume</th>\n",
       "    </tr>\n",
       "  </thead>\n",
       "  <tbody>\n",
       "    <tr>\n",
       "      <th>0</th>\n",
       "      <td>4/15/2019</td>\n",
       "      <td>456.359985</td>\n",
       "      <td>457.100006</td>\n",
       "      <td>449.769989</td>\n",
       "      <td>451.859985</td>\n",
       "      <td>451.859985</td>\n",
       "      <td>590800</td>\n",
       "    </tr>\n",
       "    <tr>\n",
       "      <th>1</th>\n",
       "      <td>4/16/2019</td>\n",
       "      <td>453.100006</td>\n",
       "      <td>466.890015</td>\n",
       "      <td>453.000000</td>\n",
       "      <td>466.540009</td>\n",
       "      <td>466.540009</td>\n",
       "      <td>1030700</td>\n",
       "    </tr>\n",
       "    <tr>\n",
       "      <th>2</th>\n",
       "      <td>4/17/2019</td>\n",
       "      <td>466.980011</td>\n",
       "      <td>468.779999</td>\n",
       "      <td>462.420013</td>\n",
       "      <td>467.489990</td>\n",
       "      <td>467.489990</td>\n",
       "      <td>628200</td>\n",
       "    </tr>\n",
       "    <tr>\n",
       "      <th>3</th>\n",
       "      <td>4/18/2019</td>\n",
       "      <td>468.779999</td>\n",
       "      <td>469.369995</td>\n",
       "      <td>465.690002</td>\n",
       "      <td>465.690002</td>\n",
       "      <td>465.690002</td>\n",
       "      <td>530400</td>\n",
       "    </tr>\n",
       "    <tr>\n",
       "      <th>5</th>\n",
       "      <td>4/23/2019</td>\n",
       "      <td>464.000000</td>\n",
       "      <td>474.029999</td>\n",
       "      <td>463.899994</td>\n",
       "      <td>474.029999</td>\n",
       "      <td>474.029999</td>\n",
       "      <td>687400</td>\n",
       "    </tr>\n",
       "  </tbody>\n",
       "</table>\n",
       "</div>"
      ],
      "text/plain": [
       "        Date        Open        High         Low       Close   Adj Close  \\\n",
       "0  4/15/2019  456.359985  457.100006  449.769989  451.859985  451.859985   \n",
       "1  4/16/2019  453.100006  466.890015  453.000000  466.540009  466.540009   \n",
       "2  4/17/2019  466.980011  468.779999  462.420013  467.489990  467.489990   \n",
       "3  4/18/2019  468.779999  469.369995  465.690002  465.690002  465.690002   \n",
       "5  4/23/2019  464.000000  474.029999  463.899994  474.029999  474.029999   \n",
       "\n",
       "    Volume  \n",
       "0   590800  \n",
       "1  1030700  \n",
       "2   628200  \n",
       "3   530400  \n",
       "5   687400  "
      ]
     },
     "execution_count": 91,
     "metadata": {},
     "output_type": "execute_result"
    }
   ],
   "source": [
    "data[or_condition].head() #selecting the data where or_condition holds true."
   ]
  },
  {
   "cell_type": "code",
   "execution_count": 96,
   "metadata": {},
   "outputs": [
    {
     "data": {
      "text/html": [
       "<div>\n",
       "<style scoped>\n",
       "    .dataframe tbody tr th:only-of-type {\n",
       "        vertical-align: middle;\n",
       "    }\n",
       "\n",
       "    .dataframe tbody tr th {\n",
       "        vertical-align: top;\n",
       "    }\n",
       "\n",
       "    .dataframe thead th {\n",
       "        text-align: right;\n",
       "    }\n",
       "</style>\n",
       "<table border=\"1\" class=\"dataframe\">\n",
       "  <thead>\n",
       "    <tr style=\"text-align: right;\">\n",
       "      <th></th>\n",
       "      <th>Date</th>\n",
       "      <th>Open</th>\n",
       "      <th>High</th>\n",
       "      <th>Low</th>\n",
       "      <th>Close</th>\n",
       "      <th>Adj Close</th>\n",
       "      <th>Volume</th>\n",
       "    </tr>\n",
       "  </thead>\n",
       "  <tbody>\n",
       "    <tr>\n",
       "      <th>0</th>\n",
       "      <td>True</td>\n",
       "      <td>True</td>\n",
       "      <td>True</td>\n",
       "      <td>True</td>\n",
       "      <td>True</td>\n",
       "      <td>True</td>\n",
       "      <td>True</td>\n",
       "    </tr>\n",
       "    <tr>\n",
       "      <th>1</th>\n",
       "      <td>True</td>\n",
       "      <td>True</td>\n",
       "      <td>True</td>\n",
       "      <td>True</td>\n",
       "      <td>True</td>\n",
       "      <td>True</td>\n",
       "      <td>True</td>\n",
       "    </tr>\n",
       "    <tr>\n",
       "      <th>2</th>\n",
       "      <td>True</td>\n",
       "      <td>True</td>\n",
       "      <td>True</td>\n",
       "      <td>True</td>\n",
       "      <td>True</td>\n",
       "      <td>True</td>\n",
       "      <td>True</td>\n",
       "    </tr>\n",
       "    <tr>\n",
       "      <th>3</th>\n",
       "      <td>True</td>\n",
       "      <td>True</td>\n",
       "      <td>True</td>\n",
       "      <td>True</td>\n",
       "      <td>True</td>\n",
       "      <td>True</td>\n",
       "      <td>True</td>\n",
       "    </tr>\n",
       "    <tr>\n",
       "      <th>5</th>\n",
       "      <td>True</td>\n",
       "      <td>True</td>\n",
       "      <td>True</td>\n",
       "      <td>True</td>\n",
       "      <td>True</td>\n",
       "      <td>True</td>\n",
       "      <td>True</td>\n",
       "    </tr>\n",
       "  </tbody>\n",
       "</table>\n",
       "</div>"
      ],
      "text/plain": [
       "   Date  Open  High   Low  Close  Adj Close  Volume\n",
       "0  True  True  True  True   True       True    True\n",
       "1  True  True  True  True   True       True    True\n",
       "2  True  True  True  True   True       True    True\n",
       "3  True  True  True  True   True       True    True\n",
       "5  True  True  True  True   True       True    True"
      ]
     },
     "execution_count": 96,
     "metadata": {},
     "output_type": "execute_result"
    }
   ],
   "source": [
    "(data.loc[or_condition] == data[or_condition]).head()"
   ]
  },
  {
   "cell_type": "markdown",
   "metadata": {},
   "source": [
    "Both __`data.loc[or_condition]`__ and __`data[or_condition]`__ seems to be same but they do not work if there are __`NaN`__ in the dataframe becuase two __`NaN`__'s are not equal. If we fill the __`NaN`__ as we did earlier then it works."
   ]
  },
  {
   "cell_type": "code",
   "execution_count": 105,
   "metadata": {},
   "outputs": [
    {
     "data": {
      "text/plain": [
       "False"
      ]
     },
     "execution_count": 105,
     "metadata": {},
     "output_type": "execute_result"
    }
   ],
   "source": [
    "(data.loc[or_condition] == data[or_condition]).loc[9][\"Open\"] # Output is \"False\" because there is a NaN at that position."
   ]
  },
  {
   "cell_type": "markdown",
   "metadata": {},
   "source": [
    "The Boolean can be applied to a specific column the same way as we did above. "
   ]
  },
  {
   "cell_type": "code",
   "execution_count": 122,
   "metadata": {},
   "outputs": [
    {
     "data": {
      "text/html": [
       "<div>\n",
       "<style scoped>\n",
       "    .dataframe tbody tr th:only-of-type {\n",
       "        vertical-align: middle;\n",
       "    }\n",
       "\n",
       "    .dataframe tbody tr th {\n",
       "        vertical-align: top;\n",
       "    }\n",
       "\n",
       "    .dataframe thead th {\n",
       "        text-align: right;\n",
       "    }\n",
       "</style>\n",
       "<table border=\"1\" class=\"dataframe\">\n",
       "  <thead>\n",
       "    <tr style=\"text-align: right;\">\n",
       "      <th></th>\n",
       "      <th>Date</th>\n",
       "      <th>Open</th>\n",
       "      <th>High</th>\n",
       "      <th>Low</th>\n",
       "      <th>Close</th>\n",
       "      <th>Adj Close</th>\n",
       "      <th>Volume</th>\n",
       "    </tr>\n",
       "  </thead>\n",
       "  <tbody>\n",
       "    <tr>\n",
       "      <th>0</th>\n",
       "      <td>4/15/2019</td>\n",
       "      <td>456.359985</td>\n",
       "      <td>457.100006</td>\n",
       "      <td>449.769989</td>\n",
       "      <td>451.859985</td>\n",
       "      <td>451.859985</td>\n",
       "      <td>590800</td>\n",
       "    </tr>\n",
       "    <tr>\n",
       "      <th>1</th>\n",
       "      <td>4/16/2019</td>\n",
       "      <td>453.100006</td>\n",
       "      <td>466.890015</td>\n",
       "      <td>453.000000</td>\n",
       "      <td>466.540009</td>\n",
       "      <td>466.540009</td>\n",
       "      <td>1030700</td>\n",
       "    </tr>\n",
       "    <tr>\n",
       "      <th>2</th>\n",
       "      <td>4/17/2019</td>\n",
       "      <td>466.980011</td>\n",
       "      <td>468.779999</td>\n",
       "      <td>462.420013</td>\n",
       "      <td>467.489990</td>\n",
       "      <td>467.489990</td>\n",
       "      <td>628200</td>\n",
       "    </tr>\n",
       "    <tr>\n",
       "      <th>3</th>\n",
       "      <td>4/18/2019</td>\n",
       "      <td>468.779999</td>\n",
       "      <td>469.369995</td>\n",
       "      <td>465.690002</td>\n",
       "      <td>465.690002</td>\n",
       "      <td>465.690002</td>\n",
       "      <td>530400</td>\n",
       "    </tr>\n",
       "    <tr>\n",
       "      <th>5</th>\n",
       "      <td>4/23/2019</td>\n",
       "      <td>464.000000</td>\n",
       "      <td>474.029999</td>\n",
       "      <td>463.899994</td>\n",
       "      <td>474.029999</td>\n",
       "      <td>474.029999</td>\n",
       "      <td>687400</td>\n",
       "    </tr>\n",
       "  </tbody>\n",
       "</table>\n",
       "</div>"
      ],
      "text/plain": [
       "        Date        Open        High         Low       Close   Adj Close  \\\n",
       "0  4/15/2019  456.359985  457.100006  449.769989  451.859985  451.859985   \n",
       "1  4/16/2019  453.100006  466.890015  453.000000  466.540009  466.540009   \n",
       "2  4/17/2019  466.980011  468.779999  462.420013  467.489990  467.489990   \n",
       "3  4/18/2019  468.779999  469.369995  465.690002  465.690002  465.690002   \n",
       "5  4/23/2019  464.000000  474.029999  463.899994  474.029999  474.029999   \n",
       "\n",
       "    Volume  \n",
       "0   590800  \n",
       "1  1030700  \n",
       "2   628200  \n",
       "3   530400  \n",
       "5   687400  "
      ]
     },
     "execution_count": 122,
     "metadata": {},
     "output_type": "execute_result"
    }
   ],
   "source": [
    "data[data[\"Volume\"] > 500000 ].head() # picking the days when the \"Volume\" > 500000."
   ]
  },
  {
   "cell_type": "markdown",
   "metadata": {},
   "source": [
    "The boolean selection is relatively slow than the index selection but boolean selection more flexible than the index seletion. To check the time taken by the command to run, we can add __`%timeit`__ before the code."
   ]
  },
  {
   "cell_type": "code",
   "execution_count": 131,
   "metadata": {},
   "outputs": [
    {
     "name": "stdout",
     "output_type": "stream",
     "text": [
      "1.78 ms ± 265 µs per loop (mean ± std. dev. of 7 runs, 100 loops each)\n",
      "944 µs ± 24.6 µs per loop (mean ± std. dev. of 7 runs, 1000 loops each)\n"
     ]
    }
   ],
   "source": [
    "%timeit data[condition1|condition3]\n",
    "%timeit data[or_condition]"
   ]
  },
  {
   "cell_type": "markdown",
   "metadata": {},
   "source": [
    "### Let's start working in Stock Price way!"
   ]
  },
  {
   "cell_type": "markdown",
   "metadata": {},
   "source": [
    "Here is the code for basic plot of __Closing price__ of the given stocks. Breakdown of each code line given in front of the line."
   ]
  },
  {
   "cell_type": "code",
   "execution_count": 3,
   "metadata": {
    "collapsed": true
   },
   "outputs": [],
   "source": [
    "data_close = data[[\"Date\",'Close']]                          # selecting the data of closing price\n",
    "data_close.set_index(\"Date\", inplace = True)                 # changing the x axis to be the date\n",
    "data_summary = data_close.describe(percentiles=[.1, .9])     # chosing the 10% and 90% precentile\n",
    "upper_10 = data_summary.loc['90%']                           # chosing 90% to be the resistance\n",
    "lower_10 = data_summary.loc['10%']                           # chosing 10% to be the support\n",
    "criteria = (data_close < lower_10) | (data_close > upper_10) # defining the condition \n",
    "data_top_bottom_10 = data_close[criteria]                    # selecting the data which is out of the 10% and 90% precentile "
   ]
  },
  {
   "cell_type": "code",
   "execution_count": 6,
   "metadata": {
    "collapsed": true
   },
   "outputs": [],
   "source": [
    "import matplotlib.pyplot as plt\n",
    "import matplotlib.ticker as ticker"
   ]
  },
  {
   "cell_type": "code",
   "execution_count": 20,
   "metadata": {},
   "outputs": [
    {
     "name": "stderr",
     "output_type": "stream",
     "text": [
      "C:\\Users\\surjeet\\Anaconda3\\lib\\site-packages\\matplotlib\\figure.py:98: MatplotlibDeprecationWarning: \n",
      "Adding an axes using the same arguments as a previous axes currently reuses the earlier instance.  In a future version, a new instance will always be created and returned.  Meanwhile, this warning can be suppressed, and the future behavior ensured, by passing a unique label to each axes instance.\n",
      "  \"Adding an axes using the same arguments as a previous axes \"\n"
     ]
    },
    {
     "data": {
      "image/png": "[encoded data removed]",
      "text/plain": [
       "<Figure size 864x432 with 1 Axes>"
      ]
     },
     "metadata": {},
     "output_type": "display_data"
    }
   ],
   "source": [
    "fig= plt.figure(figsize=(12,6))                                   # Creating the empty plot\n",
    "plt.plot(data_close, color = \"black\")                             # Ploting closing price                       \n",
    "plt.plot(data_top_bottom_10, marker = \"o\", color = \"r\", ms = 5)   # drawing the data points out of the selected percentile\n",
    "(xmin,xmax) = (criteria.index[0], criteria.index[-1])             # Chosing the starting point and end point\n",
    "plt.hlines(y = [upper_10], xmin=xmin,xmax=xmax, color='green')    # drawing the resistance with green\n",
    "plt.hlines(y = [lower_10], xmin = xmin, xmax = xmax,color = 'red')# drawing the support line with red\n",
    "ax = plt.axes()                                                   # making the axis\n",
    "plt.xlabel(\"Date\")                                                # Naming the x-axis\n",
    "plt.ylabel('Closing Price')                                       # Naming the y-axis\n",
    "ax.xaxis.set_major_locator(ticker.MultipleLocator(2))             # Setting the major ticks for x-axis\n",
    "ax.xaxis.set_minor_locator(ticker.MultipleLocator(1))             # Setting the minor ticks for x-axis\n",
    "plt.grid()                                                        # drawing the gridlines\n",
    "plt.show()                                                        # Showing the plot"
   ]
  },
  {
   "cell_type": "markdown",
   "metadata": {
    "collapsed": true
   },
   "source": [
    "From the above graph it is clear that there are only 2 days haivng the closing price above the 480.636010 and lower than 463.615991."
   ]
  },
  {
   "cell_type": "markdown",
   "metadata": {},
   "source": [
    "## Data Aggrigation"
   ]
  },
  {
   "cell_type": "markdown",
   "metadata": {},
   "source": [
    "__Data aggrigation__ is assigning a single value to the column. There are several data aggrigation such as we need mean, median of the column. For __data aggrigation__, catagorical data is a better option to use because we can makes groups for the catagorical data. Let us import some catagorical data."
   ]
  },
  {
   "cell_type": "code",
   "execution_count": 37,
   "metadata": {
    "collapsed": true
   },
   "outputs": [],
   "source": [
    "data1 = pd.read_csv('./data/zomato.csv', nrows = 100)"
   ]
  },
  {
   "cell_type": "markdown",
   "metadata": {},
   "source": [
    "Checking the columns available. It is very important that we should know the available columns and which columns we can drop from the data."
   ]
  },
  {
   "cell_type": "code",
   "execution_count": 28,
   "metadata": {},
   "outputs": [
    {
     "data": {
      "text/plain": [
       "['url',\n",
       " 'address',\n",
       " 'name',\n",
       " 'online_order',\n",
       " 'book_table',\n",
       " 'rate',\n",
       " 'votes',\n",
       " 'phone',\n",
       " 'location',\n",
       " 'rest_type',\n",
       " 'dish_liked',\n",
       " 'cuisines',\n",
       " 'approx_cost(for two people)',\n",
       " 'reviews_list',\n",
       " 'menu_item',\n",
       " 'listed_in(type)',\n",
       " 'listed_in(city)']"
      ]
     },
     "execution_count": 28,
     "metadata": {},
     "output_type": "execute_result"
    }
   ],
   "source": [
    "list(data1.columns)"
   ]
  },
  {
   "cell_type": "markdown",
   "metadata": {},
   "source": [
    "Dropping few columns just for the educational purpose."
   ]
  },
  {
   "cell_type": "code",
   "execution_count": 38,
   "metadata": {},
   "outputs": [],
   "source": [
    "data2=data1[['address', \"name\",\"online_order\",\"book_table\",\"rate\",\"votes\",\"location\",'approx_cost(for two people)']]\n",
    "data3 = data1[[\"address\",\"rest_type\",\"dish_liked\"]] # will use it later."
   ]
  },
  {
   "cell_type": "code",
   "execution_count": 30,
   "metadata": {},
   "outputs": [
    {
     "data": {
      "text/html": [
       "<div>\n",
       "<style scoped>\n",
       "    .dataframe tbody tr th:only-of-type {\n",
       "        vertical-align: middle;\n",
       "    }\n",
       "\n",
       "    .dataframe tbody tr th {\n",
       "        vertical-align: top;\n",
       "    }\n",
       "\n",
       "    .dataframe thead th {\n",
       "        text-align: right;\n",
       "    }\n",
       "</style>\n",
       "<table border=\"1\" class=\"dataframe\">\n",
       "  <thead>\n",
       "    <tr style=\"text-align: right;\">\n",
       "      <th></th>\n",
       "      <th>address</th>\n",
       "      <th>name</th>\n",
       "      <th>online_order</th>\n",
       "      <th>book_table</th>\n",
       "      <th>rate</th>\n",
       "      <th>votes</th>\n",
       "      <th>location</th>\n",
       "      <th>approx_cost(for two people)</th>\n",
       "    </tr>\n",
       "  </thead>\n",
       "  <tbody>\n",
       "    <tr>\n",
       "      <th>0</th>\n",
       "      <td>942, 21st Main Road, 2nd Stage, Banashankari, ...</td>\n",
       "      <td>Jalsa</td>\n",
       "      <td>Yes</td>\n",
       "      <td>Yes</td>\n",
       "      <td>4.1/5</td>\n",
       "      <td>775</td>\n",
       "      <td>Banashankari</td>\n",
       "      <td>800</td>\n",
       "    </tr>\n",
       "    <tr>\n",
       "      <th>1</th>\n",
       "      <td>2nd Floor, 80 Feet Road, Near Big Bazaar, 6th ...</td>\n",
       "      <td>Spice Elephant</td>\n",
       "      <td>Yes</td>\n",
       "      <td>No</td>\n",
       "      <td>4.1/5</td>\n",
       "      <td>787</td>\n",
       "      <td>Banashankari</td>\n",
       "      <td>800</td>\n",
       "    </tr>\n",
       "    <tr>\n",
       "      <th>2</th>\n",
       "      <td>1112, Next to KIMS Medical College, 17th Cross...</td>\n",
       "      <td>San Churro Cafe</td>\n",
       "      <td>Yes</td>\n",
       "      <td>No</td>\n",
       "      <td>3.8/5</td>\n",
       "      <td>918</td>\n",
       "      <td>Banashankari</td>\n",
       "      <td>800</td>\n",
       "    </tr>\n",
       "    <tr>\n",
       "      <th>3</th>\n",
       "      <td>1st Floor, Annakuteera, 3rd Stage, Banashankar...</td>\n",
       "      <td>Addhuri Udupi Bhojana</td>\n",
       "      <td>No</td>\n",
       "      <td>No</td>\n",
       "      <td>3.7/5</td>\n",
       "      <td>88</td>\n",
       "      <td>Banashankari</td>\n",
       "      <td>300</td>\n",
       "    </tr>\n",
       "    <tr>\n",
       "      <th>4</th>\n",
       "      <td>10, 3rd Floor, Lakshmi Associates, Gandhi Baza...</td>\n",
       "      <td>Grand Village</td>\n",
       "      <td>No</td>\n",
       "      <td>No</td>\n",
       "      <td>3.8/5</td>\n",
       "      <td>166</td>\n",
       "      <td>Basavanagudi</td>\n",
       "      <td>600</td>\n",
       "    </tr>\n",
       "  </tbody>\n",
       "</table>\n",
       "</div>"
      ],
      "text/plain": [
       "                                             address                   name  \\\n",
       "0  942, 21st Main Road, 2nd Stage, Banashankari, ...                  Jalsa   \n",
       "1  2nd Floor, 80 Feet Road, Near Big Bazaar, 6th ...         Spice Elephant   \n",
       "2  1112, Next to KIMS Medical College, 17th Cross...        San Churro Cafe   \n",
       "3  1st Floor, Annakuteera, 3rd Stage, Banashankar...  Addhuri Udupi Bhojana   \n",
       "4  10, 3rd Floor, Lakshmi Associates, Gandhi Baza...          Grand Village   \n",
       "\n",
       "  online_order book_table   rate  votes      location  \\\n",
       "0          Yes        Yes  4.1/5    775  Banashankari   \n",
       "1          Yes         No  4.1/5    787  Banashankari   \n",
       "2          Yes         No  3.8/5    918  Banashankari   \n",
       "3           No         No  3.7/5     88  Banashankari   \n",
       "4           No         No  3.8/5    166  Basavanagudi   \n",
       "\n",
       "  approx_cost(for two people)  \n",
       "0                         800  \n",
       "1                         800  \n",
       "2                         800  \n",
       "3                         300  \n",
       "4                         600  "
      ]
     },
     "execution_count": 30,
     "metadata": {},
     "output_type": "execute_result"
    }
   ],
   "source": [
    "data2.head()"
   ]
  },
  {
   "cell_type": "markdown",
   "metadata": {},
   "source": [
    "Let us create little question that I would like to know the average rating for the restaurant which have/not have option for online order. To solve this problem, I have to group the data into two groups one group consists the restaurant have online order booking and other do not have that option."
   ]
  },
  {
   "cell_type": "markdown",
   "metadata": {},
   "source": [
    "Before taking the mean of both groups, I should convert the __\"rate\"__ column into datatype as it is an object."
   ]
  },
  {
   "cell_type": "code",
   "execution_count": 102,
   "metadata": {},
   "outputs": [
    {
     "data": {
      "text/plain": [
       "address                        object\n",
       "name                           object\n",
       "online_order                   object\n",
       "book_table                     object\n",
       "rate                           object\n",
       "votes                           int64\n",
       "location                       object\n",
       "approx_cost(for two people)    object\n",
       "dtype: object"
      ]
     },
     "execution_count": 102,
     "metadata": {},
     "output_type": "execute_result"
    }
   ],
   "source": [
    "data2.dtypes"
   ]
  },
  {
   "cell_type": "markdown",
   "metadata": {},
   "source": [
    "By reading the values of the __rate__ column, I get the information that it has a general format as __4.5/5__. I don't need __/5__ so I need to slice it out. So here is one line code to perform this task."
   ]
  },
  {
   "cell_type": "code",
   "execution_count": 31,
   "metadata": {},
   "outputs": [
    {
     "name": "stderr",
     "output_type": "stream",
     "text": [
      "C:\\Users\\surjeet\\Anaconda3\\lib\\site-packages\\ipykernel_launcher.py:1: SettingWithCopyWarning: \n",
      "A value is trying to be set on a copy of a slice from a DataFrame.\n",
      "Try using .loc[row_indexer,col_indexer] = value instead\n",
      "\n",
      "See the caveats in the documentation: http://pandas.pydata.org/pandas-docs/stable/indexing.html#indexing-view-versus-copy\n",
      "  \"\"\"Entry point for launching an IPython kernel.\n"
     ]
    }
   ],
   "source": [
    "data2[\"rate\"]= data2[\"rate\"].str.slice(0,-2,1)          # command to slice /5 from the rate column"
   ]
  },
  {
   "cell_type": "code",
   "execution_count": 129,
   "metadata": {},
   "outputs": [
    {
     "data": {
      "text/plain": [
       "0    4.1\n",
       "1    4.1\n",
       "2    3.8\n",
       "3    3.7\n",
       "Name: rate, dtype: object"
      ]
     },
     "execution_count": 129,
     "metadata": {},
     "output_type": "execute_result"
    }
   ],
   "source": [
    "data2[\"rate\"][:4]"
   ]
  },
  {
   "cell_type": "code",
   "execution_count": 130,
   "metadata": {},
   "outputs": [
    {
     "data": {
      "text/html": [
       "<div>\n",
       "<style scoped>\n",
       "    .dataframe tbody tr th:only-of-type {\n",
       "        vertical-align: middle;\n",
       "    }\n",
       "\n",
       "    .dataframe tbody tr th {\n",
       "        vertical-align: top;\n",
       "    }\n",
       "\n",
       "    .dataframe thead th {\n",
       "        text-align: right;\n",
       "    }\n",
       "</style>\n",
       "<table border=\"1\" class=\"dataframe\">\n",
       "  <thead>\n",
       "    <tr style=\"text-align: right;\">\n",
       "      <th></th>\n",
       "      <th>address</th>\n",
       "      <th>name</th>\n",
       "      <th>online_order</th>\n",
       "      <th>book_table</th>\n",
       "      <th>rate</th>\n",
       "      <th>votes</th>\n",
       "      <th>location</th>\n",
       "      <th>approx_cost(for two people)</th>\n",
       "    </tr>\n",
       "  </thead>\n",
       "  <tbody>\n",
       "    <tr>\n",
       "      <th>0</th>\n",
       "      <td>942, 21st Main Road, 2nd Stage, Banashankari, ...</td>\n",
       "      <td>Jalsa</td>\n",
       "      <td>Yes</td>\n",
       "      <td>Yes</td>\n",
       "      <td>4.1</td>\n",
       "      <td>775</td>\n",
       "      <td>Banashankari</td>\n",
       "      <td>800</td>\n",
       "    </tr>\n",
       "    <tr>\n",
       "      <th>1</th>\n",
       "      <td>2nd Floor, 80 Feet Road, Near Big Bazaar, 6th ...</td>\n",
       "      <td>Spice Elephant</td>\n",
       "      <td>Yes</td>\n",
       "      <td>No</td>\n",
       "      <td>4.1</td>\n",
       "      <td>787</td>\n",
       "      <td>Banashankari</td>\n",
       "      <td>800</td>\n",
       "    </tr>\n",
       "    <tr>\n",
       "      <th>2</th>\n",
       "      <td>1112, Next to KIMS Medical College, 17th Cross...</td>\n",
       "      <td>San Churro Cafe</td>\n",
       "      <td>Yes</td>\n",
       "      <td>No</td>\n",
       "      <td>3.8</td>\n",
       "      <td>918</td>\n",
       "      <td>Banashankari</td>\n",
       "      <td>800</td>\n",
       "    </tr>\n",
       "    <tr>\n",
       "      <th>3</th>\n",
       "      <td>1st Floor, Annakuteera, 3rd Stage, Banashankar...</td>\n",
       "      <td>Addhuri Udupi Bhojana</td>\n",
       "      <td>No</td>\n",
       "      <td>No</td>\n",
       "      <td>3.7</td>\n",
       "      <td>88</td>\n",
       "      <td>Banashankari</td>\n",
       "      <td>300</td>\n",
       "    </tr>\n",
       "    <tr>\n",
       "      <th>4</th>\n",
       "      <td>10, 3rd Floor, Lakshmi Associates, Gandhi Baza...</td>\n",
       "      <td>Grand Village</td>\n",
       "      <td>No</td>\n",
       "      <td>No</td>\n",
       "      <td>3.8</td>\n",
       "      <td>166</td>\n",
       "      <td>Basavanagudi</td>\n",
       "      <td>600</td>\n",
       "    </tr>\n",
       "  </tbody>\n",
       "</table>\n",
       "</div>"
      ],
      "text/plain": [
       "                                             address                   name  \\\n",
       "0  942, 21st Main Road, 2nd Stage, Banashankari, ...                  Jalsa   \n",
       "1  2nd Floor, 80 Feet Road, Near Big Bazaar, 6th ...         Spice Elephant   \n",
       "2  1112, Next to KIMS Medical College, 17th Cross...        San Churro Cafe   \n",
       "3  1st Floor, Annakuteera, 3rd Stage, Banashankar...  Addhuri Udupi Bhojana   \n",
       "4  10, 3rd Floor, Lakshmi Associates, Gandhi Baza...          Grand Village   \n",
       "\n",
       "  online_order book_table rate  votes      location  \\\n",
       "0          Yes        Yes  4.1    775  Banashankari   \n",
       "1          Yes         No  4.1    787  Banashankari   \n",
       "2          Yes         No  3.8    918  Banashankari   \n",
       "3           No         No  3.7     88  Banashankari   \n",
       "4           No         No  3.8    166  Basavanagudi   \n",
       "\n",
       "  approx_cost(for two people)  \n",
       "0                         800  \n",
       "1                         800  \n",
       "2                         800  \n",
       "3                         300  \n",
       "4                         600  "
      ]
     },
     "execution_count": 130,
     "metadata": {},
     "output_type": "execute_result"
    }
   ],
   "source": [
    "data2.head()"
   ]
  },
  {
   "cell_type": "markdown",
   "metadata": {},
   "source": [
    "__Wait!!!__ this column is not ready to perform any calculations yet. As you can see that the datatype is still __object.__ __Well!__,This is a simple task."
   ]
  },
  {
   "cell_type": "code",
   "execution_count": 131,
   "metadata": {},
   "outputs": [
    {
     "name": "stderr",
     "output_type": "stream",
     "text": [
      "C:\\Users\\surjeet\\Anaconda3\\lib\\site-packages\\ipykernel_launcher.py:1: SettingWithCopyWarning: \n",
      "A value is trying to be set on a copy of a slice from a DataFrame.\n",
      "Try using .loc[row_indexer,col_indexer] = value instead\n",
      "\n",
      "See the caveats in the documentation: http://pandas.pydata.org/pandas-docs/stable/indexing.html#indexing-view-versus-copy\n",
      "  \"\"\"Entry point for launching an IPython kernel.\n"
     ]
    },
    {
     "data": {
      "text/plain": [
       "0    4.1\n",
       "1    4.1\n",
       "2    3.8\n",
       "3    3.7\n",
       "Name: rate, dtype: float64"
      ]
     },
     "execution_count": 131,
     "metadata": {},
     "output_type": "execute_result"
    }
   ],
   "source": [
    "data2['rate'] = pd.to_numeric(data2['rate'], errors='coerce')   # changing string into float\n",
    "data2[\"rate\"][:4]"
   ]
  },
  {
   "cell_type": "markdown",
   "metadata": {},
   "source": [
    "As we can see that the datatype for the rate column is float64 now. Now, this column is ready perform calculations."
   ]
  },
  {
   "cell_type": "code",
   "execution_count": 132,
   "metadata": {},
   "outputs": [
    {
     "data": {
      "text/plain": [
       "online_order\n",
       "No     3.676923\n",
       "Yes    3.850909\n",
       "Name: rate, dtype: float64"
      ]
     },
     "execution_count": 132,
     "metadata": {},
     "output_type": "execute_result"
    }
   ],
   "source": [
    "data2.groupby(\"online_order\")[\"rate\"].mean()      # caculating the average value rating"
   ]
  },
  {
   "cell_type": "markdown",
   "metadata": {},
   "source": [
    "The inference from this data is that the people prefer the restaurants having option for onine booking."
   ]
  },
  {
   "cell_type": "markdown",
   "metadata": {},
   "source": [
    "**Well!** this can be done in one go for all the columns with numeric datatype. Here is the example."
   ]
  },
  {
   "cell_type": "code",
   "execution_count": 133,
   "metadata": {},
   "outputs": [
    {
     "data": {
      "text/html": [
       "<div>\n",
       "<style scoped>\n",
       "    .dataframe tbody tr th:only-of-type {\n",
       "        vertical-align: middle;\n",
       "    }\n",
       "\n",
       "    .dataframe tbody tr th {\n",
       "        vertical-align: top;\n",
       "    }\n",
       "\n",
       "    .dataframe thead th {\n",
       "        text-align: right;\n",
       "    }\n",
       "</style>\n",
       "<table border=\"1\" class=\"dataframe\">\n",
       "  <thead>\n",
       "    <tr style=\"text-align: right;\">\n",
       "      <th></th>\n",
       "      <th>rate</th>\n",
       "      <th>votes</th>\n",
       "    </tr>\n",
       "    <tr>\n",
       "      <th>online_order</th>\n",
       "      <th></th>\n",
       "      <th></th>\n",
       "    </tr>\n",
       "  </thead>\n",
       "  <tbody>\n",
       "    <tr>\n",
       "      <th>No</th>\n",
       "      <td>3.676923</td>\n",
       "      <td>139.111111</td>\n",
       "    </tr>\n",
       "    <tr>\n",
       "      <th>Yes</th>\n",
       "      <td>3.850909</td>\n",
       "      <td>570.963636</td>\n",
       "    </tr>\n",
       "  </tbody>\n",
       "</table>\n",
       "</div>"
      ],
      "text/plain": [
       "                  rate       votes\n",
       "online_order                      \n",
       "No            3.676923  139.111111\n",
       "Yes           3.850909  570.963636"
      ]
     },
     "execution_count": 133,
     "metadata": {},
     "output_type": "execute_result"
    }
   ],
   "source": [
    "data2.groupby(\"online_order\").mean()"
   ]
  },
  {
   "cell_type": "markdown",
   "metadata": {},
   "source": [
    "In the case of large number of columns, the name of the column may misleads. To avoid this we will rename the column when we aggregate the data."
   ]
  },
  {
   "cell_type": "code",
   "execution_count": 134,
   "metadata": {},
   "outputs": [
    {
     "data": {
      "text/html": [
       "<div>\n",
       "<style scoped>\n",
       "    .dataframe tbody tr th:only-of-type {\n",
       "        vertical-align: middle;\n",
       "    }\n",
       "\n",
       "    .dataframe tbody tr th {\n",
       "        vertical-align: top;\n",
       "    }\n",
       "\n",
       "    .dataframe thead th {\n",
       "        text-align: right;\n",
       "    }\n",
       "</style>\n",
       "<table border=\"1\" class=\"dataframe\">\n",
       "  <thead>\n",
       "    <tr style=\"text-align: right;\">\n",
       "      <th></th>\n",
       "      <th>mean_rate</th>\n",
       "      <th>mean_votes</th>\n",
       "    </tr>\n",
       "    <tr>\n",
       "      <th>online_order</th>\n",
       "      <th></th>\n",
       "      <th></th>\n",
       "    </tr>\n",
       "  </thead>\n",
       "  <tbody>\n",
       "    <tr>\n",
       "      <th>No</th>\n",
       "      <td>3.676923</td>\n",
       "      <td>139.111111</td>\n",
       "    </tr>\n",
       "    <tr>\n",
       "      <th>Yes</th>\n",
       "      <td>3.850909</td>\n",
       "      <td>570.963636</td>\n",
       "    </tr>\n",
       "  </tbody>\n",
       "</table>\n",
       "</div>"
      ],
      "text/plain": [
       "              mean_rate  mean_votes\n",
       "online_order                       \n",
       "No             3.676923  139.111111\n",
       "Yes            3.850909  570.963636"
      ]
     },
     "execution_count": 134,
     "metadata": {},
     "output_type": "execute_result"
    }
   ],
   "source": [
    "data2.groupby(\"online_order\").mean().add_prefix(\"mean_\")"
   ]
  },
  {
   "cell_type": "markdown",
   "metadata": {},
   "source": [
    "`groupby` operation can take a list as an argument. It will group the data by all input arguments."
   ]
  },
  {
   "cell_type": "code",
   "execution_count": 136,
   "metadata": {},
   "outputs": [
    {
     "data": {
      "text/html": [
       "<div>\n",
       "<style scoped>\n",
       "    .dataframe tbody tr th:only-of-type {\n",
       "        vertical-align: middle;\n",
       "    }\n",
       "\n",
       "    .dataframe tbody tr th {\n",
       "        vertical-align: top;\n",
       "    }\n",
       "\n",
       "    .dataframe thead th {\n",
       "        text-align: right;\n",
       "    }\n",
       "</style>\n",
       "<table border=\"1\" class=\"dataframe\">\n",
       "  <thead>\n",
       "    <tr style=\"text-align: right;\">\n",
       "      <th></th>\n",
       "      <th></th>\n",
       "      <th></th>\n",
       "      <th>rate</th>\n",
       "      <th>votes</th>\n",
       "    </tr>\n",
       "    <tr>\n",
       "      <th>location</th>\n",
       "      <th>online_order</th>\n",
       "      <th>book_table</th>\n",
       "      <th></th>\n",
       "      <th></th>\n",
       "    </tr>\n",
       "  </thead>\n",
       "  <tbody>\n",
       "    <tr>\n",
       "      <th rowspan=\"4\" valign=\"top\">Banashankari</th>\n",
       "      <th rowspan=\"2\" valign=\"top\">No</th>\n",
       "      <th>No</th>\n",
       "      <td>3.662857</td>\n",
       "      <td>125.121951</td>\n",
       "    </tr>\n",
       "    <tr>\n",
       "      <th>Yes</th>\n",
       "      <td>4.000000</td>\n",
       "      <td>808.000000</td>\n",
       "    </tr>\n",
       "    <tr>\n",
       "      <th rowspan=\"2\" valign=\"top\">Yes</th>\n",
       "      <th>No</th>\n",
       "      <td>3.766667</td>\n",
       "      <td>315.966667</td>\n",
       "    </tr>\n",
       "    <tr>\n",
       "      <th>Yes</th>\n",
       "      <td>4.316667</td>\n",
       "      <td>1092.500000</td>\n",
       "    </tr>\n",
       "    <tr>\n",
       "      <th rowspan=\"2\" valign=\"top\">Basavanagudi</th>\n",
       "      <th>No</th>\n",
       "      <th>No</th>\n",
       "      <td>3.800000</td>\n",
       "      <td>157.000000</td>\n",
       "    </tr>\n",
       "    <tr>\n",
       "      <th>Yes</th>\n",
       "      <th>No</th>\n",
       "      <td>3.825000</td>\n",
       "      <td>389.500000</td>\n",
       "    </tr>\n",
       "    <tr>\n",
       "      <th>Jayanagar</th>\n",
       "      <th>Yes</th>\n",
       "      <th>No</th>\n",
       "      <td>4.100000</td>\n",
       "      <td>2484.250000</td>\n",
       "    </tr>\n",
       "    <tr>\n",
       "      <th rowspan=\"2\" valign=\"top\">Kumaraswamy Layout</th>\n",
       "      <th rowspan=\"2\" valign=\"top\">Yes</th>\n",
       "      <th>No</th>\n",
       "      <td>3.566667</td>\n",
       "      <td>431.000000</td>\n",
       "    </tr>\n",
       "    <tr>\n",
       "      <th>Yes</th>\n",
       "      <td>3.600000</td>\n",
       "      <td>163.000000</td>\n",
       "    </tr>\n",
       "    <tr>\n",
       "      <th>Mysore Road</th>\n",
       "      <th>No</th>\n",
       "      <th>No</th>\n",
       "      <td>3.600000</td>\n",
       "      <td>8.000000</td>\n",
       "    </tr>\n",
       "    <tr>\n",
       "      <th>Rajarajeshwari Nagar</th>\n",
       "      <th>Yes</th>\n",
       "      <th>No</th>\n",
       "      <td>3.700000</td>\n",
       "      <td>679.000000</td>\n",
       "    </tr>\n",
       "    <tr>\n",
       "      <th>Vijay Nagar</th>\n",
       "      <th>Yes</th>\n",
       "      <th>No</th>\n",
       "      <td>3.950000</td>\n",
       "      <td>90.500000</td>\n",
       "    </tr>\n",
       "  </tbody>\n",
       "</table>\n",
       "</div>"
      ],
      "text/plain": [
       "                                                  rate        votes\n",
       "location             online_order book_table                       \n",
       "Banashankari         No           No          3.662857   125.121951\n",
       "                                  Yes         4.000000   808.000000\n",
       "                     Yes          No          3.766667   315.966667\n",
       "                                  Yes         4.316667  1092.500000\n",
       "Basavanagudi         No           No          3.800000   157.000000\n",
       "                     Yes          No          3.825000   389.500000\n",
       "Jayanagar            Yes          No          4.100000  2484.250000\n",
       "Kumaraswamy Layout   Yes          No          3.566667   431.000000\n",
       "                                  Yes         3.600000   163.000000\n",
       "Mysore Road          No           No          3.600000     8.000000\n",
       "Rajarajeshwari Nagar Yes          No          3.700000   679.000000\n",
       "Vijay Nagar          Yes          No          3.950000    90.500000"
      ]
     },
     "execution_count": 136,
     "metadata": {},
     "output_type": "execute_result"
    }
   ],
   "source": [
    "data2.groupby([\"location\",\"online_order\",\"book_table\"]).mean()\n",
    "#data1.groupby([\"location\",\"online_order\",\"book_table\"]).mean().unstack()    # try it and observe the changes"
   ]
  },
  {
   "cell_type": "markdown",
   "metadata": {},
   "source": [
    "As we can see here that the data is grouped in a sequence of arguments passed."
   ]
  },
  {
   "cell_type": "markdown",
   "metadata": {},
   "source": [
    "The above table only represent the means of the grouped data but how do we know that how many values are there underlying this mean value!<br/>\n",
    "**Don't worry!!** `pandas` will do it for you."
   ]
  },
  {
   "cell_type": "code",
   "execution_count": 14,
   "metadata": {},
   "outputs": [
    {
     "data": {
      "text/plain": [
       "location              online_order  book_table\n",
       "Banashankari          No            No            41\n",
       "                                    Yes            1\n",
       "                      Yes           No            30\n",
       "                                    Yes            6\n",
       "Basavanagudi          No            No             2\n",
       "                      Yes           No             8\n",
       "Jayanagar             Yes           No             4\n",
       "Kumaraswamy Layout    Yes           No             3\n",
       "                                    Yes            1\n",
       "Mysore Road           No            No             1\n",
       "Rajarajeshwari Nagar  Yes           No             1\n",
       "Vijay Nagar           Yes           No             2\n",
       "dtype: int64"
      ]
     },
     "execution_count": 14,
     "metadata": {},
     "output_type": "execute_result"
    }
   ],
   "source": [
    "data2.groupby([\"location\",\"online_order\",\"book_table\"]).size()"
   ]
  },
  {
   "cell_type": "markdown",
   "metadata": {},
   "source": [
    "In the large datasets aggregating over all the columns is not a good idea. Desired column can be chosen by one line code."
   ]
  },
  {
   "cell_type": "code",
   "execution_count": 137,
   "metadata": {},
   "outputs": [
    {
     "data": {
      "text/plain": [
       "location              online_order  book_table\n",
       "Banashankari          No            No            3.662857\n",
       "                                    Yes           4.000000\n",
       "                      Yes           No            3.766667\n",
       "                                    Yes           4.316667\n",
       "Basavanagudi          No            No            3.800000\n",
       "                      Yes           No            3.825000\n",
       "Jayanagar             Yes           No            4.100000\n",
       "Kumaraswamy Layout    Yes           No            3.566667\n",
       "                                    Yes           3.600000\n",
       "Mysore Road           No            No            3.600000\n",
       "Rajarajeshwari Nagar  Yes           No            3.700000\n",
       "Vijay Nagar           Yes           No            3.950000\n",
       "Name: rate, dtype: float64"
      ]
     },
     "execution_count": 137,
     "metadata": {},
     "output_type": "execute_result"
    }
   ],
   "source": [
    "data2.groupby([\"location\",\"online_order\",\"book_table\"])[\"rate\"].mean() # applying aggregation only on rate column"
   ]
  },
  {
   "cell_type": "code",
   "execution_count": 187,
   "metadata": {
    "collapsed": true
   },
   "outputs": [],
   "source": [
    "def top_n(df, n=5, column='rate'):return df.sort_values(by=column, ascending = False)[:n] #return top 5 values of passed columns "
   ]
  },
  {
   "cell_type": "code",
   "execution_count": 184,
   "metadata": {},
   "outputs": [
    {
     "data": {
      "text/html": [
       "<div>\n",
       "<style scoped>\n",
       "    .dataframe tbody tr th:only-of-type {\n",
       "        vertical-align: middle;\n",
       "    }\n",
       "\n",
       "    .dataframe tbody tr th {\n",
       "        vertical-align: top;\n",
       "    }\n",
       "\n",
       "    .dataframe thead th {\n",
       "        text-align: right;\n",
       "    }\n",
       "</style>\n",
       "<table border=\"1\" class=\"dataframe\">\n",
       "  <thead>\n",
       "    <tr style=\"text-align: right;\">\n",
       "      <th></th>\n",
       "      <th>address</th>\n",
       "      <th>name</th>\n",
       "      <th>online_order</th>\n",
       "      <th>book_table</th>\n",
       "      <th>rate</th>\n",
       "      <th>votes</th>\n",
       "      <th>location</th>\n",
       "      <th>approx_cost(for two people)</th>\n",
       "    </tr>\n",
       "  </thead>\n",
       "  <tbody>\n",
       "    <tr>\n",
       "      <th>38</th>\n",
       "      <td>4, Opposite NMKRV College, 21st C Cross Road, ...</td>\n",
       "      <td>Empire Restaurant</td>\n",
       "      <td>Yes</td>\n",
       "      <td>No</td>\n",
       "      <td>4.4</td>\n",
       "      <td>4884</td>\n",
       "      <td>Jayanagar</td>\n",
       "      <td>750</td>\n",
       "    </tr>\n",
       "    <tr>\n",
       "      <th>86</th>\n",
       "      <td>52, 1st Floor, 33rd Cross, 4th Block, Jayanaga...</td>\n",
       "      <td>Meghana Foods</td>\n",
       "      <td>Yes</td>\n",
       "      <td>No</td>\n",
       "      <td>4.4</td>\n",
       "      <td>4401</td>\n",
       "      <td>Jayanagar</td>\n",
       "      <td>600</td>\n",
       "    </tr>\n",
       "    <tr>\n",
       "      <th>7</th>\n",
       "      <td>2469, 3rd Floor, 24th Cross, Opposite BDA Comp...</td>\n",
       "      <td>Onesta</td>\n",
       "      <td>Yes</td>\n",
       "      <td>Yes</td>\n",
       "      <td>4.6</td>\n",
       "      <td>2556</td>\n",
       "      <td>Banashankari</td>\n",
       "      <td>600</td>\n",
       "    </tr>\n",
       "    <tr>\n",
       "      <th>44</th>\n",
       "      <td>2469, 3rd Floor, 24th Cross, Opposite BDA Comp...</td>\n",
       "      <td>Onesta</td>\n",
       "      <td>Yes</td>\n",
       "      <td>Yes</td>\n",
       "      <td>4.6</td>\n",
       "      <td>2556</td>\n",
       "      <td>Banashankari</td>\n",
       "      <td>600</td>\n",
       "    </tr>\n",
       "    <tr>\n",
       "      <th>65</th>\n",
       "      <td>31, Opposite Vijaya College, RV Road, Basavana...</td>\n",
       "      <td>Kabab Magic</td>\n",
       "      <td>Yes</td>\n",
       "      <td>No</td>\n",
       "      <td>4.1</td>\n",
       "      <td>1720</td>\n",
       "      <td>Basavanagudi</td>\n",
       "      <td>400</td>\n",
       "    </tr>\n",
       "    <tr>\n",
       "      <th>37</th>\n",
       "      <td>8, 2nd Floor, 1st Main, Arush Trapeze, Mount J...</td>\n",
       "      <td>Szechuan Dragon</td>\n",
       "      <td>Yes</td>\n",
       "      <td>No</td>\n",
       "      <td>4.2</td>\n",
       "      <td>1647</td>\n",
       "      <td>Banashankari</td>\n",
       "      <td>600</td>\n",
       "    </tr>\n",
       "  </tbody>\n",
       "</table>\n",
       "</div>"
      ],
      "text/plain": [
       "                                              address               name  \\\n",
       "38  4, Opposite NMKRV College, 21st C Cross Road, ...  Empire Restaurant   \n",
       "86  52, 1st Floor, 33rd Cross, 4th Block, Jayanaga...      Meghana Foods   \n",
       "7   2469, 3rd Floor, 24th Cross, Opposite BDA Comp...             Onesta   \n",
       "44  2469, 3rd Floor, 24th Cross, Opposite BDA Comp...             Onesta   \n",
       "65  31, Opposite Vijaya College, RV Road, Basavana...        Kabab Magic   \n",
       "37  8, 2nd Floor, 1st Main, Arush Trapeze, Mount J...    Szechuan Dragon   \n",
       "\n",
       "   online_order book_table  rate  votes      location  \\\n",
       "38          Yes         No   4.4   4884     Jayanagar   \n",
       "86          Yes         No   4.4   4401     Jayanagar   \n",
       "7           Yes        Yes   4.6   2556  Banashankari   \n",
       "44          Yes        Yes   4.6   2556  Banashankari   \n",
       "65          Yes         No   4.1   1720  Basavanagudi   \n",
       "37          Yes         No   4.2   1647  Banashankari   \n",
       "\n",
       "   approx_cost(for two people)  \n",
       "38                         750  \n",
       "86                         600  \n",
       "7                          600  \n",
       "44                         600  \n",
       "65                         400  \n",
       "37                         600  "
      ]
     },
     "execution_count": 184,
     "metadata": {},
     "output_type": "execute_result"
    }
   ],
   "source": [
    "top_n(data2, 6 , \"votes\") # input parameters can be changed"
   ]
  },
  {
   "cell_type": "markdown",
   "metadata": {},
   "source": [
    "So there are the top 5 restaurant of Banglore by rating. This function can be applied to complete dataset by using `apply` method. The `apply` method apply the defined fuction on the complete dataset."
   ]
  },
  {
   "cell_type": "code",
   "execution_count": 191,
   "metadata": {},
   "outputs": [
    {
     "data": {
      "text/html": [
       "<div>\n",
       "<style scoped>\n",
       "    .dataframe tbody tr th:only-of-type {\n",
       "        vertical-align: middle;\n",
       "    }\n",
       "\n",
       "    .dataframe tbody tr th {\n",
       "        vertical-align: top;\n",
       "    }\n",
       "\n",
       "    .dataframe thead th {\n",
       "        text-align: right;\n",
       "    }\n",
       "</style>\n",
       "<table border=\"1\" class=\"dataframe\">\n",
       "  <thead>\n",
       "    <tr style=\"text-align: right;\">\n",
       "      <th></th>\n",
       "      <th></th>\n",
       "      <th>address</th>\n",
       "      <th>name</th>\n",
       "      <th>online_order</th>\n",
       "      <th>book_table</th>\n",
       "      <th>rate</th>\n",
       "      <th>votes</th>\n",
       "      <th>location</th>\n",
       "      <th>approx_cost(for two people)</th>\n",
       "    </tr>\n",
       "    <tr>\n",
       "      <th>online_order</th>\n",
       "      <th></th>\n",
       "      <th></th>\n",
       "      <th></th>\n",
       "      <th></th>\n",
       "      <th></th>\n",
       "      <th></th>\n",
       "      <th></th>\n",
       "      <th></th>\n",
       "      <th></th>\n",
       "    </tr>\n",
       "  </thead>\n",
       "  <tbody>\n",
       "    <tr>\n",
       "      <th rowspan=\"5\" valign=\"top\">No</th>\n",
       "      <th>52</th>\n",
       "      <td>808/6-1, 24th A Cross, K.R Road, 2nd Stage, Ba...</td>\n",
       "      <td>Corner House Ice Cream</td>\n",
       "      <td>No</td>\n",
       "      <td>No</td>\n",
       "      <td>4.3</td>\n",
       "      <td>345</td>\n",
       "      <td>Banashankari</td>\n",
       "      <td>400</td>\n",
       "    </tr>\n",
       "    <tr>\n",
       "      <th>60</th>\n",
       "      <td>942, 3rd Floor, 21st Main Road, 2nd Stage, Ban...</td>\n",
       "      <td>Peppy Peppers</td>\n",
       "      <td>No</td>\n",
       "      <td>No</td>\n",
       "      <td>4.2</td>\n",
       "      <td>244</td>\n",
       "      <td>Banashankari</td>\n",
       "      <td>800</td>\n",
       "    </tr>\n",
       "    <tr>\n",
       "      <th>67</th>\n",
       "      <td>10, 30th Main, Deve Gowda Petrol Bunk Road, 3r...</td>\n",
       "      <td>Gustoes Beer House</td>\n",
       "      <td>No</td>\n",
       "      <td>No</td>\n",
       "      <td>4.1</td>\n",
       "      <td>868</td>\n",
       "      <td>Banashankari</td>\n",
       "      <td>1,200</td>\n",
       "    </tr>\n",
       "    <tr>\n",
       "      <th>71</th>\n",
       "      <td>476, 2nd Floor, 9th Cross, Avalahalli BDA Park...</td>\n",
       "      <td>The Biryani Cafe</td>\n",
       "      <td>No</td>\n",
       "      <td>No</td>\n",
       "      <td>4.1</td>\n",
       "      <td>520</td>\n",
       "      <td>Banashankari</td>\n",
       "      <td>300</td>\n",
       "    </tr>\n",
       "    <tr>\n",
       "      <th>13</th>\n",
       "      <td>111, Sapphire Toys Building, 100 Feet Ring Roa...</td>\n",
       "      <td>Caf-Eleven</td>\n",
       "      <td>No</td>\n",
       "      <td>No</td>\n",
       "      <td>4.0</td>\n",
       "      <td>424</td>\n",
       "      <td>Banashankari</td>\n",
       "      <td>450</td>\n",
       "    </tr>\n",
       "    <tr>\n",
       "      <th rowspan=\"5\" valign=\"top\">Yes</th>\n",
       "      <th>7</th>\n",
       "      <td>2469, 3rd Floor, 24th Cross, Opposite BDA Comp...</td>\n",
       "      <td>Onesta</td>\n",
       "      <td>Yes</td>\n",
       "      <td>Yes</td>\n",
       "      <td>4.6</td>\n",
       "      <td>2556</td>\n",
       "      <td>Banashankari</td>\n",
       "      <td>600</td>\n",
       "    </tr>\n",
       "    <tr>\n",
       "      <th>44</th>\n",
       "      <td>2469, 3rd Floor, 24th Cross, Opposite BDA Comp...</td>\n",
       "      <td>Onesta</td>\n",
       "      <td>Yes</td>\n",
       "      <td>Yes</td>\n",
       "      <td>4.6</td>\n",
       "      <td>2556</td>\n",
       "      <td>Banashankari</td>\n",
       "      <td>600</td>\n",
       "    </tr>\n",
       "    <tr>\n",
       "      <th>38</th>\n",
       "      <td>4, Opposite NMKRV College, 21st C Cross Road, ...</td>\n",
       "      <td>Empire Restaurant</td>\n",
       "      <td>Yes</td>\n",
       "      <td>No</td>\n",
       "      <td>4.4</td>\n",
       "      <td>4884</td>\n",
       "      <td>Jayanagar</td>\n",
       "      <td>750</td>\n",
       "    </tr>\n",
       "    <tr>\n",
       "      <th>86</th>\n",
       "      <td>52, 1st Floor, 33rd Cross, 4th Block, Jayanaga...</td>\n",
       "      <td>Meghana Foods</td>\n",
       "      <td>Yes</td>\n",
       "      <td>No</td>\n",
       "      <td>4.4</td>\n",
       "      <td>4401</td>\n",
       "      <td>Jayanagar</td>\n",
       "      <td>600</td>\n",
       "    </tr>\n",
       "    <tr>\n",
       "      <th>34</th>\n",
       "      <td>80, BDA Complex, 2nd Stage, Banashankari, Bang...</td>\n",
       "      <td>Faasos</td>\n",
       "      <td>Yes</td>\n",
       "      <td>No</td>\n",
       "      <td>4.2</td>\n",
       "      <td>415</td>\n",
       "      <td>Banashankari</td>\n",
       "      <td>500</td>\n",
       "    </tr>\n",
       "  </tbody>\n",
       "</table>\n",
       "</div>"
      ],
      "text/plain": [
       "                                                           address  \\\n",
       "online_order                                                         \n",
       "No           52  808/6-1, 24th A Cross, K.R Road, 2nd Stage, Ba...   \n",
       "             60  942, 3rd Floor, 21st Main Road, 2nd Stage, Ban...   \n",
       "             67  10, 30th Main, Deve Gowda Petrol Bunk Road, 3r...   \n",
       "             71  476, 2nd Floor, 9th Cross, Avalahalli BDA Park...   \n",
       "             13  111, Sapphire Toys Building, 100 Feet Ring Roa...   \n",
       "Yes          7   2469, 3rd Floor, 24th Cross, Opposite BDA Comp...   \n",
       "             44  2469, 3rd Floor, 24th Cross, Opposite BDA Comp...   \n",
       "             38  4, Opposite NMKRV College, 21st C Cross Road, ...   \n",
       "             86  52, 1st Floor, 33rd Cross, 4th Block, Jayanaga...   \n",
       "             34  80, BDA Complex, 2nd Stage, Banashankari, Bang...   \n",
       "\n",
       "                                   name online_order book_table  rate  votes  \\\n",
       "online_order                                                                   \n",
       "No           52  Corner House Ice Cream           No         No   4.3    345   \n",
       "             60           Peppy Peppers           No         No   4.2    244   \n",
       "             67      Gustoes Beer House           No         No   4.1    868   \n",
       "             71        The Biryani Cafe           No         No   4.1    520   \n",
       "             13              Caf-Eleven           No         No   4.0    424   \n",
       "Yes          7                   Onesta          Yes        Yes   4.6   2556   \n",
       "             44                  Onesta          Yes        Yes   4.6   2556   \n",
       "             38       Empire Restaurant          Yes         No   4.4   4884   \n",
       "             86           Meghana Foods          Yes         No   4.4   4401   \n",
       "             34                  Faasos          Yes         No   4.2    415   \n",
       "\n",
       "                     location approx_cost(for two people)  \n",
       "online_order                                               \n",
       "No           52  Banashankari                         400  \n",
       "             60  Banashankari                         800  \n",
       "             67  Banashankari                       1,200  \n",
       "             71  Banashankari                         300  \n",
       "             13  Banashankari                         450  \n",
       "Yes          7   Banashankari                         600  \n",
       "             44  Banashankari                         600  \n",
       "             38     Jayanagar                         750  \n",
       "             86     Jayanagar                         600  \n",
       "             34  Banashankari                         500  "
      ]
     },
     "execution_count": 191,
     "metadata": {},
     "output_type": "execute_result"
    }
   ],
   "source": [
    "data2.groupby([\"online_order\"]).apply(top_n)"
   ]
  },
  {
   "cell_type": "markdown",
   "metadata": {},
   "source": [
    "### Grouping by dictionary"
   ]
  },
  {
   "cell_type": "markdown",
   "metadata": {},
   "source": [
    "Let's generate some data to use this method."
   ]
  },
  {
   "cell_type": "code",
   "execution_count": 21,
   "metadata": {
    "collapsed": true
   },
   "outputs": [],
   "source": [
    "import random\n",
    "array = ([[random.randrange(30, 100) for i in range(6)] for i in range(6)])\n",
    "students = pd.DataFrame(array,columns=['a', 'b', 'c', 'd','e','f']\n",
    "                      ,index=['Aarti Balana', 'Surjeet Singh', 'Sukhchain Singh', \"Himanshu Behl\",'Sheenam Handa', 'Natasha Chugh'])\n",
    "#people.loc[2:3, ['b', 'c']] = np.nan # adding some NA values\n",
    "#students[\"Total\"]=students.sum(axis = 1) # creating a column with total marks"
   ]
  },
  {
   "cell_type": "code",
   "execution_count": 39,
   "metadata": {},
   "outputs": [
    {
     "data": {
      "text/html": [
       "<div>\n",
       "<style scoped>\n",
       "    .dataframe tbody tr th:only-of-type {\n",
       "        vertical-align: middle;\n",
       "    }\n",
       "\n",
       "    .dataframe tbody tr th {\n",
       "        vertical-align: top;\n",
       "    }\n",
       "\n",
       "    .dataframe thead th {\n",
       "        text-align: right;\n",
       "    }\n",
       "</style>\n",
       "<table border=\"1\" class=\"dataframe\">\n",
       "  <thead>\n",
       "    <tr style=\"text-align: right;\">\n",
       "      <th></th>\n",
       "      <th>a</th>\n",
       "      <th>b</th>\n",
       "      <th>c</th>\n",
       "      <th>d</th>\n",
       "      <th>e</th>\n",
       "      <th>f</th>\n",
       "    </tr>\n",
       "  </thead>\n",
       "  <tbody>\n",
       "    <tr>\n",
       "      <th>Aarti Balana</th>\n",
       "      <td>58</td>\n",
       "      <td>39</td>\n",
       "      <td>55</td>\n",
       "      <td>89</td>\n",
       "      <td>46</td>\n",
       "      <td>92</td>\n",
       "    </tr>\n",
       "    <tr>\n",
       "      <th>Surjeet Singh</th>\n",
       "      <td>63</td>\n",
       "      <td>94</td>\n",
       "      <td>64</td>\n",
       "      <td>98</td>\n",
       "      <td>75</td>\n",
       "      <td>83</td>\n",
       "    </tr>\n",
       "    <tr>\n",
       "      <th>Sukhchain Singh</th>\n",
       "      <td>82</td>\n",
       "      <td>85</td>\n",
       "      <td>47</td>\n",
       "      <td>72</td>\n",
       "      <td>65</td>\n",
       "      <td>53</td>\n",
       "    </tr>\n",
       "    <tr>\n",
       "      <th>Himanshu Behl</th>\n",
       "      <td>75</td>\n",
       "      <td>36</td>\n",
       "      <td>52</td>\n",
       "      <td>47</td>\n",
       "      <td>86</td>\n",
       "      <td>89</td>\n",
       "    </tr>\n",
       "    <tr>\n",
       "      <th>Sheenam Handa</th>\n",
       "      <td>93</td>\n",
       "      <td>30</td>\n",
       "      <td>62</td>\n",
       "      <td>78</td>\n",
       "      <td>96</td>\n",
       "      <td>99</td>\n",
       "    </tr>\n",
       "    <tr>\n",
       "      <th>Natasha Chugh</th>\n",
       "      <td>49</td>\n",
       "      <td>53</td>\n",
       "      <td>43</td>\n",
       "      <td>65</td>\n",
       "      <td>88</td>\n",
       "      <td>94</td>\n",
       "    </tr>\n",
       "  </tbody>\n",
       "</table>\n",
       "</div>"
      ],
      "text/plain": [
       "                  a   b   c   d   e   f\n",
       "Aarti Balana     58  39  55  89  46  92\n",
       "Surjeet Singh    63  94  64  98  75  83\n",
       "Sukhchain Singh  82  85  47  72  65  53\n",
       "Himanshu Behl    75  36  52  47  86  89\n",
       "Sheenam Handa    93  30  62  78  96  99\n",
       "Natasha Chugh    49  53  43  65  88  94"
      ]
     },
     "execution_count": 39,
     "metadata": {},
     "output_type": "execute_result"
    }
   ],
   "source": [
    "#students.sort_values(\"Total\")\n",
    "students"
   ]
  },
  {
   "cell_type": "markdown",
   "metadata": {},
   "source": [
    "In the above dataframe the name of the columns purposely given as __a, b, c, d, e, f__. We will modify them with the example of code."
   ]
  },
  {
   "cell_type": "markdown",
   "metadata": {},
   "source": [
    "Creating a mapping."
   ]
  },
  {
   "cell_type": "code",
   "execution_count": 29,
   "metadata": {
    "collapsed": true
   },
   "outputs": [],
   "source": [
    "mapping = {'a': 'Theory', 'b': 'Practical', 'c': 'Theory', 'd': 'Practical', 'e': 'Theory', 'f' : 'Practical'}"
   ]
  },
  {
   "cell_type": "code",
   "execution_count": 25,
   "metadata": {},
   "outputs": [
    {
     "data": {
      "text/html": [
       "<div>\n",
       "<style scoped>\n",
       "    .dataframe tbody tr th:only-of-type {\n",
       "        vertical-align: middle;\n",
       "    }\n",
       "\n",
       "    .dataframe tbody tr th {\n",
       "        vertical-align: top;\n",
       "    }\n",
       "\n",
       "    .dataframe thead th {\n",
       "        text-align: right;\n",
       "    }\n",
       "</style>\n",
       "<table border=\"1\" class=\"dataframe\">\n",
       "  <thead>\n",
       "    <tr style=\"text-align: right;\">\n",
       "      <th></th>\n",
       "      <th>Practical</th>\n",
       "      <th>Theory</th>\n",
       "    </tr>\n",
       "  </thead>\n",
       "  <tbody>\n",
       "    <tr>\n",
       "      <th>Aarti Balana</th>\n",
       "      <td>160</td>\n",
       "      <td>175</td>\n",
       "    </tr>\n",
       "    <tr>\n",
       "      <th>Surjeet Singh</th>\n",
       "      <td>172</td>\n",
       "      <td>227</td>\n",
       "    </tr>\n",
       "    <tr>\n",
       "      <th>Sukhchain Singh</th>\n",
       "      <td>223</td>\n",
       "      <td>190</td>\n",
       "    </tr>\n",
       "    <tr>\n",
       "      <th>Himanshu Behl</th>\n",
       "      <td>198</td>\n",
       "      <td>231</td>\n",
       "    </tr>\n",
       "    <tr>\n",
       "      <th>Sheenam Handa</th>\n",
       "      <td>187</td>\n",
       "      <td>191</td>\n",
       "    </tr>\n",
       "    <tr>\n",
       "      <th>Natasha Chugh</th>\n",
       "      <td>185</td>\n",
       "      <td>147</td>\n",
       "    </tr>\n",
       "  </tbody>\n",
       "</table>\n",
       "</div>"
      ],
      "text/plain": [
       "                 Practical  Theory\n",
       "Aarti Balana           160     175\n",
       "Surjeet Singh          172     227\n",
       "Sukhchain Singh        223     190\n",
       "Himanshu Behl          198     231\n",
       "Sheenam Handa          187     191\n",
       "Natasha Chugh          185     147"
      ]
     },
     "execution_count": 25,
     "metadata": {},
     "output_type": "execute_result"
    }
   ],
   "source": [
    "students.groupby(mapping, axis=1).sum()"
   ]
  },
  {
   "cell_type": "markdown",
   "metadata": {},
   "source": [
    "### Group by Series"
   ]
  },
  {
   "cell_type": "code",
   "execution_count": 37,
   "metadata": {
    "collapsed": true
   },
   "outputs": [],
   "source": [
    "map_series = pd.Series(mapping) #Creating a series from previous defined mapping "
   ]
  },
  {
   "cell_type": "code",
   "execution_count": 90,
   "metadata": {},
   "outputs": [
    {
     "data": {
      "text/html": [
       "<div>\n",
       "<style scoped>\n",
       "    .dataframe tbody tr th:only-of-type {\n",
       "        vertical-align: middle;\n",
       "    }\n",
       "\n",
       "    .dataframe tbody tr th {\n",
       "        vertical-align: top;\n",
       "    }\n",
       "\n",
       "    .dataframe thead th {\n",
       "        text-align: right;\n",
       "    }\n",
       "</style>\n",
       "<table border=\"1\" class=\"dataframe\">\n",
       "  <thead>\n",
       "    <tr style=\"text-align: right;\">\n",
       "      <th></th>\n",
       "      <th>Practical</th>\n",
       "      <th>Theory</th>\n",
       "    </tr>\n",
       "  </thead>\n",
       "  <tbody>\n",
       "    <tr>\n",
       "      <th>Aarti Balana</th>\n",
       "      <td>218</td>\n",
       "      <td>230</td>\n",
       "    </tr>\n",
       "    <tr>\n",
       "      <th>Surjeet Singh</th>\n",
       "      <td>204</td>\n",
       "      <td>196</td>\n",
       "    </tr>\n",
       "    <tr>\n",
       "      <th>Sukhchain Singh</th>\n",
       "      <td>249</td>\n",
       "      <td>190</td>\n",
       "    </tr>\n",
       "    <tr>\n",
       "      <th>Himanshu Behl</th>\n",
       "      <td>198</td>\n",
       "      <td>228</td>\n",
       "    </tr>\n",
       "    <tr>\n",
       "      <th>Sheenam Handa</th>\n",
       "      <td>159</td>\n",
       "      <td>262</td>\n",
       "    </tr>\n",
       "    <tr>\n",
       "      <th>Natasha Chugh</th>\n",
       "      <td>160</td>\n",
       "      <td>213</td>\n",
       "    </tr>\n",
       "  </tbody>\n",
       "</table>\n",
       "</div>"
      ],
      "text/plain": [
       "                 Practical  Theory\n",
       "Aarti Balana           218     230\n",
       "Surjeet Singh          204     196\n",
       "Sukhchain Singh        249     190\n",
       "Himanshu Behl          198     228\n",
       "Sheenam Handa          159     262\n",
       "Natasha Chugh          160     213"
      ]
     },
     "execution_count": 90,
     "metadata": {},
     "output_type": "execute_result"
    }
   ],
   "source": [
    "students.groupby(map_series, axis=1).sum()"
   ]
  },
  {
   "cell_type": "markdown",
   "metadata": {},
   "source": [
    "The results from the previous mapping is same as above but both of the mapping are differs by their definition."
   ]
  },
  {
   "cell_type": "markdown",
   "metadata": {},
   "source": [
    "Now let's give the name of the columns in a more readable way. Consider them as the courses __Physics,__ __Mathematics__ and __Chemistry__."
   ]
  },
  {
   "cell_type": "code",
   "execution_count": 34,
   "metadata": {
    "collapsed": true
   },
   "outputs": [],
   "source": [
    "courses = {'a': 'Physics Theory', 'b': 'Physics Practical', 'c': 'Mathematics Theory', 'd': 'Mathematics Lab.', \n",
    "           'e': 'Chemistry Theory', 'f' : 'Chemistry Practical'}"
   ]
  },
  {
   "cell_type": "code",
   "execution_count": 35,
   "metadata": {},
   "outputs": [
    {
     "data": {
      "text/html": [
       "<div>\n",
       "<style scoped>\n",
       "    .dataframe tbody tr th:only-of-type {\n",
       "        vertical-align: middle;\n",
       "    }\n",
       "\n",
       "    .dataframe tbody tr th {\n",
       "        vertical-align: top;\n",
       "    }\n",
       "\n",
       "    .dataframe thead th {\n",
       "        text-align: right;\n",
       "    }\n",
       "</style>\n",
       "<table border=\"1\" class=\"dataframe\">\n",
       "  <thead>\n",
       "    <tr style=\"text-align: right;\">\n",
       "      <th></th>\n",
       "      <th>Physics Theory</th>\n",
       "      <th>Physics Practical</th>\n",
       "      <th>Mathematics Theory</th>\n",
       "      <th>Mathematics Lab.</th>\n",
       "      <th>Chemistry Theory</th>\n",
       "      <th>Chemistry Practical</th>\n",
       "    </tr>\n",
       "  </thead>\n",
       "  <tbody>\n",
       "    <tr>\n",
       "      <th>Aarti Balana</th>\n",
       "      <td>61</td>\n",
       "      <td>98</td>\n",
       "      <td>41</td>\n",
       "      <td>75</td>\n",
       "      <td>75</td>\n",
       "      <td>45</td>\n",
       "    </tr>\n",
       "    <tr>\n",
       "      <th>Surjeet Singh</th>\n",
       "      <td>97</td>\n",
       "      <td>85</td>\n",
       "      <td>46</td>\n",
       "      <td>76</td>\n",
       "      <td>60</td>\n",
       "      <td>89</td>\n",
       "    </tr>\n",
       "    <tr>\n",
       "      <th>Sukhchain Singh</th>\n",
       "      <td>40</td>\n",
       "      <td>64</td>\n",
       "      <td>94</td>\n",
       "      <td>47</td>\n",
       "      <td>58</td>\n",
       "      <td>88</td>\n",
       "    </tr>\n",
       "    <tr>\n",
       "      <th>Himanshu Behl</th>\n",
       "      <td>71</td>\n",
       "      <td>95</td>\n",
       "      <td>70</td>\n",
       "      <td>53</td>\n",
       "      <td>57</td>\n",
       "      <td>94</td>\n",
       "    </tr>\n",
       "    <tr>\n",
       "      <th>Sheenam Handa</th>\n",
       "      <td>68</td>\n",
       "      <td>45</td>\n",
       "      <td>31</td>\n",
       "      <td>82</td>\n",
       "      <td>55</td>\n",
       "      <td>37</td>\n",
       "    </tr>\n",
       "    <tr>\n",
       "      <th>Natasha Chugh</th>\n",
       "      <td>91</td>\n",
       "      <td>96</td>\n",
       "      <td>30</td>\n",
       "      <td>48</td>\n",
       "      <td>72</td>\n",
       "      <td>54</td>\n",
       "    </tr>\n",
       "  </tbody>\n",
       "</table>\n",
       "</div>"
      ],
      "text/plain": [
       "                 Physics Theory  Physics Practical  Mathematics Theory  \\\n",
       "Aarti Balana                 61                 98                  41   \n",
       "Surjeet Singh                97                 85                  46   \n",
       "Sukhchain Singh              40                 64                  94   \n",
       "Himanshu Behl                71                 95                  70   \n",
       "Sheenam Handa                68                 45                  31   \n",
       "Natasha Chugh                91                 96                  30   \n",
       "\n",
       "                 Mathematics Lab.  Chemistry Theory  Chemistry Practical  \n",
       "Aarti Balana                   75                75                   45  \n",
       "Surjeet Singh                  76                60                   89  \n",
       "Sukhchain Singh                47                58                   88  \n",
       "Himanshu Behl                  53                57                   94  \n",
       "Sheenam Handa                  82                55                   37  \n",
       "Natasha Chugh                  48                72                   54  "
      ]
     },
     "execution_count": 35,
     "metadata": {},
     "output_type": "execute_result"
    }
   ],
   "source": [
    "students.rename(columns = courses)"
   ]
  },
  {
   "cell_type": "code",
   "execution_count": 43,
   "metadata": {},
   "outputs": [
    {
     "data": {
      "text/html": [
       "<div>\n",
       "<style scoped>\n",
       "    .dataframe tbody tr th:only-of-type {\n",
       "        vertical-align: middle;\n",
       "    }\n",
       "\n",
       "    .dataframe tbody tr th {\n",
       "        vertical-align: top;\n",
       "    }\n",
       "\n",
       "    .dataframe thead th {\n",
       "        text-align: right;\n",
       "    }\n",
       "</style>\n",
       "<table border=\"1\" class=\"dataframe\">\n",
       "  <thead>\n",
       "    <tr style=\"text-align: right;\">\n",
       "      <th></th>\n",
       "      <th>a</th>\n",
       "      <th>b</th>\n",
       "      <th>c</th>\n",
       "      <th>d</th>\n",
       "      <th>e</th>\n",
       "      <th>f</th>\n",
       "    </tr>\n",
       "  </thead>\n",
       "  <tbody>\n",
       "    <tr>\n",
       "      <th>Aarti Balana</th>\n",
       "      <td>59.000000</td>\n",
       "      <td>72.666667</td>\n",
       "      <td>59.000000</td>\n",
       "      <td>72.666667</td>\n",
       "      <td>59.000000</td>\n",
       "      <td>72.666667</td>\n",
       "    </tr>\n",
       "    <tr>\n",
       "      <th>Surjeet Singh</th>\n",
       "      <td>67.666667</td>\n",
       "      <td>83.333333</td>\n",
       "      <td>67.666667</td>\n",
       "      <td>83.333333</td>\n",
       "      <td>67.666667</td>\n",
       "      <td>83.333333</td>\n",
       "    </tr>\n",
       "    <tr>\n",
       "      <th>Sukhchain Singh</th>\n",
       "      <td>64.000000</td>\n",
       "      <td>66.333333</td>\n",
       "      <td>64.000000</td>\n",
       "      <td>66.333333</td>\n",
       "      <td>64.000000</td>\n",
       "      <td>66.333333</td>\n",
       "    </tr>\n",
       "    <tr>\n",
       "      <th>Himanshu Behl</th>\n",
       "      <td>66.000000</td>\n",
       "      <td>80.666667</td>\n",
       "      <td>66.000000</td>\n",
       "      <td>80.666667</td>\n",
       "      <td>66.000000</td>\n",
       "      <td>80.666667</td>\n",
       "    </tr>\n",
       "    <tr>\n",
       "      <th>Sheenam Handa</th>\n",
       "      <td>51.333333</td>\n",
       "      <td>54.666667</td>\n",
       "      <td>51.333333</td>\n",
       "      <td>54.666667</td>\n",
       "      <td>51.333333</td>\n",
       "      <td>54.666667</td>\n",
       "    </tr>\n",
       "    <tr>\n",
       "      <th>Natasha Chugh</th>\n",
       "      <td>64.333333</td>\n",
       "      <td>66.000000</td>\n",
       "      <td>64.333333</td>\n",
       "      <td>66.000000</td>\n",
       "      <td>64.333333</td>\n",
       "      <td>66.000000</td>\n",
       "    </tr>\n",
       "  </tbody>\n",
       "</table>\n",
       "</div>"
      ],
      "text/plain": [
       "                         a          b          c          d          e  \\\n",
       "Aarti Balana     59.000000  72.666667  59.000000  72.666667  59.000000   \n",
       "Surjeet Singh    67.666667  83.333333  67.666667  83.333333  67.666667   \n",
       "Sukhchain Singh  64.000000  66.333333  64.000000  66.333333  64.000000   \n",
       "Himanshu Behl    66.000000  80.666667  66.000000  80.666667  66.000000   \n",
       "Sheenam Handa    51.333333  54.666667  51.333333  54.666667  51.333333   \n",
       "Natasha Chugh    64.333333  66.000000  64.333333  66.000000  64.333333   \n",
       "\n",
       "                         f  \n",
       "Aarti Balana     72.666667  \n",
       "Surjeet Singh    83.333333  \n",
       "Sukhchain Singh  66.333333  \n",
       "Himanshu Behl    80.666667  \n",
       "Sheenam Handa    54.666667  \n",
       "Natasha Chugh    66.000000  "
      ]
     },
     "execution_count": 43,
     "metadata": {},
     "output_type": "execute_result"
    }
   ],
   "source": [
    "students.groupby(map_series, axis = 1).transform(np.mean) # replace every value by the mean value"
   ]
  },
  {
   "cell_type": "markdown",
   "metadata": {},
   "source": [
    "The mean value for __Theory__ and __Practical__ is different so there are two mean values."
   ]
  },
  {
   "cell_type": "markdown",
   "metadata": {},
   "source": [
    "### Merging the DataFrames"
   ]
  },
  {
   "cell_type": "markdown",
   "metadata": {},
   "source": [
    "Some times the data is available in different files and we merge them to roduce efficient results. Remeber!! we had already created a piece of \"zomato' data. We will use this data to merge with another data."
   ]
  },
  {
   "cell_type": "markdown",
   "metadata": {},
   "source": [
    "We are going to merge data2 and data3. But first we need to modify the data3 into an appropriate format."
   ]
  },
  {
   "cell_type": "code",
   "execution_count": 41,
   "metadata": {},
   "outputs": [
    {
     "data": {
      "text/html": [
       "<div>\n",
       "<style scoped>\n",
       "    .dataframe tbody tr th:only-of-type {\n",
       "        vertical-align: middle;\n",
       "    }\n",
       "\n",
       "    .dataframe tbody tr th {\n",
       "        vertical-align: top;\n",
       "    }\n",
       "\n",
       "    .dataframe thead th {\n",
       "        text-align: right;\n",
       "    }\n",
       "</style>\n",
       "<table border=\"1\" class=\"dataframe\">\n",
       "  <thead>\n",
       "    <tr style=\"text-align: right;\">\n",
       "      <th></th>\n",
       "      <th>address</th>\n",
       "      <th>name</th>\n",
       "      <th>online_order</th>\n",
       "      <th>book_table</th>\n",
       "      <th>rate</th>\n",
       "      <th>votes</th>\n",
       "      <th>location</th>\n",
       "      <th>approx_cost(for two people)</th>\n",
       "      <th>rest_type</th>\n",
       "      <th>dish_liked</th>\n",
       "    </tr>\n",
       "  </thead>\n",
       "  <tbody>\n",
       "    <tr>\n",
       "      <th>0</th>\n",
       "      <td>942, 21st Main Road, 2nd Stage, Banashankari, ...</td>\n",
       "      <td>Jalsa</td>\n",
       "      <td>Yes</td>\n",
       "      <td>Yes</td>\n",
       "      <td>4.1/5</td>\n",
       "      <td>775</td>\n",
       "      <td>Banashankari</td>\n",
       "      <td>800</td>\n",
       "      <td>Casual Dining</td>\n",
       "      <td>Pasta, Lunch Buffet, Masala Papad, Paneer Laja...</td>\n",
       "    </tr>\n",
       "    <tr>\n",
       "      <th>1</th>\n",
       "      <td>2nd Floor, 80 Feet Road, Near Big Bazaar, 6th ...</td>\n",
       "      <td>Spice Elephant</td>\n",
       "      <td>Yes</td>\n",
       "      <td>No</td>\n",
       "      <td>4.1/5</td>\n",
       "      <td>787</td>\n",
       "      <td>Banashankari</td>\n",
       "      <td>800</td>\n",
       "      <td>Casual Dining</td>\n",
       "      <td>Momos, Lunch Buffet, Chocolate Nirvana, Thai G...</td>\n",
       "    </tr>\n",
       "    <tr>\n",
       "      <th>2</th>\n",
       "      <td>1112, Next to KIMS Medical College, 17th Cross...</td>\n",
       "      <td>San Churro Cafe</td>\n",
       "      <td>Yes</td>\n",
       "      <td>No</td>\n",
       "      <td>3.8/5</td>\n",
       "      <td>918</td>\n",
       "      <td>Banashankari</td>\n",
       "      <td>800</td>\n",
       "      <td>Cafe, Casual Dining</td>\n",
       "      <td>Churros, Cannelloni, Minestrone Soup, Hot Choc...</td>\n",
       "    </tr>\n",
       "    <tr>\n",
       "      <th>3</th>\n",
       "      <td>1112, Next to KIMS Medical College, 17th Cross...</td>\n",
       "      <td>San Churro Cafe</td>\n",
       "      <td>Yes</td>\n",
       "      <td>No</td>\n",
       "      <td>3.8/5</td>\n",
       "      <td>918</td>\n",
       "      <td>Banashankari</td>\n",
       "      <td>800</td>\n",
       "      <td>Cafe, Casual Dining</td>\n",
       "      <td>Churros, Cannelloni, Minestrone Soup, Hot Choc...</td>\n",
       "    </tr>\n",
       "    <tr>\n",
       "      <th>4</th>\n",
       "      <td>1112, Next to KIMS Medical College, 17th Cross...</td>\n",
       "      <td>San Churro Cafe</td>\n",
       "      <td>Yes</td>\n",
       "      <td>No</td>\n",
       "      <td>3.8/5</td>\n",
       "      <td>918</td>\n",
       "      <td>Banashankari</td>\n",
       "      <td>800</td>\n",
       "      <td>Cafe, Casual Dining</td>\n",
       "      <td>Churros, Cannelloni, Minestrone Soup, Hot Choc...</td>\n",
       "    </tr>\n",
       "  </tbody>\n",
       "</table>\n",
       "</div>"
      ],
      "text/plain": [
       "                                             address             name  \\\n",
       "0  942, 21st Main Road, 2nd Stage, Banashankari, ...            Jalsa   \n",
       "1  2nd Floor, 80 Feet Road, Near Big Bazaar, 6th ...   Spice Elephant   \n",
       "2  1112, Next to KIMS Medical College, 17th Cross...  San Churro Cafe   \n",
       "3  1112, Next to KIMS Medical College, 17th Cross...  San Churro Cafe   \n",
       "4  1112, Next to KIMS Medical College, 17th Cross...  San Churro Cafe   \n",
       "\n",
       "  online_order book_table   rate  votes      location  \\\n",
       "0          Yes        Yes  4.1/5    775  Banashankari   \n",
       "1          Yes         No  4.1/5    787  Banashankari   \n",
       "2          Yes         No  3.8/5    918  Banashankari   \n",
       "3          Yes         No  3.8/5    918  Banashankari   \n",
       "4          Yes         No  3.8/5    918  Banashankari   \n",
       "\n",
       "  approx_cost(for two people)            rest_type  \\\n",
       "0                         800        Casual Dining   \n",
       "1                         800        Casual Dining   \n",
       "2                         800  Cafe, Casual Dining   \n",
       "3                         800  Cafe, Casual Dining   \n",
       "4                         800  Cafe, Casual Dining   \n",
       "\n",
       "                                          dish_liked  \n",
       "0  Pasta, Lunch Buffet, Masala Papad, Paneer Laja...  \n",
       "1  Momos, Lunch Buffet, Chocolate Nirvana, Thai G...  \n",
       "2  Churros, Cannelloni, Minestrone Soup, Hot Choc...  \n",
       "3  Churros, Cannelloni, Minestrone Soup, Hot Choc...  \n",
       "4  Churros, Cannelloni, Minestrone Soup, Hot Choc...  "
      ]
     },
     "execution_count": 41,
     "metadata": {},
     "output_type": "execute_result"
    }
   ],
   "source": [
    "merged = pd.merge(data2, data3, on =\"address\") # merge function will keep the \"address\" column same\n",
    "#merged = pd.merge(data2, data3, right_index = True, left_index = True) # There will be two columns for address\n",
    "merged.head()"
   ]
  },
  {
   "cell_type": "markdown",
   "metadata": {},
   "source": [
    "## Index Alignment"
   ]
  },
  {
   "cell_type": "code",
   "execution_count": null,
   "metadata": {
    "collapsed": true
   },
   "outputs": [],
   "source": []
  },
  {
   "cell_type": "code",
   "execution_count": null,
   "metadata": {
    "collapsed": true
   },
   "outputs": [],
   "source": []
  }
 ],
 "metadata": {
  "kernelspec": {
   "display_name": "Python 3",
   "language": "python",
   "name": "python3"
  },
  "language_info": {
   "codemirror_mode": {
    "name": "ipython",
    "version": 3
   },
   "file_extension": ".py",
   "mimetype": "text/x-python",
   "name": "python",
   "nbconvert_exporter": "python",
   "pygments_lexer": "ipython3",
   "version": "3.6.2"
  }
 },
 "nbformat": 4,
 "nbformat_minor": 2
}
