{
 "cells": [
  {
   "cell_type": "markdown",
   "metadata": {},
   "source": [
    "#  Introduction \n",
    "Working with data is most exciting job in 21st century. With this easily accessible internet technolgy and with abundance of data and freely available online sources to boost data anlysis skils available out there it has become easier for most of the people to dive in this field for either swithching to this career or accelerating present job or even for interest to invest in stock market. Understanding data and making inference out of it takes experience and a right track for starters. In this tutorial we will cover topics from as basic as dissecting data to advance as faster and parallel execution with \"Ray\" variant of Pandas."
   ]
  },
  {
   "cell_type": "code",
   "execution_count": 1,
   "metadata": {
    "collapsed": true
   },
   "outputs": [],
   "source": [
    "import pandas as pd\n",
    "import numpy as np\n"
   ]
  },
  {
   "cell_type": "markdown",
   "metadata": {},
   "source": [
    "### Import BlackRock past one year Dataset (15 April 2018- 10 May 2019). This data is available in data folder. Some changes have been made in this data for this tutorial. ###"
   ]
  },
  {
   "cell_type": "code",
   "execution_count": 35,
   "metadata": {},
   "outputs": [],
   "source": [
    "data = pd.read_csv('./data/BLK.csv')                            #change your path \n"
   ]
  },
  {
   "cell_type": "code",
   "execution_count": 4,
   "metadata": {},
   "outputs": [
    {
     "data": {
      "text/plain": [
       "(19, 7)"
      ]
     },
     "execution_count": 4,
     "metadata": {},
     "output_type": "execute_result"
    }
   ],
   "source": [
    "data.shape          # prints (rows,columns)"
   ]
  },
  {
   "cell_type": "code",
   "execution_count": 22,
   "metadata": {},
   "outputs": [
    {
     "name": "stdout",
     "output_type": "stream",
     "text": [
      "<class 'pandas.core.frame.DataFrame'>\n",
      "RangeIndex: 19 entries, 0 to 18\n",
      "Data columns (total 8 columns):\n",
      "Date         19 non-null object\n",
      "Open         17 non-null float64\n",
      "High         19 non-null float64\n",
      "Low          19 non-null float64\n",
      "Close        19 non-null float64\n",
      "Adj Close    19 non-null float64\n",
      "Volume       19 non-null int64\n",
      "Range        19 non-null float64\n",
      "dtypes: float64(6), int64(1), object(1)\n",
      "memory usage: 1.3+ KB\n"
     ]
    }
   ],
   "source": [
    "data.info() # number of non-missing values, data-type for each column and memory usage."
   ]
  },
  {
   "cell_type": "markdown",
   "metadata": {},
   "source": [
    "Have understanding of data columns, data values by printing few entries. Following code prints first five examples of dataset. There are three things in dataframe to be taken care of for data crunching\n",
    "\n",
    "* Index\n",
    "* Columns\n",
    "* Data values\n",
    "\n",
    "Index and Column names make it easier to access a particular entry or subset of data."
   ]
  },
  {
   "cell_type": "code",
   "execution_count": 4,
   "metadata": {},
   "outputs": [
    {
     "data": {
      "text/html": [
       "<div>\n",
       "<style>\n",
       "    .dataframe thead tr:only-child th {\n",
       "        text-align: right;\n",
       "    }\n",
       "\n",
       "    .dataframe thead th {\n",
       "        text-align: left;\n",
       "    }\n",
       "\n",
       "    .dataframe tbody tr th {\n",
       "        vertical-align: top;\n",
       "    }\n",
       "</style>\n",
       "<table border=\"1\" class=\"dataframe\">\n",
       "  <thead>\n",
       "    <tr style=\"text-align: right;\">\n",
       "      <th></th>\n",
       "      <th>Date</th>\n",
       "      <th>Open</th>\n",
       "      <th>High</th>\n",
       "      <th>Low</th>\n",
       "      <th>Close</th>\n",
       "      <th>Adj Close</th>\n",
       "      <th>Volume</th>\n",
       "    </tr>\n",
       "  </thead>\n",
       "  <tbody>\n",
       "    <tr>\n",
       "      <th>0</th>\n",
       "      <td>4/15/2019</td>\n",
       "      <td>456.359985</td>\n",
       "      <td>457.100006</td>\n",
       "      <td>449.769989</td>\n",
       "      <td>451.859985</td>\n",
       "      <td>451.859985</td>\n",
       "      <td>590800</td>\n",
       "    </tr>\n",
       "    <tr>\n",
       "      <th>1</th>\n",
       "      <td>4/16/2019</td>\n",
       "      <td>453.100006</td>\n",
       "      <td>466.890015</td>\n",
       "      <td>453.000000</td>\n",
       "      <td>466.540009</td>\n",
       "      <td>466.540009</td>\n",
       "      <td>1030700</td>\n",
       "    </tr>\n",
       "    <tr>\n",
       "      <th>2</th>\n",
       "      <td>4/17/2019</td>\n",
       "      <td>466.980011</td>\n",
       "      <td>468.779999</td>\n",
       "      <td>462.420013</td>\n",
       "      <td>467.489990</td>\n",
       "      <td>467.489990</td>\n",
       "      <td>628200</td>\n",
       "    </tr>\n",
       "    <tr>\n",
       "      <th>3</th>\n",
       "      <td>4/18/2019</td>\n",
       "      <td>468.779999</td>\n",
       "      <td>469.369995</td>\n",
       "      <td>465.690002</td>\n",
       "      <td>465.690002</td>\n",
       "      <td>465.690002</td>\n",
       "      <td>530400</td>\n",
       "    </tr>\n",
       "    <tr>\n",
       "      <th>4</th>\n",
       "      <td>4/22/2019</td>\n",
       "      <td>463.750000</td>\n",
       "      <td>465.660004</td>\n",
       "      <td>462.149994</td>\n",
       "      <td>464.019989</td>\n",
       "      <td>464.019989</td>\n",
       "      <td>432900</td>\n",
       "    </tr>\n",
       "  </tbody>\n",
       "</table>\n",
       "</div>"
      ],
      "text/plain": [
       "        Date        Open        High         Low       Close   Adj Close  \\\n",
       "0  4/15/2019  456.359985  457.100006  449.769989  451.859985  451.859985   \n",
       "1  4/16/2019  453.100006  466.890015  453.000000  466.540009  466.540009   \n",
       "2  4/17/2019  466.980011  468.779999  462.420013  467.489990  467.489990   \n",
       "3  4/18/2019  468.779999  469.369995  465.690002  465.690002  465.690002   \n",
       "4  4/22/2019  463.750000  465.660004  462.149994  464.019989  464.019989   \n",
       "\n",
       "    Volume  \n",
       "0   590800  \n",
       "1  1030700  \n",
       "2   628200  \n",
       "3   530400  \n",
       "4   432900  "
      ]
     },
     "execution_count": 4,
     "metadata": {},
     "output_type": "execute_result"
    }
   ],
   "source": [
    "data.head()         #prints 0-4 examples of data frame\n",
    "# data.tail()       # prints last five entries of data "
   ]
  },
  {
   "cell_type": "markdown",
   "metadata": {},
   "source": [
    "In case, you want to print any number of row then you can just pass an argument to the head command."
   ]
  },
  {
   "cell_type": "code",
   "execution_count": 5,
   "metadata": {},
   "outputs": [
    {
     "data": {
      "text/html": [
       "<div>\n",
       "<style>\n",
       "    .dataframe thead tr:only-child th {\n",
       "        text-align: right;\n",
       "    }\n",
       "\n",
       "    .dataframe thead th {\n",
       "        text-align: left;\n",
       "    }\n",
       "\n",
       "    .dataframe tbody tr th {\n",
       "        vertical-align: top;\n",
       "    }\n",
       "</style>\n",
       "<table border=\"1\" class=\"dataframe\">\n",
       "  <thead>\n",
       "    <tr style=\"text-align: right;\">\n",
       "      <th></th>\n",
       "      <th>Date</th>\n",
       "      <th>Open</th>\n",
       "      <th>High</th>\n",
       "      <th>Low</th>\n",
       "      <th>Close</th>\n",
       "      <th>Adj Close</th>\n",
       "      <th>Volume</th>\n",
       "    </tr>\n",
       "  </thead>\n",
       "  <tbody>\n",
       "    <tr>\n",
       "      <th>0</th>\n",
       "      <td>4/15/2019</td>\n",
       "      <td>456.359985</td>\n",
       "      <td>457.100006</td>\n",
       "      <td>449.769989</td>\n",
       "      <td>451.859985</td>\n",
       "      <td>451.859985</td>\n",
       "      <td>590800</td>\n",
       "    </tr>\n",
       "    <tr>\n",
       "      <th>1</th>\n",
       "      <td>4/16/2019</td>\n",
       "      <td>453.100006</td>\n",
       "      <td>466.890015</td>\n",
       "      <td>453.000000</td>\n",
       "      <td>466.540009</td>\n",
       "      <td>466.540009</td>\n",
       "      <td>1030700</td>\n",
       "    </tr>\n",
       "    <tr>\n",
       "      <th>2</th>\n",
       "      <td>4/17/2019</td>\n",
       "      <td>466.980011</td>\n",
       "      <td>468.779999</td>\n",
       "      <td>462.420013</td>\n",
       "      <td>467.489990</td>\n",
       "      <td>467.489990</td>\n",
       "      <td>628200</td>\n",
       "    </tr>\n",
       "    <tr>\n",
       "      <th>3</th>\n",
       "      <td>4/18/2019</td>\n",
       "      <td>468.779999</td>\n",
       "      <td>469.369995</td>\n",
       "      <td>465.690002</td>\n",
       "      <td>465.690002</td>\n",
       "      <td>465.690002</td>\n",
       "      <td>530400</td>\n",
       "    </tr>\n",
       "    <tr>\n",
       "      <th>4</th>\n",
       "      <td>4/22/2019</td>\n",
       "      <td>463.750000</td>\n",
       "      <td>465.660004</td>\n",
       "      <td>462.149994</td>\n",
       "      <td>464.019989</td>\n",
       "      <td>464.019989</td>\n",
       "      <td>432900</td>\n",
       "    </tr>\n",
       "    <tr>\n",
       "      <th>5</th>\n",
       "      <td>4/23/2019</td>\n",
       "      <td>464.000000</td>\n",
       "      <td>474.029999</td>\n",
       "      <td>463.899994</td>\n",
       "      <td>474.029999</td>\n",
       "      <td>474.029999</td>\n",
       "      <td>687400</td>\n",
       "    </tr>\n",
       "    <tr>\n",
       "      <th>6</th>\n",
       "      <td>4/24/2019</td>\n",
       "      <td>474.029999</td>\n",
       "      <td>482.369995</td>\n",
       "      <td>472.609985</td>\n",
       "      <td>480.170013</td>\n",
       "      <td>480.170013</td>\n",
       "      <td>1008500</td>\n",
       "    </tr>\n",
       "    <tr>\n",
       "      <th>7</th>\n",
       "      <td>4/25/2019</td>\n",
       "      <td>477.890015</td>\n",
       "      <td>480.480011</td>\n",
       "      <td>472.609985</td>\n",
       "      <td>474.450012</td>\n",
       "      <td>474.450012</td>\n",
       "      <td>598700</td>\n",
       "    </tr>\n",
       "    <tr>\n",
       "      <th>8</th>\n",
       "      <td>4/26/2019</td>\n",
       "      <td>475.109985</td>\n",
       "      <td>479.459991</td>\n",
       "      <td>471.850006</td>\n",
       "      <td>478.980011</td>\n",
       "      <td>478.980011</td>\n",
       "      <td>469000</td>\n",
       "    </tr>\n",
       "    <tr>\n",
       "      <th>9</th>\n",
       "      <td>4/29/2019</td>\n",
       "      <td>NaN</td>\n",
       "      <td>481.579987</td>\n",
       "      <td>478.609985</td>\n",
       "      <td>479.839996</td>\n",
       "      <td>479.839996</td>\n",
       "      <td>366900</td>\n",
       "    </tr>\n",
       "  </tbody>\n",
       "</table>\n",
       "</div>"
      ],
      "text/plain": [
       "        Date        Open        High         Low       Close   Adj Close  \\\n",
       "0  4/15/2019  456.359985  457.100006  449.769989  451.859985  451.859985   \n",
       "1  4/16/2019  453.100006  466.890015  453.000000  466.540009  466.540009   \n",
       "2  4/17/2019  466.980011  468.779999  462.420013  467.489990  467.489990   \n",
       "3  4/18/2019  468.779999  469.369995  465.690002  465.690002  465.690002   \n",
       "4  4/22/2019  463.750000  465.660004  462.149994  464.019989  464.019989   \n",
       "5  4/23/2019  464.000000  474.029999  463.899994  474.029999  474.029999   \n",
       "6  4/24/2019  474.029999  482.369995  472.609985  480.170013  480.170013   \n",
       "7  4/25/2019  477.890015  480.480011  472.609985  474.450012  474.450012   \n",
       "8  4/26/2019  475.109985  479.459991  471.850006  478.980011  478.980011   \n",
       "9  4/29/2019         NaN  481.579987  478.609985  479.839996  479.839996   \n",
       "\n",
       "    Volume  \n",
       "0   590800  \n",
       "1  1030700  \n",
       "2   628200  \n",
       "3   530400  \n",
       "4   432900  \n",
       "5   687400  \n",
       "6  1008500  \n",
       "7   598700  \n",
       "8   469000  \n",
       "9   366900  "
      ]
     },
     "execution_count": 5,
     "metadata": {},
     "output_type": "execute_result"
    }
   ],
   "source": [
    "data.head(10) # print first 10 rows of the dataset"
   ]
  },
  {
   "cell_type": "code",
   "execution_count": 69,
   "metadata": {},
   "outputs": [
    {
     "name": "stdout",
     "output_type": "stream",
     "text": [
      "Index(['Date', 'Open', 'High', 'Low', 'Close', 'Adj Close', 'Volume'], dtype='object')\n",
      "RangeIndex(start=0, stop=19, step=1)\n"
     ]
    }
   ],
   "source": [
    "print(data.columns)        # prints data column names\n",
    "print(data.index)          # prints index name if any\n",
    "#To set index name run following\n"
   ]
  },
  {
   "cell_type": "markdown",
   "metadata": {},
   "source": [
    "Check the type of columns and indexes"
   ]
  },
  {
   "cell_type": "code",
   "execution_count": 70,
   "metadata": {},
   "outputs": [
    {
     "name": "stdout",
     "output_type": "stream",
     "text": [
      "<class 'pandas.core.indexes.base.Index'>\n",
      "<class 'pandas.core.indexes.range.RangeIndex'>\n"
     ]
    }
   ],
   "source": [
    "print(type(data.columns))\n",
    "print(type(data.index))"
   ]
  },
  {
   "cell_type": "markdown",
   "metadata": {},
   "source": [
    "Both types seem closely related, infact pandas has number of similar objects reserved for either Index or column. Both Index and columns must be some kind of Index object. \"issubclass\" buildin method shows if RangeIndex is subclass of Index. Let's check"
   ]
  },
  {
   "cell_type": "code",
   "execution_count": 71,
   "metadata": {},
   "outputs": [
    {
     "name": "stdout",
     "output_type": "stream",
     "text": [
      "True\n"
     ]
    }
   ],
   "source": [
    "print(issubclass(pd.RangeIndex, pd.Index))"
   ]
  },
  {
   "cell_type": "markdown",
   "metadata": {},
   "source": [
    "Now let's check for data types of columns"
   ]
  },
  {
   "cell_type": "code",
   "execution_count": 54,
   "metadata": {},
   "outputs": [
    {
     "data": {
      "text/plain": [
       "Date          object\n",
       "Open         float64\n",
       "High         float64\n",
       "Low          float64\n",
       "Close        float64\n",
       "Adj Close    float64\n",
       "Volume         int64\n",
       "dtype: object"
      ]
     },
     "execution_count": 54,
     "metadata": {},
     "output_type": "execute_result"
    }
   ],
   "source": [
    "data.dtypes # return the datatypes for each column separately."
   ]
  },
  {
   "cell_type": "code",
   "execution_count": 73,
   "metadata": {},
   "outputs": [
    {
     "data": {
      "text/plain": [
       "float64    5\n",
       "int64      1\n",
       "object     1\n",
       "dtype: int64"
      ]
     },
     "execution_count": 73,
     "metadata": {},
     "output_type": "execute_result"
    }
   ],
   "source": [
    "data.get_dtype_counts()      #counts of datatypes in dataframe."
   ]
  },
  {
   "cell_type": "code",
   "execution_count": 57,
   "metadata": {},
   "outputs": [
    {
     "data": {
      "text/plain": [
       "Date         19\n",
       "Open         17\n",
       "High         19\n",
       "Low          19\n",
       "Close        19\n",
       "Adj Close    19\n",
       "Volume       19\n",
       "dtype: int64"
      ]
     },
     "execution_count": 57,
     "metadata": {},
     "output_type": "execute_result"
    }
   ],
   "source": [
    "data.count()          # count of datatypes in dataframe for each column."
   ]
  },
  {
   "cell_type": "code",
   "execution_count": 77,
   "metadata": {},
   "outputs": [
    {
     "name": "stdout",
     "output_type": "stream",
     "text": [
      "453.10000599999995\n",
      "486.839996\n",
      "469.14000023529405\n",
      "468.77999900000003\n",
      "9.335423854402823\n",
      "7975.380004\n"
     ]
    }
   ],
   "source": [
    "print(open_data.min());\n",
    "print(open_data.max());\n",
    "print(open_data.mean());\n",
    "print(open_data.median());\n",
    "print(open_data.std());\n",
    "print(open_data.sum());"
   ]
  },
  {
   "cell_type": "markdown",
   "metadata": {},
   "source": [
    "Now above statatistics could be found in one line of code i.e. __```open_data.describe()```__  (Please try yourself)"
   ]
  },
  {
   "cell_type": "code",
   "execution_count": 78,
   "metadata": {},
   "outputs": [
    {
     "data": {
      "text/plain": [
       "461.91600339999997"
      ]
     },
     "execution_count": 78,
     "metadata": {},
     "output_type": "execute_result"
    }
   ],
   "source": [
    "# get 0.2 quantile out of data\n",
    "open_data.quantile(0.2)"
   ]
  },
  {
   "cell_type": "code",
   "execution_count": 79,
   "metadata": {},
   "outputs": [
    {
     "name": "stdout",
     "output_type": "stream",
     "text": [
      "2\n"
     ]
    }
   ],
   "source": [
    "# check if any null value\n",
    "open_data.isnull()\n",
    "\n",
    "'''\n",
    "out []\n",
    "\n",
    "0     False\n",
    "1     False\n",
    "2     False\n",
    "3     False\n",
    "4     False\n",
    "5     False\n",
    "6     False\n",
    "7     False\n",
    "8     False\n",
    "9     False\n",
    "10    False\n",
    "11    False\n",
    "12    False\n",
    "13    False\n",
    "14    False\n",
    "15    False\n",
    "16    False\n",
    "17    False\n",
    "18    False\n",
    "Name: Open, dtype: bool\n",
    "'''\n",
    "\n",
    "# or\n",
    "total_number_of_nulls = sum(open_data.isnull())\n",
    "print(total_number_of_nulls)"
   ]
  },
  {
   "cell_type": "code",
   "execution_count": 5,
   "metadata": {},
   "outputs": [
    {
     "data": {
      "text/plain": [
       "Date         0\n",
       "Open         2\n",
       "High         0\n",
       "Low          0\n",
       "Close        0\n",
       "Adj Close    0\n",
       "Volume       0\n",
       "dtype: int64"
      ]
     },
     "execution_count": 5,
     "metadata": {},
     "output_type": "execute_result"
    }
   ],
   "source": [
    "data.isnull().sum() # count the NaNs for each column.\n",
    "# to count all of the NaNs \n",
    "# dataframe data.isnull().sum().sum()  "
   ]
  },
  {
   "cell_type": "code",
   "execution_count": 9,
   "metadata": {},
   "outputs": [
    {
     "data": {
      "text/plain": [
       "True"
      ]
     },
     "execution_count": 9,
     "metadata": {},
     "output_type": "execute_result"
    }
   ],
   "source": [
    "data.isnull().any().any() # to check quickly wheather there is NaN or not.\n",
    "# data.isnull().any() to quickcheck NaN's column-wise. "
   ]
  },
  {
   "cell_type": "markdown",
   "metadata": {},
   "source": [
    "Fill NaNs with some number, Now this some number depends on business cases corresponsing data would have. Lets fill it with 0\n",
    "for now"
   ]
  },
  {
   "cell_type": "code",
   "execution_count": 68,
   "metadata": {},
   "outputs": [
    {
     "data": {
      "text/plain": [
       "0"
      ]
     },
     "execution_count": 68,
     "metadata": {},
     "output_type": "execute_result"
    }
   ],
   "source": [
    "filled_open_data = open_data.fillna(0)\n",
    "# to fill NaNs of specific type say int, run following command\n",
    "\n",
    "\n",
    "fill_open_data = open_data.fillna(0).astype(int)\n",
    "# check if any NaNs now?\n",
    "filled_open_data.isnull().sum()"
   ]
  },
  {
   "cell_type": "markdown",
   "metadata": {},
   "source": [
    "If one has enough data and information would not be lost much then one can drop particular row which is having null value."
   ]
  },
  {
   "cell_type": "code",
   "execution_count": 73,
   "metadata": {},
   "outputs": [
    {
     "data": {
      "text/plain": [
       "0    456.359985\n",
       "1    453.100006\n",
       "2    466.980011\n",
       "3    468.779999\n",
       "4    463.750000\n",
       "Name: Open, dtype: float64"
      ]
     },
     "execution_count": 73,
     "metadata": {},
     "output_type": "execute_result"
    }
   ],
   "source": [
    "dropped_open_data = open_data.dropna()\n",
    "dropped_open_data.head()"
   ]
  },
  {
   "cell_type": "markdown",
   "metadata": {},
   "source": [
    "Arithmetic Operations can be applied on Pandas series like positive, multiply, divide."
   ]
  },
  {
   "cell_type": "code",
   "execution_count": 82,
   "metadata": {},
   "outputs": [
    {
     "name": "stdout",
     "output_type": "stream",
     "text": [
      "0    457.359985\n",
      "1    454.100006\n",
      "2    467.980011\n",
      "3    469.779999\n",
      "4    464.750000\n",
      "Name: Open, dtype: float64\n",
      "0    912.719970\n",
      "1    906.200012\n",
      "2    933.960022\n",
      "3    937.559998\n",
      "4    927.500000\n",
      "Name: Open, dtype: float64\n"
     ]
    }
   ],
   "source": [
    "# addition of 1 in dropped_open_data column\n",
    "\n",
    "add_dod = dropped_open_data + 1\n",
    "mul_dod = dropped_open_data * 2\n",
    "divide_dod = dropped_open_data // 3\n",
    "\n",
    "print(add_dod.head())\n",
    "print(mul_dod.head())"
   ]
  },
  {
   "cell_type": "markdown",
   "metadata": {},
   "source": [
    "Following are three methods to change column names of dataframe"
   ]
  },
  {
   "cell_type": "code",
   "execution_count": 83,
   "metadata": {
    "collapsed": true
   },
   "outputs": [],
   "source": [
    "#Rename column names in pandas make list of new names and replace inplace with new names\n",
    "\n",
    "#columns = ['date', 'open', 'high', 'low', 'close', 'Adj_close', 'vol']\n",
    "#data.columns = columns\n",
    "\n",
    "# rename and create new Dataframe\n",
    "df = data.rename(columns={'Date': 'date', 'Open': 'open','High': 'high', 'Low':'low', 'Close':'close','Adj Close':'Adj_close','Volume':'vol'})\n",
    "\n",
    "# Or rename the existing DataFrame (rather than creating a copy) \n",
    "#data.rename(columns={'Date': 'date', 'Open': 'open','High': 'high', 'Low':'low', 'Close':'close','Adj Close':'Adj_close','Volume':'vol'}, inplace=True)"
   ]
  },
  {
   "cell_type": "markdown",
   "metadata": {},
   "source": [
    "Creating new column"
   ]
  },
  {
   "cell_type": "code",
   "execution_count": 84,
   "metadata": {},
   "outputs": [
    {
     "name": "stdout",
     "output_type": "stream",
     "text": [
      "data columns after adding new column are : Index(['Date', 'Open', 'High', 'Low', 'Close', 'Adj Close', 'Volume',\n",
      "       'zero_risk'],\n",
      "      dtype='object')\n"
     ]
    }
   ],
   "source": [
    "# create new column with entries 0 (easiest one)\n",
    "data['zero_risk'] = 0\n",
    "#check column names in dataframe now\n",
    "print('data columns after adding new column are :',data.columns)\n"
   ]
  },
  {
   "cell_type": "markdown",
   "metadata": {},
   "source": [
    "Sometimes it is helpful to access the data by sorting it accorting to a specific column. For example I want to access the data in increasing order of volume."
   ]
  },
  {
   "cell_type": "code",
   "execution_count": 47,
   "metadata": {},
   "outputs": [
    {
     "data": {
      "text/html": [
       "<div>\n",
       "<style>\n",
       "    .dataframe thead tr:only-child th {\n",
       "        text-align: right;\n",
       "    }\n",
       "\n",
       "    .dataframe thead th {\n",
       "        text-align: left;\n",
       "    }\n",
       "\n",
       "    .dataframe tbody tr th {\n",
       "        vertical-align: top;\n",
       "    }\n",
       "</style>\n",
       "<table border=\"1\" class=\"dataframe\">\n",
       "  <thead>\n",
       "    <tr style=\"text-align: right;\">\n",
       "      <th></th>\n",
       "      <th>Date</th>\n",
       "      <th>Open</th>\n",
       "      <th>High</th>\n",
       "      <th>Low</th>\n",
       "      <th>Close</th>\n",
       "      <th>Adj Close</th>\n",
       "      <th>Volume</th>\n",
       "    </tr>\n",
       "  </thead>\n",
       "  <tbody>\n",
       "    <tr>\n",
       "      <th>9</th>\n",
       "      <td>4/29/2019</td>\n",
       "      <td>NaN</td>\n",
       "      <td>481.579987</td>\n",
       "      <td>478.609985</td>\n",
       "      <td>479.839996</td>\n",
       "      <td>479.839996</td>\n",
       "      <td>366900</td>\n",
       "    </tr>\n",
       "    <tr>\n",
       "      <th>13</th>\n",
       "      <td>5/3/2019</td>\n",
       "      <td>NaN</td>\n",
       "      <td>482.899994</td>\n",
       "      <td>476.410004</td>\n",
       "      <td>482.500000</td>\n",
       "      <td>482.500000</td>\n",
       "      <td>403300</td>\n",
       "    </tr>\n",
       "    <tr>\n",
       "      <th>4</th>\n",
       "      <td>4/22/2019</td>\n",
       "      <td>463.750000</td>\n",
       "      <td>465.660004</td>\n",
       "      <td>462.149994</td>\n",
       "      <td>464.019989</td>\n",
       "      <td>464.019989</td>\n",
       "      <td>432900</td>\n",
       "    </tr>\n",
       "    <tr>\n",
       "      <th>14</th>\n",
       "      <td>5/6/2019</td>\n",
       "      <td>472.920013</td>\n",
       "      <td>478.619995</td>\n",
       "      <td>469.869995</td>\n",
       "      <td>476.369995</td>\n",
       "      <td>476.369995</td>\n",
       "      <td>434400</td>\n",
       "    </tr>\n",
       "    <tr>\n",
       "      <th>17</th>\n",
       "      <td>5/9/2019</td>\n",
       "      <td>458.730011</td>\n",
       "      <td>464.459991</td>\n",
       "      <td>454.160004</td>\n",
       "      <td>464.220001</td>\n",
       "      <td>464.220001</td>\n",
       "      <td>435500</td>\n",
       "    </tr>\n",
       "  </tbody>\n",
       "</table>\n",
       "</div>"
      ],
      "text/plain": [
       "         Date        Open        High         Low       Close   Adj Close  \\\n",
       "9   4/29/2019         NaN  481.579987  478.609985  479.839996  479.839996   \n",
       "13   5/3/2019         NaN  482.899994  476.410004  482.500000  482.500000   \n",
       "4   4/22/2019  463.750000  465.660004  462.149994  464.019989  464.019989   \n",
       "14   5/6/2019  472.920013  478.619995  469.869995  476.369995  476.369995   \n",
       "17   5/9/2019  458.730011  464.459991  454.160004  464.220001  464.220001   \n",
       "\n",
       "    Volume  \n",
       "9   366900  \n",
       "13  403300  \n",
       "4   432900  \n",
       "14  434400  \n",
       "17  435500  "
      ]
     },
     "execution_count": 47,
     "metadata": {},
     "output_type": "execute_result"
    }
   ],
   "source": [
    "data.sort_values(\"Volume\").head()  # By default it rearrange the data in ascending order. If descending order \n",
    "                            #is required then following command can be helpful.\n",
    "#data.sort_values(\"Volume\",ascending = False)"
   ]
  },
  {
   "cell_type": "markdown",
   "metadata": {},
   "source": [
    "Pandas is able to run multiple operations in one go. For example,I want to sort the volumes and simultaneously willing to print first five rows of the data."
   ]
  },
  {
   "cell_type": "code",
   "execution_count": 4,
   "metadata": {},
   "outputs": [
    {
     "data": {
      "text/html": [
       "<div>\n",
       "<style>\n",
       "    .dataframe thead tr:only-child th {\n",
       "        text-align: right;\n",
       "    }\n",
       "\n",
       "    .dataframe thead th {\n",
       "        text-align: left;\n",
       "    }\n",
       "\n",
       "    .dataframe tbody tr th {\n",
       "        vertical-align: top;\n",
       "    }\n",
       "</style>\n",
       "<table border=\"1\" class=\"dataframe\">\n",
       "  <thead>\n",
       "    <tr style=\"text-align: right;\">\n",
       "      <th></th>\n",
       "      <th>Date</th>\n",
       "      <th>Open</th>\n",
       "      <th>High</th>\n",
       "      <th>Low</th>\n",
       "      <th>Close</th>\n",
       "      <th>Adj Close</th>\n",
       "      <th>Volume</th>\n",
       "    </tr>\n",
       "  </thead>\n",
       "  <tbody>\n",
       "    <tr>\n",
       "      <th>9</th>\n",
       "      <td>4/29/2019</td>\n",
       "      <td>NaN</td>\n",
       "      <td>481.579987</td>\n",
       "      <td>478.609985</td>\n",
       "      <td>479.839996</td>\n",
       "      <td>479.839996</td>\n",
       "      <td>366900</td>\n",
       "    </tr>\n",
       "    <tr>\n",
       "      <th>13</th>\n",
       "      <td>5/3/2019</td>\n",
       "      <td>NaN</td>\n",
       "      <td>482.899994</td>\n",
       "      <td>476.410004</td>\n",
       "      <td>482.500000</td>\n",
       "      <td>482.500000</td>\n",
       "      <td>403300</td>\n",
       "    </tr>\n",
       "    <tr>\n",
       "      <th>4</th>\n",
       "      <td>4/22/2019</td>\n",
       "      <td>463.750000</td>\n",
       "      <td>465.660004</td>\n",
       "      <td>462.149994</td>\n",
       "      <td>464.019989</td>\n",
       "      <td>464.019989</td>\n",
       "      <td>432900</td>\n",
       "    </tr>\n",
       "    <tr>\n",
       "      <th>14</th>\n",
       "      <td>5/6/2019</td>\n",
       "      <td>472.920013</td>\n",
       "      <td>478.619995</td>\n",
       "      <td>469.869995</td>\n",
       "      <td>476.369995</td>\n",
       "      <td>476.369995</td>\n",
       "      <td>434400</td>\n",
       "    </tr>\n",
       "    <tr>\n",
       "      <th>17</th>\n",
       "      <td>5/9/2019</td>\n",
       "      <td>458.730011</td>\n",
       "      <td>464.459991</td>\n",
       "      <td>454.160004</td>\n",
       "      <td>464.220001</td>\n",
       "      <td>464.220001</td>\n",
       "      <td>435500</td>\n",
       "    </tr>\n",
       "  </tbody>\n",
       "</table>\n",
       "</div>"
      ],
      "text/plain": [
       "         Date        Open        High         Low       Close   Adj Close  \\\n",
       "9   4/29/2019         NaN  481.579987  478.609985  479.839996  479.839996   \n",
       "13   5/3/2019         NaN  482.899994  476.410004  482.500000  482.500000   \n",
       "4   4/22/2019  463.750000  465.660004  462.149994  464.019989  464.019989   \n",
       "14   5/6/2019  472.920013  478.619995  469.869995  476.369995  476.369995   \n",
       "17   5/9/2019  458.730011  464.459991  454.160004  464.220001  464.220001   \n",
       "\n",
       "    Volume  \n",
       "9   366900  \n",
       "13  403300  \n",
       "4   432900  \n",
       "14  434400  \n",
       "17  435500  "
      ]
     },
     "execution_count": 4,
     "metadata": {},
     "output_type": "execute_result"
    }
   ],
   "source": [
    "data.sort_values(\"Volume\").head()"
   ]
  },
  {
   "cell_type": "markdown",
   "metadata": {},
   "source": [
    "Any operation applied on the data set never alter the original data. From the above operations it seems that I have sorted the original data. Let's take a look at the original data."
   ]
  },
  {
   "cell_type": "code",
   "execution_count": 5,
   "metadata": {},
   "outputs": [
    {
     "data": {
      "text/html": [
       "<div>\n",
       "<style>\n",
       "    .dataframe thead tr:only-child th {\n",
       "        text-align: right;\n",
       "    }\n",
       "\n",
       "    .dataframe thead th {\n",
       "        text-align: left;\n",
       "    }\n",
       "\n",
       "    .dataframe tbody tr th {\n",
       "        vertical-align: top;\n",
       "    }\n",
       "</style>\n",
       "<table border=\"1\" class=\"dataframe\">\n",
       "  <thead>\n",
       "    <tr style=\"text-align: right;\">\n",
       "      <th></th>\n",
       "      <th>Date</th>\n",
       "      <th>Open</th>\n",
       "      <th>High</th>\n",
       "      <th>Low</th>\n",
       "      <th>Close</th>\n",
       "      <th>Adj Close</th>\n",
       "      <th>Volume</th>\n",
       "    </tr>\n",
       "  </thead>\n",
       "  <tbody>\n",
       "    <tr>\n",
       "      <th>0</th>\n",
       "      <td>4/15/2019</td>\n",
       "      <td>456.359985</td>\n",
       "      <td>457.100006</td>\n",
       "      <td>449.769989</td>\n",
       "      <td>451.859985</td>\n",
       "      <td>451.859985</td>\n",
       "      <td>590800</td>\n",
       "    </tr>\n",
       "    <tr>\n",
       "      <th>1</th>\n",
       "      <td>4/16/2019</td>\n",
       "      <td>453.100006</td>\n",
       "      <td>466.890015</td>\n",
       "      <td>453.000000</td>\n",
       "      <td>466.540009</td>\n",
       "      <td>466.540009</td>\n",
       "      <td>1030700</td>\n",
       "    </tr>\n",
       "    <tr>\n",
       "      <th>2</th>\n",
       "      <td>4/17/2019</td>\n",
       "      <td>466.980011</td>\n",
       "      <td>468.779999</td>\n",
       "      <td>462.420013</td>\n",
       "      <td>467.489990</td>\n",
       "      <td>467.489990</td>\n",
       "      <td>628200</td>\n",
       "    </tr>\n",
       "    <tr>\n",
       "      <th>3</th>\n",
       "      <td>4/18/2019</td>\n",
       "      <td>468.779999</td>\n",
       "      <td>469.369995</td>\n",
       "      <td>465.690002</td>\n",
       "      <td>465.690002</td>\n",
       "      <td>465.690002</td>\n",
       "      <td>530400</td>\n",
       "    </tr>\n",
       "    <tr>\n",
       "      <th>4</th>\n",
       "      <td>4/22/2019</td>\n",
       "      <td>463.750000</td>\n",
       "      <td>465.660004</td>\n",
       "      <td>462.149994</td>\n",
       "      <td>464.019989</td>\n",
       "      <td>464.019989</td>\n",
       "      <td>432900</td>\n",
       "    </tr>\n",
       "  </tbody>\n",
       "</table>\n",
       "</div>"
      ],
      "text/plain": [
       "        Date        Open        High         Low       Close   Adj Close  \\\n",
       "0  4/15/2019  456.359985  457.100006  449.769989  451.859985  451.859985   \n",
       "1  4/16/2019  453.100006  466.890015  453.000000  466.540009  466.540009   \n",
       "2  4/17/2019  466.980011  468.779999  462.420013  467.489990  467.489990   \n",
       "3  4/18/2019  468.779999  469.369995  465.690002  465.690002  465.690002   \n",
       "4  4/22/2019  463.750000  465.660004  462.149994  464.019989  464.019989   \n",
       "\n",
       "    Volume  \n",
       "0   590800  \n",
       "1  1030700  \n",
       "2   628200  \n",
       "3   530400  \n",
       "4   432900  "
      ]
     },
     "execution_count": 5,
     "metadata": {},
     "output_type": "execute_result"
    }
   ],
   "source": [
    "data.head()"
   ]
  },
  {
   "cell_type": "markdown",
   "metadata": {},
   "source": [
    "Well!! it still same as original data. Now what should I do if I required to alter the original data.\n",
    "\n"
   ]
  },
  {
   "cell_type": "code",
   "execution_count": 6,
   "metadata": {},
   "outputs": [
    {
     "data": {
      "text/html": [
       "<div>\n",
       "<style>\n",
       "    .dataframe thead tr:only-child th {\n",
       "        text-align: right;\n",
       "    }\n",
       "\n",
       "    .dataframe thead th {\n",
       "        text-align: left;\n",
       "    }\n",
       "\n",
       "    .dataframe tbody tr th {\n",
       "        vertical-align: top;\n",
       "    }\n",
       "</style>\n",
       "<table border=\"1\" class=\"dataframe\">\n",
       "  <thead>\n",
       "    <tr style=\"text-align: right;\">\n",
       "      <th></th>\n",
       "      <th>Date</th>\n",
       "      <th>Open</th>\n",
       "      <th>High</th>\n",
       "      <th>Low</th>\n",
       "      <th>Close</th>\n",
       "      <th>Adj Close</th>\n",
       "      <th>Volume</th>\n",
       "    </tr>\n",
       "  </thead>\n",
       "  <tbody>\n",
       "    <tr>\n",
       "      <th>9</th>\n",
       "      <td>4/29/2019</td>\n",
       "      <td>NaN</td>\n",
       "      <td>481.579987</td>\n",
       "      <td>478.609985</td>\n",
       "      <td>479.839996</td>\n",
       "      <td>479.839996</td>\n",
       "      <td>366900</td>\n",
       "    </tr>\n",
       "    <tr>\n",
       "      <th>13</th>\n",
       "      <td>5/3/2019</td>\n",
       "      <td>NaN</td>\n",
       "      <td>482.899994</td>\n",
       "      <td>476.410004</td>\n",
       "      <td>482.500000</td>\n",
       "      <td>482.500000</td>\n",
       "      <td>403300</td>\n",
       "    </tr>\n",
       "    <tr>\n",
       "      <th>4</th>\n",
       "      <td>4/22/2019</td>\n",
       "      <td>463.750000</td>\n",
       "      <td>465.660004</td>\n",
       "      <td>462.149994</td>\n",
       "      <td>464.019989</td>\n",
       "      <td>464.019989</td>\n",
       "      <td>432900</td>\n",
       "    </tr>\n",
       "    <tr>\n",
       "      <th>14</th>\n",
       "      <td>5/6/2019</td>\n",
       "      <td>472.920013</td>\n",
       "      <td>478.619995</td>\n",
       "      <td>469.869995</td>\n",
       "      <td>476.369995</td>\n",
       "      <td>476.369995</td>\n",
       "      <td>434400</td>\n",
       "    </tr>\n",
       "    <tr>\n",
       "      <th>17</th>\n",
       "      <td>5/9/2019</td>\n",
       "      <td>458.730011</td>\n",
       "      <td>464.459991</td>\n",
       "      <td>454.160004</td>\n",
       "      <td>464.220001</td>\n",
       "      <td>464.220001</td>\n",
       "      <td>435500</td>\n",
       "    </tr>\n",
       "  </tbody>\n",
       "</table>\n",
       "</div>"
      ],
      "text/plain": [
       "         Date        Open        High         Low       Close   Adj Close  \\\n",
       "9   4/29/2019         NaN  481.579987  478.609985  479.839996  479.839996   \n",
       "13   5/3/2019         NaN  482.899994  476.410004  482.500000  482.500000   \n",
       "4   4/22/2019  463.750000  465.660004  462.149994  464.019989  464.019989   \n",
       "14   5/6/2019  472.920013  478.619995  469.869995  476.369995  476.369995   \n",
       "17   5/9/2019  458.730011  464.459991  454.160004  464.220001  464.220001   \n",
       "\n",
       "    Volume  \n",
       "9   366900  \n",
       "13  403300  \n",
       "4   432900  \n",
       "14  434400  \n",
       "17  435500  "
      ]
     },
     "execution_count": 6,
     "metadata": {},
     "output_type": "execute_result"
    }
   ],
   "source": [
    "data.sort_values(\"Volume\", inplace = True) # inplace command alter the original data.\n",
    "data.head()"
   ]
  },
  {
   "cell_type": "markdown",
   "metadata": {},
   "source": [
    "__```sort_values```__ is able to do more than that. It can sort the multiple columns in a single command. The list of the columns should be passed to the __```sort_values```__ command. The order of the sorting is same as the list passed to the command. For example, in __```data.sort_values([\"High\", \"Low\"])```__ <font color = \"orange\">High</font> sorted first and then <font color = \"orange\">Low</font>."
   ]
  },
  {
   "cell_type": "code",
   "execution_count": 46,
   "metadata": {},
   "outputs": [
    {
     "data": {
      "text/html": [
       "<div>\n",
       "<style>\n",
       "    .dataframe thead tr:only-child th {\n",
       "        text-align: right;\n",
       "    }\n",
       "\n",
       "    .dataframe thead th {\n",
       "        text-align: left;\n",
       "    }\n",
       "\n",
       "    .dataframe tbody tr th {\n",
       "        vertical-align: top;\n",
       "    }\n",
       "</style>\n",
       "<table border=\"1\" class=\"dataframe\">\n",
       "  <thead>\n",
       "    <tr style=\"text-align: right;\">\n",
       "      <th></th>\n",
       "      <th>Date</th>\n",
       "      <th>Open</th>\n",
       "      <th>High</th>\n",
       "      <th>Low</th>\n",
       "      <th>Close</th>\n",
       "      <th>Adj Close</th>\n",
       "      <th>Volume</th>\n",
       "    </tr>\n",
       "  </thead>\n",
       "  <tbody>\n",
       "    <tr>\n",
       "      <th>0</th>\n",
       "      <td>4/15/2019</td>\n",
       "      <td>456.359985</td>\n",
       "      <td>457.100006</td>\n",
       "      <td>449.769989</td>\n",
       "      <td>451.859985</td>\n",
       "      <td>451.859985</td>\n",
       "      <td>590800</td>\n",
       "    </tr>\n",
       "    <tr>\n",
       "      <th>17</th>\n",
       "      <td>5/9/2019</td>\n",
       "      <td>458.730011</td>\n",
       "      <td>464.459991</td>\n",
       "      <td>454.160004</td>\n",
       "      <td>464.220001</td>\n",
       "      <td>464.220001</td>\n",
       "      <td>435500</td>\n",
       "    </tr>\n",
       "    <tr>\n",
       "      <th>18</th>\n",
       "      <td>5/10/2019</td>\n",
       "      <td>461.850006</td>\n",
       "      <td>465.640015</td>\n",
       "      <td>453.250000</td>\n",
       "      <td>463.000000</td>\n",
       "      <td>463.000000</td>\n",
       "      <td>484000</td>\n",
       "    </tr>\n",
       "    <tr>\n",
       "      <th>4</th>\n",
       "      <td>4/22/2019</td>\n",
       "      <td>463.750000</td>\n",
       "      <td>465.660004</td>\n",
       "      <td>462.149994</td>\n",
       "      <td>464.019989</td>\n",
       "      <td>464.019989</td>\n",
       "      <td>432900</td>\n",
       "    </tr>\n",
       "    <tr>\n",
       "      <th>1</th>\n",
       "      <td>4/16/2019</td>\n",
       "      <td>453.100006</td>\n",
       "      <td>466.890015</td>\n",
       "      <td>453.000000</td>\n",
       "      <td>466.540009</td>\n",
       "      <td>466.540009</td>\n",
       "      <td>1030700</td>\n",
       "    </tr>\n",
       "  </tbody>\n",
       "</table>\n",
       "</div>"
      ],
      "text/plain": [
       "         Date        Open        High         Low       Close   Adj Close  \\\n",
       "0   4/15/2019  456.359985  457.100006  449.769989  451.859985  451.859985   \n",
       "17   5/9/2019  458.730011  464.459991  454.160004  464.220001  464.220001   \n",
       "18  5/10/2019  461.850006  465.640015  453.250000  463.000000  463.000000   \n",
       "4   4/22/2019  463.750000  465.660004  462.149994  464.019989  464.019989   \n",
       "1   4/16/2019  453.100006  466.890015  453.000000  466.540009  466.540009   \n",
       "\n",
       "     Volume  \n",
       "0    590800  \n",
       "17   435500  \n",
       "18   484000  \n",
       "4    432900  \n",
       "1   1030700  "
      ]
     },
     "execution_count": 46,
     "metadata": {},
     "output_type": "execute_result"
    }
   ],
   "source": [
    "data.sort_values([\"High\", \"Low\"]).head()"
   ]
  },
  {
   "cell_type": "markdown",
   "metadata": {},
   "source": [
    "**Great!!!** We are able to sort the data in different manner. But there are few __```NaN```__ in <font color = \"red\">Open</font> column. What to do with that? By default, all the __```NaN```__'s are at the end but if we need to keep the __```NaN```__'s in the begining, then use the __```data.sort_values(\"Open\", na_postion = first)```__"
   ]
  },
  {
   "cell_type": "code",
   "execution_count": 45,
   "metadata": {},
   "outputs": [
    {
     "data": {
      "text/html": [
       "<div>\n",
       "<style>\n",
       "    .dataframe thead tr:only-child th {\n",
       "        text-align: right;\n",
       "    }\n",
       "\n",
       "    .dataframe thead th {\n",
       "        text-align: left;\n",
       "    }\n",
       "\n",
       "    .dataframe tbody tr th {\n",
       "        vertical-align: top;\n",
       "    }\n",
       "</style>\n",
       "<table border=\"1\" class=\"dataframe\">\n",
       "  <thead>\n",
       "    <tr style=\"text-align: right;\">\n",
       "      <th></th>\n",
       "      <th>Date</th>\n",
       "      <th>Open</th>\n",
       "      <th>High</th>\n",
       "      <th>Low</th>\n",
       "      <th>Close</th>\n",
       "      <th>Adj Close</th>\n",
       "      <th>Volume</th>\n",
       "    </tr>\n",
       "  </thead>\n",
       "  <tbody>\n",
       "    <tr>\n",
       "      <th>9</th>\n",
       "      <td>4/29/2019</td>\n",
       "      <td>NaN</td>\n",
       "      <td>481.579987</td>\n",
       "      <td>478.609985</td>\n",
       "      <td>479.839996</td>\n",
       "      <td>479.839996</td>\n",
       "      <td>366900</td>\n",
       "    </tr>\n",
       "    <tr>\n",
       "      <th>13</th>\n",
       "      <td>5/3/2019</td>\n",
       "      <td>NaN</td>\n",
       "      <td>482.899994</td>\n",
       "      <td>476.410004</td>\n",
       "      <td>482.500000</td>\n",
       "      <td>482.500000</td>\n",
       "      <td>403300</td>\n",
       "    </tr>\n",
       "    <tr>\n",
       "      <th>1</th>\n",
       "      <td>4/16/2019</td>\n",
       "      <td>453.100006</td>\n",
       "      <td>466.890015</td>\n",
       "      <td>453.000000</td>\n",
       "      <td>466.540009</td>\n",
       "      <td>466.540009</td>\n",
       "      <td>1030700</td>\n",
       "    </tr>\n",
       "    <tr>\n",
       "      <th>0</th>\n",
       "      <td>4/15/2019</td>\n",
       "      <td>456.359985</td>\n",
       "      <td>457.100006</td>\n",
       "      <td>449.769989</td>\n",
       "      <td>451.859985</td>\n",
       "      <td>451.859985</td>\n",
       "      <td>590800</td>\n",
       "    </tr>\n",
       "    <tr>\n",
       "      <th>17</th>\n",
       "      <td>5/9/2019</td>\n",
       "      <td>458.730011</td>\n",
       "      <td>464.459991</td>\n",
       "      <td>454.160004</td>\n",
       "      <td>464.220001</td>\n",
       "      <td>464.220001</td>\n",
       "      <td>435500</td>\n",
       "    </tr>\n",
       "  </tbody>\n",
       "</table>\n",
       "</div>"
      ],
      "text/plain": [
       "         Date        Open        High         Low       Close   Adj Close  \\\n",
       "9   4/29/2019         NaN  481.579987  478.609985  479.839996  479.839996   \n",
       "13   5/3/2019         NaN  482.899994  476.410004  482.500000  482.500000   \n",
       "1   4/16/2019  453.100006  466.890015  453.000000  466.540009  466.540009   \n",
       "0   4/15/2019  456.359985  457.100006  449.769989  451.859985  451.859985   \n",
       "17   5/9/2019  458.730011  464.459991  454.160004  464.220001  464.220001   \n",
       "\n",
       "     Volume  \n",
       "9    366900  \n",
       "13   403300  \n",
       "1   1030700  \n",
       "0    590800  \n",
       "17   435500  "
      ]
     },
     "execution_count": 45,
     "metadata": {},
     "output_type": "execute_result"
    }
   ],
   "source": [
    "data.sort_values(\"Open\",na_position = \"first\").head()"
   ]
  },
  {
   "cell_type": "markdown",
   "metadata": {},
   "source": [
    "Now, Let's get the original data again."
   ]
  },
  {
   "cell_type": "code",
   "execution_count": 21,
   "metadata": {
    "collapsed": true
   },
   "outputs": [],
   "source": [
    "data.sort_index(inplace = True) # sort the data according to the index."
   ]
  },
  {
   "cell_type": "markdown",
   "metadata": {
    "collapsed": true
   },
   "source": [
    "### How to select the data"
   ]
  },
  {
   "cell_type": "markdown",
   "metadata": {},
   "source": [
    "__to select the column:__\n",
    "Sometimes it is helpful to access some specific columns for better vizualization of the data. Pandas allows this in very simple manner. Here let's access the \"High\" and \"Low\" only. A list needed columns should be passed to the data."
   ]
  },
  {
   "cell_type": "code",
   "execution_count": 25,
   "metadata": {},
   "outputs": [
    {
     "data": {
      "text/html": [
       "<div>\n",
       "<style>\n",
       "    .dataframe thead tr:only-child th {\n",
       "        text-align: right;\n",
       "    }\n",
       "\n",
       "    .dataframe thead th {\n",
       "        text-align: left;\n",
       "    }\n",
       "\n",
       "    .dataframe tbody tr th {\n",
       "        vertical-align: top;\n",
       "    }\n",
       "</style>\n",
       "<table border=\"1\" class=\"dataframe\">\n",
       "  <thead>\n",
       "    <tr style=\"text-align: right;\">\n",
       "      <th></th>\n",
       "      <th>High</th>\n",
       "      <th>Low</th>\n",
       "    </tr>\n",
       "  </thead>\n",
       "  <tbody>\n",
       "    <tr>\n",
       "      <th>0</th>\n",
       "      <td>457.100006</td>\n",
       "      <td>449.769989</td>\n",
       "    </tr>\n",
       "    <tr>\n",
       "      <th>1</th>\n",
       "      <td>466.890015</td>\n",
       "      <td>453.000000</td>\n",
       "    </tr>\n",
       "    <tr>\n",
       "      <th>2</th>\n",
       "      <td>468.779999</td>\n",
       "      <td>462.420013</td>\n",
       "    </tr>\n",
       "    <tr>\n",
       "      <th>3</th>\n",
       "      <td>469.369995</td>\n",
       "      <td>465.690002</td>\n",
       "    </tr>\n",
       "    <tr>\n",
       "      <th>4</th>\n",
       "      <td>465.660004</td>\n",
       "      <td>462.149994</td>\n",
       "    </tr>\n",
       "  </tbody>\n",
       "</table>\n",
       "</div>"
      ],
      "text/plain": [
       "         High         Low\n",
       "0  457.100006  449.769989\n",
       "1  466.890015  453.000000\n",
       "2  468.779999  462.420013\n",
       "3  469.369995  465.690002\n",
       "4  465.660004  462.149994"
      ]
     },
     "execution_count": 25,
     "metadata": {},
     "output_type": "execute_result"
    }
   ],
   "source": [
    "data[[\"High\",\"Low\"]] # selecting the column High and Low only.\n",
    "data[[\"High\",\"Low\"]].head() "
   ]
  },
  {
   "cell_type": "markdown",
   "metadata": {},
   "source": [
    "__```Pandas```__  allow to select the data in the more specific manner. For example, we wish to select the columns having numbers only."
   ]
  },
  {
   "cell_type": "code",
   "execution_count": 4,
   "metadata": {},
   "outputs": [
    {
     "data": {
      "text/html": [
       "<div>\n",
       "<style>\n",
       "    .dataframe thead tr:only-child th {\n",
       "        text-align: right;\n",
       "    }\n",
       "\n",
       "    .dataframe thead th {\n",
       "        text-align: left;\n",
       "    }\n",
       "\n",
       "    .dataframe tbody tr th {\n",
       "        vertical-align: top;\n",
       "    }\n",
       "</style>\n",
       "<table border=\"1\" class=\"dataframe\">\n",
       "  <thead>\n",
       "    <tr style=\"text-align: right;\">\n",
       "      <th></th>\n",
       "      <th>Open</th>\n",
       "      <th>High</th>\n",
       "      <th>Low</th>\n",
       "      <th>Close</th>\n",
       "      <th>Adj Close</th>\n",
       "      <th>Volume</th>\n",
       "    </tr>\n",
       "  </thead>\n",
       "  <tbody>\n",
       "    <tr>\n",
       "      <th>0</th>\n",
       "      <td>456.359985</td>\n",
       "      <td>457.100006</td>\n",
       "      <td>449.769989</td>\n",
       "      <td>451.859985</td>\n",
       "      <td>451.859985</td>\n",
       "      <td>590800</td>\n",
       "    </tr>\n",
       "    <tr>\n",
       "      <th>1</th>\n",
       "      <td>453.100006</td>\n",
       "      <td>466.890015</td>\n",
       "      <td>453.000000</td>\n",
       "      <td>466.540009</td>\n",
       "      <td>466.540009</td>\n",
       "      <td>1030700</td>\n",
       "    </tr>\n",
       "    <tr>\n",
       "      <th>2</th>\n",
       "      <td>466.980011</td>\n",
       "      <td>468.779999</td>\n",
       "      <td>462.420013</td>\n",
       "      <td>467.489990</td>\n",
       "      <td>467.489990</td>\n",
       "      <td>628200</td>\n",
       "    </tr>\n",
       "    <tr>\n",
       "      <th>3</th>\n",
       "      <td>468.779999</td>\n",
       "      <td>469.369995</td>\n",
       "      <td>465.690002</td>\n",
       "      <td>465.690002</td>\n",
       "      <td>465.690002</td>\n",
       "      <td>530400</td>\n",
       "    </tr>\n",
       "    <tr>\n",
       "      <th>4</th>\n",
       "      <td>463.750000</td>\n",
       "      <td>465.660004</td>\n",
       "      <td>462.149994</td>\n",
       "      <td>464.019989</td>\n",
       "      <td>464.019989</td>\n",
       "      <td>432900</td>\n",
       "    </tr>\n",
       "  </tbody>\n",
       "</table>\n",
       "</div>"
      ],
      "text/plain": [
       "         Open        High         Low       Close   Adj Close   Volume\n",
       "0  456.359985  457.100006  449.769989  451.859985  451.859985   590800\n",
       "1  453.100006  466.890015  453.000000  466.540009  466.540009  1030700\n",
       "2  466.980011  468.779999  462.420013  467.489990  467.489990   628200\n",
       "3  468.779999  469.369995  465.690002  465.690002  465.690002   530400\n",
       "4  463.750000  465.660004  462.149994  464.019989  464.019989   432900"
      ]
     },
     "execution_count": 4,
     "metadata": {},
     "output_type": "execute_result"
    }
   ],
   "source": [
    "data.select_dtypes(include=['number']).head()"
   ]
  },
  {
   "cell_type": "markdown",
   "metadata": {},
   "source": [
    "__```filter```__ method in pandas is also very felxible in selecting the data. It take a list or string to filter the data."
   ]
  },
  {
   "cell_type": "code",
   "execution_count": 48,
   "metadata": {},
   "outputs": [
    {
     "data": {
      "text/html": [
       "<div>\n",
       "<style>\n",
       "    .dataframe thead tr:only-child th {\n",
       "        text-align: right;\n",
       "    }\n",
       "\n",
       "    .dataframe thead th {\n",
       "        text-align: left;\n",
       "    }\n",
       "\n",
       "    .dataframe tbody tr th {\n",
       "        vertical-align: top;\n",
       "    }\n",
       "</style>\n",
       "<table border=\"1\" class=\"dataframe\">\n",
       "  <thead>\n",
       "    <tr style=\"text-align: right;\">\n",
       "      <th></th>\n",
       "      <th>High</th>\n",
       "      <th>Low</th>\n",
       "    </tr>\n",
       "  </thead>\n",
       "  <tbody>\n",
       "    <tr>\n",
       "      <th>0</th>\n",
       "      <td>457.100006</td>\n",
       "      <td>449.769989</td>\n",
       "    </tr>\n",
       "    <tr>\n",
       "      <th>1</th>\n",
       "      <td>466.890015</td>\n",
       "      <td>453.000000</td>\n",
       "    </tr>\n",
       "    <tr>\n",
       "      <th>2</th>\n",
       "      <td>468.779999</td>\n",
       "      <td>462.420013</td>\n",
       "    </tr>\n",
       "    <tr>\n",
       "      <th>3</th>\n",
       "      <td>469.369995</td>\n",
       "      <td>465.690002</td>\n",
       "    </tr>\n",
       "    <tr>\n",
       "      <th>4</th>\n",
       "      <td>465.660004</td>\n",
       "      <td>462.149994</td>\n",
       "    </tr>\n",
       "  </tbody>\n",
       "</table>\n",
       "</div>"
      ],
      "text/plain": [
       "         High         Low\n",
       "0  457.100006  449.769989\n",
       "1  466.890015  453.000000\n",
       "2  468.779999  462.420013\n",
       "3  469.369995  465.690002\n",
       "4  465.660004  462.149994"
      ]
     },
     "execution_count": 48,
     "metadata": {},
     "output_type": "execute_result"
    }
   ],
   "source": [
    "data.filter([\"High\",\"Low\"]).head() # .head() can be ommited. It is just added to reduce the output data."
   ]
  },
  {
   "cell_type": "markdown",
   "metadata": {},
   "source": [
    "__```filter```__ method has an argument __```like```__. It takes a string and return all of the columns with heading which includes the provided string."
   ]
  },
  {
   "cell_type": "code",
   "execution_count": 27,
   "metadata": {},
   "outputs": [
    {
     "data": {
      "text/html": [
       "<div>\n",
       "<style>\n",
       "    .dataframe thead tr:only-child th {\n",
       "        text-align: right;\n",
       "    }\n",
       "\n",
       "    .dataframe thead th {\n",
       "        text-align: left;\n",
       "    }\n",
       "\n",
       "    .dataframe tbody tr th {\n",
       "        vertical-align: top;\n",
       "    }\n",
       "</style>\n",
       "<table border=\"1\" class=\"dataframe\">\n",
       "  <thead>\n",
       "    <tr style=\"text-align: right;\">\n",
       "      <th></th>\n",
       "      <th>Low</th>\n",
       "      <th>Close</th>\n",
       "      <th>Adj Close</th>\n",
       "      <th>Volume</th>\n",
       "    </tr>\n",
       "  </thead>\n",
       "  <tbody>\n",
       "    <tr>\n",
       "      <th>0</th>\n",
       "      <td>449.769989</td>\n",
       "      <td>451.859985</td>\n",
       "      <td>451.859985</td>\n",
       "      <td>590800</td>\n",
       "    </tr>\n",
       "    <tr>\n",
       "      <th>1</th>\n",
       "      <td>453.000000</td>\n",
       "      <td>466.540009</td>\n",
       "      <td>466.540009</td>\n",
       "      <td>1030700</td>\n",
       "    </tr>\n",
       "    <tr>\n",
       "      <th>2</th>\n",
       "      <td>462.420013</td>\n",
       "      <td>467.489990</td>\n",
       "      <td>467.489990</td>\n",
       "      <td>628200</td>\n",
       "    </tr>\n",
       "    <tr>\n",
       "      <th>3</th>\n",
       "      <td>465.690002</td>\n",
       "      <td>465.690002</td>\n",
       "      <td>465.690002</td>\n",
       "      <td>530400</td>\n",
       "    </tr>\n",
       "    <tr>\n",
       "      <th>4</th>\n",
       "      <td>462.149994</td>\n",
       "      <td>464.019989</td>\n",
       "      <td>464.019989</td>\n",
       "      <td>432900</td>\n",
       "    </tr>\n",
       "  </tbody>\n",
       "</table>\n",
       "</div>"
      ],
      "text/plain": [
       "          Low       Close   Adj Close   Volume\n",
       "0  449.769989  451.859985  451.859985   590800\n",
       "1  453.000000  466.540009  466.540009  1030700\n",
       "2  462.420013  467.489990  467.489990   628200\n",
       "3  465.690002  465.690002  465.690002   530400\n",
       "4  462.149994  464.019989  464.019989   432900"
      ]
     },
     "execution_count": 27,
     "metadata": {},
     "output_type": "execute_result"
    }
   ],
   "source": [
    "data.filter(like=\"o\").head() # will return all the columns consisting \"o\"."
   ]
  },
  {
   "cell_type": "markdown",
   "metadata": {},
   "source": [
    "__selecting the complete row__"
   ]
  },
  {
   "cell_type": "code",
   "execution_count": 51,
   "metadata": {},
   "outputs": [
    {
     "data": {
      "text/plain": [
       "Date         4/30/2019\n",
       "Open            479.74\n",
       "High            485.85\n",
       "Low             477.57\n",
       "Close           485.24\n",
       "Adj Close       485.24\n",
       "Volume          567600\n",
       "Name: 10, dtype: object"
      ]
     },
     "execution_count": 51,
     "metadata": {},
     "output_type": "execute_result"
    }
   ],
   "source": [
    "data.loc[10] # selecting the 10th row"
   ]
  },
  {
   "cell_type": "markdown",
   "metadata": {},
   "source": [
    "Above method can also be used to access the multiple rows at the same time. Passing a list of the indices of the row to be select."
   ]
  },
  {
   "cell_type": "code",
   "execution_count": 17,
   "metadata": {},
   "outputs": [
    {
     "data": {
      "text/html": [
       "<div>\n",
       "<style scoped>\n",
       "    .dataframe tbody tr th:only-of-type {\n",
       "        vertical-align: middle;\n",
       "    }\n",
       "\n",
       "    .dataframe tbody tr th {\n",
       "        vertical-align: top;\n",
       "    }\n",
       "\n",
       "    .dataframe thead th {\n",
       "        text-align: right;\n",
       "    }\n",
       "</style>\n",
       "<table border=\"1\" class=\"dataframe\">\n",
       "  <thead>\n",
       "    <tr style=\"text-align: right;\">\n",
       "      <th></th>\n",
       "      <th>Date</th>\n",
       "      <th>Open</th>\n",
       "      <th>High</th>\n",
       "      <th>Low</th>\n",
       "      <th>Close</th>\n",
       "      <th>Adj Close</th>\n",
       "      <th>Volume</th>\n",
       "    </tr>\n",
       "  </thead>\n",
       "  <tbody>\n",
       "    <tr>\n",
       "      <th>0</th>\n",
       "      <td>4/15/2019</td>\n",
       "      <td>456.359985</td>\n",
       "      <td>457.100006</td>\n",
       "      <td>449.769989</td>\n",
       "      <td>451.859985</td>\n",
       "      <td>451.859985</td>\n",
       "      <td>590800</td>\n",
       "    </tr>\n",
       "    <tr>\n",
       "      <th>2</th>\n",
       "      <td>4/17/2019</td>\n",
       "      <td>466.980011</td>\n",
       "      <td>468.779999</td>\n",
       "      <td>462.420013</td>\n",
       "      <td>467.489990</td>\n",
       "      <td>467.489990</td>\n",
       "      <td>628200</td>\n",
       "    </tr>\n",
       "    <tr>\n",
       "      <th>3</th>\n",
       "      <td>4/18/2019</td>\n",
       "      <td>468.779999</td>\n",
       "      <td>469.369995</td>\n",
       "      <td>465.690002</td>\n",
       "      <td>465.690002</td>\n",
       "      <td>465.690002</td>\n",
       "      <td>530400</td>\n",
       "    </tr>\n",
       "    <tr>\n",
       "      <th>5</th>\n",
       "      <td>4/23/2019</td>\n",
       "      <td>464.000000</td>\n",
       "      <td>474.029999</td>\n",
       "      <td>463.899994</td>\n",
       "      <td>474.029999</td>\n",
       "      <td>474.029999</td>\n",
       "      <td>687400</td>\n",
       "    </tr>\n",
       "    <tr>\n",
       "      <th>8</th>\n",
       "      <td>4/26/2019</td>\n",
       "      <td>475.109985</td>\n",
       "      <td>479.459991</td>\n",
       "      <td>471.850006</td>\n",
       "      <td>478.980011</td>\n",
       "      <td>478.980011</td>\n",
       "      <td>469000</td>\n",
       "    </tr>\n",
       "  </tbody>\n",
       "</table>\n",
       "</div>"
      ],
      "text/plain": [
       "        Date        Open        High         Low       Close   Adj Close  \\\n",
       "0  4/15/2019  456.359985  457.100006  449.769989  451.859985  451.859985   \n",
       "2  4/17/2019  466.980011  468.779999  462.420013  467.489990  467.489990   \n",
       "3  4/18/2019  468.779999  469.369995  465.690002  465.690002  465.690002   \n",
       "5  4/23/2019  464.000000  474.029999  463.899994  474.029999  474.029999   \n",
       "8  4/26/2019  475.109985  479.459991  471.850006  478.980011  478.980011   \n",
       "\n",
       "   Volume  \n",
       "0  590800  \n",
       "2  628200  \n",
       "3  530400  \n",
       "5  687400  \n",
       "8  469000  "
      ]
     },
     "execution_count": 17,
     "metadata": {},
     "output_type": "execute_result"
    }
   ],
   "source": [
    "data.loc[[0,2,3,5,8]]"
   ]
  },
  {
   "cell_type": "markdown",
   "metadata": {},
   "source": [
    "__```loc```__ loc method can also select a slice of rows."
   ]
  },
  {
   "cell_type": "code",
   "execution_count": 53,
   "metadata": {},
   "outputs": [
    {
     "data": {
      "text/html": [
       "<div>\n",
       "<style scoped>\n",
       "    .dataframe tbody tr th:only-of-type {\n",
       "        vertical-align: middle;\n",
       "    }\n",
       "\n",
       "    .dataframe tbody tr th {\n",
       "        vertical-align: top;\n",
       "    }\n",
       "\n",
       "    .dataframe thead th {\n",
       "        text-align: right;\n",
       "    }\n",
       "</style>\n",
       "<table border=\"1\" class=\"dataframe\">\n",
       "  <thead>\n",
       "    <tr style=\"text-align: right;\">\n",
       "      <th></th>\n",
       "      <th>Date</th>\n",
       "      <th>Open</th>\n",
       "      <th>High</th>\n",
       "      <th>Low</th>\n",
       "      <th>Close</th>\n",
       "      <th>Adj Close</th>\n",
       "      <th>Volume</th>\n",
       "    </tr>\n",
       "  </thead>\n",
       "  <tbody>\n",
       "    <tr>\n",
       "      <th>5</th>\n",
       "      <td>4/23/2019</td>\n",
       "      <td>464.000000</td>\n",
       "      <td>474.029999</td>\n",
       "      <td>463.899994</td>\n",
       "      <td>474.029999</td>\n",
       "      <td>474.029999</td>\n",
       "      <td>687400</td>\n",
       "    </tr>\n",
       "    <tr>\n",
       "      <th>6</th>\n",
       "      <td>4/24/2019</td>\n",
       "      <td>474.029999</td>\n",
       "      <td>482.369995</td>\n",
       "      <td>472.609985</td>\n",
       "      <td>480.170013</td>\n",
       "      <td>480.170013</td>\n",
       "      <td>1008500</td>\n",
       "    </tr>\n",
       "    <tr>\n",
       "      <th>7</th>\n",
       "      <td>4/25/2019</td>\n",
       "      <td>477.890015</td>\n",
       "      <td>480.480011</td>\n",
       "      <td>472.609985</td>\n",
       "      <td>474.450012</td>\n",
       "      <td>474.450012</td>\n",
       "      <td>598700</td>\n",
       "    </tr>\n",
       "    <tr>\n",
       "      <th>8</th>\n",
       "      <td>4/26/2019</td>\n",
       "      <td>475.109985</td>\n",
       "      <td>479.459991</td>\n",
       "      <td>471.850006</td>\n",
       "      <td>478.980011</td>\n",
       "      <td>478.980011</td>\n",
       "      <td>469000</td>\n",
       "    </tr>\n",
       "    <tr>\n",
       "      <th>9</th>\n",
       "      <td>4/29/2019</td>\n",
       "      <td>NaN</td>\n",
       "      <td>481.579987</td>\n",
       "      <td>478.609985</td>\n",
       "      <td>479.839996</td>\n",
       "      <td>479.839996</td>\n",
       "      <td>366900</td>\n",
       "    </tr>\n",
       "    <tr>\n",
       "      <th>10</th>\n",
       "      <td>4/30/2019</td>\n",
       "      <td>479.739990</td>\n",
       "      <td>485.850006</td>\n",
       "      <td>477.570007</td>\n",
       "      <td>485.239990</td>\n",
       "      <td>485.239990</td>\n",
       "      <td>567600</td>\n",
       "    </tr>\n",
       "  </tbody>\n",
       "</table>\n",
       "</div>"
      ],
      "text/plain": [
       "         Date        Open        High         Low       Close   Adj Close  \\\n",
       "5   4/23/2019  464.000000  474.029999  463.899994  474.029999  474.029999   \n",
       "6   4/24/2019  474.029999  482.369995  472.609985  480.170013  480.170013   \n",
       "7   4/25/2019  477.890015  480.480011  472.609985  474.450012  474.450012   \n",
       "8   4/26/2019  475.109985  479.459991  471.850006  478.980011  478.980011   \n",
       "9   4/29/2019         NaN  481.579987  478.609985  479.839996  479.839996   \n",
       "10  4/30/2019  479.739990  485.850006  477.570007  485.239990  485.239990   \n",
       "\n",
       "     Volume  \n",
       "5    687400  \n",
       "6   1008500  \n",
       "7    598700  \n",
       "8    469000  \n",
       "9    366900  \n",
       "10   567600  "
      ]
     },
     "execution_count": 53,
     "metadata": {},
     "output_type": "execute_result"
    }
   ],
   "source": [
    "data.loc[5:10]  # selecting the rows from 5 to 10"
   ]
  },
  {
   "cell_type": "markdown",
   "metadata": {},
   "source": [
    "One more possible way to select the data using the __```loc```__ method is __```data.loc[initial,end,step]```__"
   ]
  },
  {
   "cell_type": "code",
   "execution_count": 50,
   "metadata": {},
   "outputs": [
    {
     "data": {
      "text/html": [
       "<div>\n",
       "<style scoped>\n",
       "    .dataframe tbody tr th:only-of-type {\n",
       "        vertical-align: middle;\n",
       "    }\n",
       "\n",
       "    .dataframe tbody tr th {\n",
       "        vertical-align: top;\n",
       "    }\n",
       "\n",
       "    .dataframe thead th {\n",
       "        text-align: right;\n",
       "    }\n",
       "</style>\n",
       "<table border=\"1\" class=\"dataframe\">\n",
       "  <thead>\n",
       "    <tr style=\"text-align: right;\">\n",
       "      <th></th>\n",
       "      <th>Date</th>\n",
       "      <th>Open</th>\n",
       "      <th>High</th>\n",
       "      <th>Low</th>\n",
       "      <th>Close</th>\n",
       "      <th>Adj Close</th>\n",
       "      <th>Volume</th>\n",
       "    </tr>\n",
       "  </thead>\n",
       "  <tbody>\n",
       "    <tr>\n",
       "      <th>4</th>\n",
       "      <td>4/22/2019</td>\n",
       "      <td>463.750000</td>\n",
       "      <td>465.660004</td>\n",
       "      <td>462.149994</td>\n",
       "      <td>464.019989</td>\n",
       "      <td>464.019989</td>\n",
       "      <td>432900</td>\n",
       "    </tr>\n",
       "    <tr>\n",
       "      <th>6</th>\n",
       "      <td>4/24/2019</td>\n",
       "      <td>474.029999</td>\n",
       "      <td>482.369995</td>\n",
       "      <td>472.609985</td>\n",
       "      <td>480.170013</td>\n",
       "      <td>480.170013</td>\n",
       "      <td>1008500</td>\n",
       "    </tr>\n",
       "    <tr>\n",
       "      <th>8</th>\n",
       "      <td>4/26/2019</td>\n",
       "      <td>475.109985</td>\n",
       "      <td>479.459991</td>\n",
       "      <td>471.850006</td>\n",
       "      <td>478.980011</td>\n",
       "      <td>478.980011</td>\n",
       "      <td>469000</td>\n",
       "    </tr>\n",
       "    <tr>\n",
       "      <th>10</th>\n",
       "      <td>4/30/2019</td>\n",
       "      <td>479.739990</td>\n",
       "      <td>485.850006</td>\n",
       "      <td>477.570007</td>\n",
       "      <td>485.239990</td>\n",
       "      <td>485.239990</td>\n",
       "      <td>567600</td>\n",
       "    </tr>\n",
       "    <tr>\n",
       "      <th>12</th>\n",
       "      <td>5/2/2019</td>\n",
       "      <td>479.510010</td>\n",
       "      <td>480.170013</td>\n",
       "      <td>471.470001</td>\n",
       "      <td>476.410004</td>\n",
       "      <td>476.410004</td>\n",
       "      <td>436100</td>\n",
       "    </tr>\n",
       "  </tbody>\n",
       "</table>\n",
       "</div>"
      ],
      "text/plain": [
       "         Date        Open        High         Low       Close   Adj Close  \\\n",
       "4   4/22/2019  463.750000  465.660004  462.149994  464.019989  464.019989   \n",
       "6   4/24/2019  474.029999  482.369995  472.609985  480.170013  480.170013   \n",
       "8   4/26/2019  475.109985  479.459991  471.850006  478.980011  478.980011   \n",
       "10  4/30/2019  479.739990  485.850006  477.570007  485.239990  485.239990   \n",
       "12   5/2/2019  479.510010  480.170013  471.470001  476.410004  476.410004   \n",
       "\n",
       "     Volume  \n",
       "4    432900  \n",
       "6   1008500  \n",
       "8    469000  \n",
       "10   567600  \n",
       "12   436100  "
      ]
     },
     "execution_count": 50,
     "metadata": {},
     "output_type": "execute_result"
    }
   ],
   "source": [
    "data.iloc[4:19:2].head()"
   ]
  },
  {
   "cell_type": "markdown",
   "metadata": {},
   "source": [
    "* __```loc```__ and __```iloc```__ method are equivalent."
   ]
  },
  {
   "cell_type": "markdown",
   "metadata": {},
   "source": [
    "** Accessing a particular entry from dataframe. **\n",
    "Python has number of in-built containers like lists, dictionary, tuple , each of which uses index to access element. In similar fashion Pandas has dataframe as complex container which uses index or column names to access data point."
   ]
  },
  {
   "cell_type": "code",
   "execution_count": 15,
   "metadata": {},
   "outputs": [
    {
     "data": {
      "text/plain": [
       "0    456.359985\n",
       "1    453.100006\n",
       "2    466.980011\n",
       "3    468.779999\n",
       "4    463.750000\n",
       "Name: Open, dtype: float64"
      ]
     },
     "execution_count": 15,
     "metadata": {},
     "output_type": "execute_result"
    }
   ],
   "source": [
    "# Access with Column name\n",
    "\n",
    "data['Open']      #fetches \"Open\" pandas series\n",
    "# one can rename this pandas series if one has to work with sigle column only\n",
    "open_data = data['Open']\n",
    "open_data.head()"
   ]
  },
  {
   "cell_type": "markdown",
   "metadata": {},
   "source": [
    "Above method is recommended but there is another dot method i.e. __```data.Open```__ to access columns, which is quite error prone. You can not access column if the dataframe has column names with special characters and spaces in it as well as if column name is same as pandas DataFrame method name."
   ]
  },
  {
   "cell_type": "code",
   "execution_count": 18,
   "metadata": {},
   "outputs": [
    {
     "data": {
      "text/plain": [
       "Date         4/15/2019\n",
       "Open            456.36\n",
       "High             457.1\n",
       "Low             449.77\n",
       "Close           451.86\n",
       "Adj Close       451.86\n",
       "Volume          590800\n",
       "Name: 0, dtype: object"
      ]
     },
     "execution_count": 18,
     "metadata": {},
     "output_type": "execute_result"
    }
   ],
   "source": [
    "# Access complete row with index \n",
    "data.iloc[0]"
   ]
  },
  {
   "cell_type": "markdown",
   "metadata": {},
   "source": [
    "The above method can also be used to select the multiple rows by passing a list of indices of required rows."
   ]
  },
  {
   "cell_type": "code",
   "execution_count": 19,
   "metadata": {},
   "outputs": [
    {
     "data": {
      "text/html": [
       "<div>\n",
       "<style scoped>\n",
       "    .dataframe tbody tr th:only-of-type {\n",
       "        vertical-align: middle;\n",
       "    }\n",
       "\n",
       "    .dataframe tbody tr th {\n",
       "        vertical-align: top;\n",
       "    }\n",
       "\n",
       "    .dataframe thead th {\n",
       "        text-align: right;\n",
       "    }\n",
       "</style>\n",
       "<table border=\"1\" class=\"dataframe\">\n",
       "  <thead>\n",
       "    <tr style=\"text-align: right;\">\n",
       "      <th></th>\n",
       "      <th>Date</th>\n",
       "      <th>Open</th>\n",
       "      <th>High</th>\n",
       "      <th>Low</th>\n",
       "      <th>Close</th>\n",
       "      <th>Adj Close</th>\n",
       "      <th>Volume</th>\n",
       "    </tr>\n",
       "  </thead>\n",
       "  <tbody>\n",
       "    <tr>\n",
       "      <th>0</th>\n",
       "      <td>4/15/2019</td>\n",
       "      <td>456.359985</td>\n",
       "      <td>457.100006</td>\n",
       "      <td>449.769989</td>\n",
       "      <td>451.859985</td>\n",
       "      <td>451.859985</td>\n",
       "      <td>590800</td>\n",
       "    </tr>\n",
       "    <tr>\n",
       "      <th>2</th>\n",
       "      <td>4/17/2019</td>\n",
       "      <td>466.980011</td>\n",
       "      <td>468.779999</td>\n",
       "      <td>462.420013</td>\n",
       "      <td>467.489990</td>\n",
       "      <td>467.489990</td>\n",
       "      <td>628200</td>\n",
       "    </tr>\n",
       "    <tr>\n",
       "      <th>3</th>\n",
       "      <td>4/18/2019</td>\n",
       "      <td>468.779999</td>\n",
       "      <td>469.369995</td>\n",
       "      <td>465.690002</td>\n",
       "      <td>465.690002</td>\n",
       "      <td>465.690002</td>\n",
       "      <td>530400</td>\n",
       "    </tr>\n",
       "    <tr>\n",
       "      <th>5</th>\n",
       "      <td>4/23/2019</td>\n",
       "      <td>464.000000</td>\n",
       "      <td>474.029999</td>\n",
       "      <td>463.899994</td>\n",
       "      <td>474.029999</td>\n",
       "      <td>474.029999</td>\n",
       "      <td>687400</td>\n",
       "    </tr>\n",
       "    <tr>\n",
       "      <th>8</th>\n",
       "      <td>4/26/2019</td>\n",
       "      <td>475.109985</td>\n",
       "      <td>479.459991</td>\n",
       "      <td>471.850006</td>\n",
       "      <td>478.980011</td>\n",
       "      <td>478.980011</td>\n",
       "      <td>469000</td>\n",
       "    </tr>\n",
       "  </tbody>\n",
       "</table>\n",
       "</div>"
      ],
      "text/plain": [
       "        Date        Open        High         Low       Close   Adj Close  \\\n",
       "0  4/15/2019  456.359985  457.100006  449.769989  451.859985  451.859985   \n",
       "2  4/17/2019  466.980011  468.779999  462.420013  467.489990  467.489990   \n",
       "3  4/18/2019  468.779999  469.369995  465.690002  465.690002  465.690002   \n",
       "5  4/23/2019  464.000000  474.029999  463.899994  474.029999  474.029999   \n",
       "8  4/26/2019  475.109985  479.459991  471.850006  478.980011  478.980011   \n",
       "\n",
       "   Volume  \n",
       "0  590800  \n",
       "2  628200  \n",
       "3  530400  \n",
       "5  687400  \n",
       "8  469000  "
      ]
     },
     "execution_count": 19,
     "metadata": {},
     "output_type": "execute_result"
    }
   ],
   "source": [
    "data.loc[[0,2,3,5,8]]"
   ]
  },
  {
   "cell_type": "markdown",
   "metadata": {},
   "source": [
    "If the index of the dataframe is name rather than a number, then that particular index can be checked by the follwoing manner just to avoid any error in selecting the data."
   ]
  },
  {
   "cell_type": "code",
   "execution_count": 58,
   "metadata": {},
   "outputs": [
    {
     "data": {
      "text/plain": [
       "[5, 10, 3]"
      ]
     },
     "execution_count": 58,
     "metadata": {},
     "output_type": "execute_result"
    }
   ],
   "source": [
    "data.iloc[[5, 10, 3]].index.tolist() # return the index name of the rows"
   ]
  },
  {
   "cell_type": "markdown",
   "metadata": {},
   "source": [
    "here the index and the number if the row is same therefore the output is same as the input."
   ]
  },
  {
   "cell_type": "code",
   "execution_count": 7,
   "metadata": {
    "collapsed": true
   },
   "outputs": [],
   "source": [
    "data_ugds_ = data.filter(like='UGDS_')"
   ]
  },
  {
   "cell_type": "markdown",
   "metadata": {},
   "source": [
    "### How to use operations on dataframe?"
   ]
  },
  {
   "cell_type": "markdown",
   "metadata": {},
   "source": [
    "There are number of operations which are quite helpful to make data more sensible. For example, adding a new column whose values are based on the two columns. \n",
    "Here the range of the price fluctutations for a particular day to be calculate just by taking the difference of the  ```\"High\"``` and ```\"Low\"``` column."
   ]
  },
  {
   "cell_type": "code",
   "execution_count": 16,
   "metadata": {
    "collapsed": true
   },
   "outputs": [],
   "source": [
    "data['Range'] = data['High']-data['Low'] # to calulate the range and putting into a new column."
   ]
  },
  {
   "cell_type": "code",
   "execution_count": 17,
   "metadata": {},
   "outputs": [
    {
     "data": {
      "text/html": [
       "<div>\n",
       "<style>\n",
       "    .dataframe thead tr:only-child th {\n",
       "        text-align: right;\n",
       "    }\n",
       "\n",
       "    .dataframe thead th {\n",
       "        text-align: left;\n",
       "    }\n",
       "\n",
       "    .dataframe tbody tr th {\n",
       "        vertical-align: top;\n",
       "    }\n",
       "</style>\n",
       "<table border=\"1\" class=\"dataframe\">\n",
       "  <thead>\n",
       "    <tr style=\"text-align: right;\">\n",
       "      <th></th>\n",
       "      <th>Date</th>\n",
       "      <th>Open</th>\n",
       "      <th>High</th>\n",
       "      <th>Low</th>\n",
       "      <th>Close</th>\n",
       "      <th>Adj Close</th>\n",
       "      <th>Volume</th>\n",
       "      <th>Range</th>\n",
       "    </tr>\n",
       "  </thead>\n",
       "  <tbody>\n",
       "    <tr>\n",
       "      <th>0</th>\n",
       "      <td>4/15/2019</td>\n",
       "      <td>456.359985</td>\n",
       "      <td>457.100006</td>\n",
       "      <td>449.769989</td>\n",
       "      <td>451.859985</td>\n",
       "      <td>451.859985</td>\n",
       "      <td>590800</td>\n",
       "      <td>7.330017</td>\n",
       "    </tr>\n",
       "    <tr>\n",
       "      <th>1</th>\n",
       "      <td>4/16/2019</td>\n",
       "      <td>453.100006</td>\n",
       "      <td>466.890015</td>\n",
       "      <td>453.000000</td>\n",
       "      <td>466.540009</td>\n",
       "      <td>466.540009</td>\n",
       "      <td>1030700</td>\n",
       "      <td>13.890015</td>\n",
       "    </tr>\n",
       "    <tr>\n",
       "      <th>2</th>\n",
       "      <td>4/17/2019</td>\n",
       "      <td>466.980011</td>\n",
       "      <td>468.779999</td>\n",
       "      <td>462.420013</td>\n",
       "      <td>467.489990</td>\n",
       "      <td>467.489990</td>\n",
       "      <td>628200</td>\n",
       "      <td>6.359986</td>\n",
       "    </tr>\n",
       "    <tr>\n",
       "      <th>3</th>\n",
       "      <td>4/18/2019</td>\n",
       "      <td>468.779999</td>\n",
       "      <td>469.369995</td>\n",
       "      <td>465.690002</td>\n",
       "      <td>465.690002</td>\n",
       "      <td>465.690002</td>\n",
       "      <td>530400</td>\n",
       "      <td>3.679993</td>\n",
       "    </tr>\n",
       "    <tr>\n",
       "      <th>4</th>\n",
       "      <td>4/22/2019</td>\n",
       "      <td>463.750000</td>\n",
       "      <td>465.660004</td>\n",
       "      <td>462.149994</td>\n",
       "      <td>464.019989</td>\n",
       "      <td>464.019989</td>\n",
       "      <td>432900</td>\n",
       "      <td>3.510010</td>\n",
       "    </tr>\n",
       "  </tbody>\n",
       "</table>\n",
       "</div>"
      ],
      "text/plain": [
       "        Date        Open        High         Low       Close   Adj Close  \\\n",
       "0  4/15/2019  456.359985  457.100006  449.769989  451.859985  451.859985   \n",
       "1  4/16/2019  453.100006  466.890015  453.000000  466.540009  466.540009   \n",
       "2  4/17/2019  466.980011  468.779999  462.420013  467.489990  467.489990   \n",
       "3  4/18/2019  468.779999  469.369995  465.690002  465.690002  465.690002   \n",
       "4  4/22/2019  463.750000  465.660004  462.149994  464.019989  464.019989   \n",
       "\n",
       "    Volume      Range  \n",
       "0   590800   7.330017  \n",
       "1  1030700  13.890015  \n",
       "2   628200   6.359986  \n",
       "3   530400   3.679993  \n",
       "4   432900   3.510010  "
      ]
     },
     "execution_count": 17,
     "metadata": {},
     "output_type": "execute_result"
    }
   ],
   "source": [
    "data.head()"
   ]
  },
  {
   "cell_type": "markdown",
   "metadata": {},
   "source": [
    "* whenever a column is subjected under an operation then the all of the NaN's in that column remains NaN."
   ]
  },
  {
   "cell_type": "markdown",
   "metadata": {},
   "source": [
    "By default, all the operations are operated according to the columns but if operations according to the row, then __```axis```__ will help us to do so. The __```axis```__ has two possible values __```0 or 1```__. By default, it is __```0```__. Passing the __```axis=1```__ operates all the operations by taking the transpose of the data."
   ]
  },
  {
   "cell_type": "code",
   "execution_count": 33,
   "metadata": {},
   "outputs": [
    {
     "data": {
      "text/plain": [
       "0    8\n",
       "1    8\n",
       "2    8\n",
       "3    8\n",
       "4    8\n",
       "dtype: int64"
      ]
     },
     "execution_count": 33,
     "metadata": {},
     "output_type": "execute_result"
    }
   ],
   "source": [
    "data.count(axis = 1).head() # counting the non-missing values of the data for each row."
   ]
  },
  {
   "cell_type": "markdown",
   "metadata": {},
   "source": [
    "To take the sum of the all of the columns and adding it into a new row following procedure can be followed."
   ]
  },
  {
   "cell_type": "markdown",
   "metadata": {},
   "source": [
    "* Creating a copy of dataframe so that our original data remains intact therefore __```agg_data = data[data.columns]```__ is preferred over the __```agg_data = data```__."
   ]
  },
  {
   "cell_type": "code",
   "execution_count": 124,
   "metadata": {
    "collapsed": true
   },
   "outputs": [],
   "source": [
    "agg_data = data[data.columns] "
   ]
  },
  {
   "cell_type": "markdown",
   "metadata": {},
   "source": [
    "* adding the all values of the required columns and then appending it to the dataframe."
   ]
  },
  {
   "cell_type": "code",
   "execution_count": 125,
   "metadata": {
    "collapsed": true
   },
   "outputs": [],
   "source": [
    "agg_data.loc['Total']= agg_data[[\"Open\",\"High\", \"Low\", \"Close\", \"Adj Close\", \"Volume\"]].sum() # run this only once to avoid \n",
    "                                                                                              # repeated sum.\n",
    "#agg_data.loc['Total']= agg_data[data.columns].sum() (This command is avoided because the sum of Date column is not required)"
   ]
  },
  {
   "cell_type": "code",
   "execution_count": 126,
   "metadata": {},
   "outputs": [
    {
     "data": {
      "text/html": [
       "<div>\n",
       "<style>\n",
       "    .dataframe thead tr:only-child th {\n",
       "        text-align: right;\n",
       "    }\n",
       "\n",
       "    .dataframe thead th {\n",
       "        text-align: left;\n",
       "    }\n",
       "\n",
       "    .dataframe tbody tr th {\n",
       "        vertical-align: top;\n",
       "    }\n",
       "</style>\n",
       "<table border=\"1\" class=\"dataframe\">\n",
       "  <thead>\n",
       "    <tr style=\"text-align: right;\">\n",
       "      <th></th>\n",
       "      <th>Date</th>\n",
       "      <th>Open</th>\n",
       "      <th>High</th>\n",
       "      <th>Low</th>\n",
       "      <th>Close</th>\n",
       "      <th>Adj Close</th>\n",
       "      <th>Volume</th>\n",
       "    </tr>\n",
       "  </thead>\n",
       "  <tbody>\n",
       "    <tr>\n",
       "      <th>15</th>\n",
       "      <td>5/7/2019</td>\n",
       "      <td>473.609985</td>\n",
       "      <td>473.929993</td>\n",
       "      <td>459.059998</td>\n",
       "      <td>463.769989</td>\n",
       "      <td>463.769989</td>\n",
       "      <td>709500.0</td>\n",
       "    </tr>\n",
       "    <tr>\n",
       "      <th>16</th>\n",
       "      <td>5/8/2019</td>\n",
       "      <td>462.179993</td>\n",
       "      <td>469.459991</td>\n",
       "      <td>459.619995</td>\n",
       "      <td>465.470001</td>\n",
       "      <td>465.470001</td>\n",
       "      <td>454800.0</td>\n",
       "    </tr>\n",
       "    <tr>\n",
       "      <th>17</th>\n",
       "      <td>5/9/2019</td>\n",
       "      <td>458.730011</td>\n",
       "      <td>464.459991</td>\n",
       "      <td>454.160004</td>\n",
       "      <td>464.220001</td>\n",
       "      <td>464.220001</td>\n",
       "      <td>435500.0</td>\n",
       "    </tr>\n",
       "    <tr>\n",
       "      <th>18</th>\n",
       "      <td>5/10/2019</td>\n",
       "      <td>461.850006</td>\n",
       "      <td>465.640015</td>\n",
       "      <td>453.250000</td>\n",
       "      <td>463.000000</td>\n",
       "      <td>463.000000</td>\n",
       "      <td>484000.0</td>\n",
       "    </tr>\n",
       "    <tr>\n",
       "      <th>Total</th>\n",
       "      <td>NaN</td>\n",
       "      <td>7975.380004</td>\n",
       "      <td>9014.200012</td>\n",
       "      <td>8852.729948</td>\n",
       "      <td>8959.179991</td>\n",
       "      <td>8959.179991</td>\n",
       "      <td>10757300.0</td>\n",
       "    </tr>\n",
       "  </tbody>\n",
       "</table>\n",
       "</div>"
      ],
      "text/plain": [
       "            Date         Open         High          Low        Close  \\\n",
       "15      5/7/2019   473.609985   473.929993   459.059998   463.769989   \n",
       "16      5/8/2019   462.179993   469.459991   459.619995   465.470001   \n",
       "17      5/9/2019   458.730011   464.459991   454.160004   464.220001   \n",
       "18     5/10/2019   461.850006   465.640015   453.250000   463.000000   \n",
       "Total        NaN  7975.380004  9014.200012  8852.729948  8959.179991   \n",
       "\n",
       "         Adj Close      Volume  \n",
       "15      463.769989    709500.0  \n",
       "16      465.470001    454800.0  \n",
       "17      464.220001    435500.0  \n",
       "18      463.000000    484000.0  \n",
       "Total  8959.179991  10757300.0  "
      ]
     },
     "execution_count": 126,
     "metadata": {},
     "output_type": "execute_result"
    }
   ],
   "source": [
    "agg_data.tail()"
   ]
  },
  {
   "cell_type": "markdown",
   "metadata": {
    "collapsed": true
   },
   "source": [
    "### How to a analyse the data?"
   ]
  },
  {
   "cell_type": "code",
   "execution_count": 19,
   "metadata": {},
   "outputs": [
    {
     "data": {
      "text/html": [
       "<div>\n",
       "<style scoped>\n",
       "    .dataframe tbody tr th:only-of-type {\n",
       "        vertical-align: middle;\n",
       "    }\n",
       "\n",
       "    .dataframe tbody tr th {\n",
       "        vertical-align: top;\n",
       "    }\n",
       "\n",
       "    .dataframe thead th {\n",
       "        text-align: right;\n",
       "    }\n",
       "</style>\n",
       "<table border=\"1\" class=\"dataframe\">\n",
       "  <thead>\n",
       "    <tr style=\"text-align: right;\">\n",
       "      <th></th>\n",
       "      <th>count</th>\n",
       "      <th>mean</th>\n",
       "      <th>std</th>\n",
       "      <th>min</th>\n",
       "      <th>25%</th>\n",
       "      <th>50%</th>\n",
       "      <th>75%</th>\n",
       "      <th>max</th>\n",
       "    </tr>\n",
       "  </thead>\n",
       "  <tbody>\n",
       "    <tr>\n",
       "      <th>Open</th>\n",
       "      <td>17.0</td>\n",
       "      <td>469.140000</td>\n",
       "      <td>9.335424</td>\n",
       "      <td>453.100006</td>\n",
       "      <td>462.179993</td>\n",
       "      <td>468.779999</td>\n",
       "      <td>475.109985</td>\n",
       "      <td>4.868400e+02</td>\n",
       "    </tr>\n",
       "    <tr>\n",
       "      <th>High</th>\n",
       "      <td>19.0</td>\n",
       "      <td>474.431580</td>\n",
       "      <td>8.471016</td>\n",
       "      <td>457.100006</td>\n",
       "      <td>467.835007</td>\n",
       "      <td>474.029999</td>\n",
       "      <td>481.029999</td>\n",
       "      <td>4.874500e+02</td>\n",
       "    </tr>\n",
       "    <tr>\n",
       "      <th>Low</th>\n",
       "      <td>19.0</td>\n",
       "      <td>465.933155</td>\n",
       "      <td>9.384924</td>\n",
       "      <td>449.769989</td>\n",
       "      <td>459.339997</td>\n",
       "      <td>465.690002</td>\n",
       "      <td>472.609985</td>\n",
       "      <td>4.787100e+02</td>\n",
       "    </tr>\n",
       "    <tr>\n",
       "      <th>Close</th>\n",
       "      <td>19.0</td>\n",
       "      <td>471.535789</td>\n",
       "      <td>8.721189</td>\n",
       "      <td>451.859985</td>\n",
       "      <td>464.845001</td>\n",
       "      <td>474.029999</td>\n",
       "      <td>479.055008</td>\n",
       "      <td>4.852400e+02</td>\n",
       "    </tr>\n",
       "    <tr>\n",
       "      <th>Adj Close</th>\n",
       "      <td>19.0</td>\n",
       "      <td>471.535789</td>\n",
       "      <td>8.721189</td>\n",
       "      <td>451.859985</td>\n",
       "      <td>464.845001</td>\n",
       "      <td>474.029999</td>\n",
       "      <td>479.055008</td>\n",
       "      <td>4.852400e+02</td>\n",
       "    </tr>\n",
       "    <tr>\n",
       "      <th>Volume</th>\n",
       "      <td>19.0</td>\n",
       "      <td>566173.684211</td>\n",
       "      <td>186107.017726</td>\n",
       "      <td>366900.000000</td>\n",
       "      <td>435800.000000</td>\n",
       "      <td>488600.000000</td>\n",
       "      <td>613450.000000</td>\n",
       "      <td>1.030700e+06</td>\n",
       "    </tr>\n",
       "  </tbody>\n",
       "</table>\n",
       "</div>"
      ],
      "text/plain": [
       "           count           mean            std            min            25%  \\\n",
       "Open        17.0     469.140000       9.335424     453.100006     462.179993   \n",
       "High        19.0     474.431580       8.471016     457.100006     467.835007   \n",
       "Low         19.0     465.933155       9.384924     449.769989     459.339997   \n",
       "Close       19.0     471.535789       8.721189     451.859985     464.845001   \n",
       "Adj Close   19.0     471.535789       8.721189     451.859985     464.845001   \n",
       "Volume      19.0  566173.684211  186107.017726  366900.000000  435800.000000   \n",
       "\n",
       "                     50%            75%           max  \n",
       "Open          468.779999     475.109985  4.868400e+02  \n",
       "High          474.029999     481.029999  4.874500e+02  \n",
       "Low           465.690002     472.609985  4.787100e+02  \n",
       "Close         474.029999     479.055008  4.852400e+02  \n",
       "Adj Close     474.029999     479.055008  4.852400e+02  \n",
       "Volume     488600.000000  613450.000000  1.030700e+06  "
      ]
     },
     "execution_count": 19,
     "metadata": {},
     "output_type": "execute_result"
    }
   ],
   "source": [
    "data.describe().T #(summary statistics for the numerical columns and transpose(using .T) the DataFrame for more readable output)"
   ]
  },
  {
   "cell_type": "markdown",
   "metadata": {
    "collapsed": true
   },
   "source": [
    "The __```describe```__ method can accept three arguments to customize the output (percentile, include & exclude). "
   ]
  },
  {
   "cell_type": "code",
   "execution_count": 16,
   "metadata": {},
   "outputs": [
    {
     "data": {
      "text/html": [
       "<div>\n",
       "<style scoped>\n",
       "    .dataframe tbody tr th:only-of-type {\n",
       "        vertical-align: middle;\n",
       "    }\n",
       "\n",
       "    .dataframe tbody tr th {\n",
       "        vertical-align: top;\n",
       "    }\n",
       "\n",
       "    .dataframe thead th {\n",
       "        text-align: right;\n",
       "    }\n",
       "</style>\n",
       "<table border=\"1\" class=\"dataframe\">\n",
       "  <thead>\n",
       "    <tr style=\"text-align: right;\">\n",
       "      <th></th>\n",
       "      <th>count</th>\n",
       "      <th>mean</th>\n",
       "      <th>std</th>\n",
       "      <th>min</th>\n",
       "      <th>1%</th>\n",
       "      <th>7.0%</th>\n",
       "      <th>40%</th>\n",
       "      <th>50%</th>\n",
       "      <th>max</th>\n",
       "    </tr>\n",
       "  </thead>\n",
       "  <tbody>\n",
       "    <tr>\n",
       "      <th>Open</th>\n",
       "      <td>17.0</td>\n",
       "      <td>469.140000</td>\n",
       "      <td>9.335424</td>\n",
       "      <td>453.100006</td>\n",
       "      <td>453.621603</td>\n",
       "      <td>456.644388</td>\n",
       "      <td>465.192004</td>\n",
       "      <td>468.779999</td>\n",
       "      <td>4.868400e+02</td>\n",
       "    </tr>\n",
       "    <tr>\n",
       "      <th>High</th>\n",
       "      <td>19.0</td>\n",
       "      <td>474.431580</td>\n",
       "      <td>8.471016</td>\n",
       "      <td>457.100006</td>\n",
       "      <td>458.424803</td>\n",
       "      <td>464.766797</td>\n",
       "      <td>470.353991</td>\n",
       "      <td>474.029999</td>\n",
       "      <td>4.874500e+02</td>\n",
       "    </tr>\n",
       "    <tr>\n",
       "      <th>Low</th>\n",
       "      <td>19.0</td>\n",
       "      <td>465.933155</td>\n",
       "      <td>9.384924</td>\n",
       "      <td>449.769989</td>\n",
       "      <td>450.351391</td>\n",
       "      <td>453.065000</td>\n",
       "      <td>462.716009</td>\n",
       "      <td>465.690002</td>\n",
       "      <td>4.787100e+02</td>\n",
       "    </tr>\n",
       "    <tr>\n",
       "      <th>Close</th>\n",
       "      <td>19.0</td>\n",
       "      <td>471.535789</td>\n",
       "      <td>8.721189</td>\n",
       "      <td>451.859985</td>\n",
       "      <td>453.865188</td>\n",
       "      <td>463.200197</td>\n",
       "      <td>466.730005</td>\n",
       "      <td>474.029999</td>\n",
       "      <td>4.852400e+02</td>\n",
       "    </tr>\n",
       "    <tr>\n",
       "      <th>Adj Close</th>\n",
       "      <td>19.0</td>\n",
       "      <td>471.535789</td>\n",
       "      <td>8.721189</td>\n",
       "      <td>451.859985</td>\n",
       "      <td>453.865188</td>\n",
       "      <td>463.200197</td>\n",
       "      <td>466.730005</td>\n",
       "      <td>474.029999</td>\n",
       "      <td>4.852400e+02</td>\n",
       "    </tr>\n",
       "    <tr>\n",
       "      <th>Volume</th>\n",
       "      <td>19.0</td>\n",
       "      <td>566173.684211</td>\n",
       "      <td>186107.017726</td>\n",
       "      <td>366900.000000</td>\n",
       "      <td>373452.000000</td>\n",
       "      <td>410996.000000</td>\n",
       "      <td>472000.000000</td>\n",
       "      <td>488600.000000</td>\n",
       "      <td>1.030700e+06</td>\n",
       "    </tr>\n",
       "  </tbody>\n",
       "</table>\n",
       "</div>"
      ],
      "text/plain": [
       "           count           mean            std            min             1%  \\\n",
       "Open        17.0     469.140000       9.335424     453.100006     453.621603   \n",
       "High        19.0     474.431580       8.471016     457.100006     458.424803   \n",
       "Low         19.0     465.933155       9.384924     449.769989     450.351391   \n",
       "Close       19.0     471.535789       8.721189     451.859985     453.865188   \n",
       "Adj Close   19.0     471.535789       8.721189     451.859985     453.865188   \n",
       "Volume      19.0  566173.684211  186107.017726  366900.000000  373452.000000   \n",
       "\n",
       "                    7.0%            40%            50%           max  \n",
       "Open          456.644388     465.192004     468.779999  4.868400e+02  \n",
       "High          464.766797     470.353991     474.029999  4.874500e+02  \n",
       "Low           453.065000     462.716009     465.690002  4.787100e+02  \n",
       "Close         463.200197     466.730005     474.029999  4.852400e+02  \n",
       "Adj Close     463.200197     466.730005     474.029999  4.852400e+02  \n",
       "Volume     410996.000000  472000.000000  488600.000000  1.030700e+06  "
      ]
     },
     "execution_count": 16,
     "metadata": {},
     "output_type": "execute_result"
    }
   ],
   "source": [
    "data.describe(percentiles = [0.01,0.40,0.07]).T # adding the 1%, 7% and 40% percentiles"
   ]
  },
  {
   "cell_type": "markdown",
   "metadata": {},
   "source": [
    "To check the memory of the each column."
   ]
  },
  {
   "cell_type": "code",
   "execution_count": 25,
   "metadata": {},
   "outputs": [
    {
     "data": {
      "text/plain": [
       "Index          80\n",
       "Date         1247\n",
       "Open          152\n",
       "High          152\n",
       "Low           152\n",
       "Close         152\n",
       "Adj Close     152\n",
       "Volume        152\n",
       "dtype: int64"
      ]
     },
     "execution_count": 25,
     "metadata": {},
     "output_type": "execute_result"
    }
   ],
   "source": [
    "data.memory_usage(deep = True) "
   ]
  },
  {
   "cell_type": "markdown",
   "metadata": {},
   "source": [
    "The memory usage can be reduced by converting the datatype. Let's reduce the memory of the ```Volume``` column."
   ]
  },
  {
   "cell_type": "markdown",
   "metadata": {},
   "source": [
    "Memory can be reduced if the columns have repeated values. i.e. the columns have less unique values. But in our dataframe there no repeated values as our dataset not large enough. Let's check!!!"
   ]
  },
  {
   "cell_type": "code",
   "execution_count": 38,
   "metadata": {},
   "outputs": [
    {
     "data": {
      "text/plain": [
       "Date         19\n",
       "Open         17\n",
       "High         19\n",
       "Low          18\n",
       "Close        19\n",
       "Adj Close    19\n",
       "Volume       19\n",
       "dtype: int64"
      ]
     },
     "execution_count": 38,
     "metadata": {},
     "output_type": "execute_result"
    }
   ],
   "source": [
    "data.select_dtypes(include = [\"number\", \"object\"]).nunique() # cheking the unique values in each column\n",
    "#data[\"Volume\"] = data[\"Volume\"].astype(np.int8) # converting the datatype to 8 bit."
   ]
  },
  {
   "cell_type": "markdown",
   "metadata": {},
   "source": [
    "There is significant reduction in the memory usage of each column without losing any information."
   ]
  },
  {
   "cell_type": "markdown",
   "metadata": {},
   "source": [
    "Clearly, there are no repated values in any of the column so we can't reduce the memory here. But in case, if there are repeated values in the columns then __```data['Required_Column'] = data['Required_column'].astype('category')```__ can be used to reduce the memory usage even more."
   ]
  },
  {
   "cell_type": "markdown",
   "metadata": {},
   "source": [
    "We can easily find the top n values or least n values for any column by using the __```nlargest```__ or __```nsmallest```__ method. Here, we are going the find the five days when the closing price is high."
   ]
  },
  {
   "cell_type": "code",
   "execution_count": 42,
   "metadata": {},
   "outputs": [
    {
     "data": {
      "text/html": [
       "<div>\n",
       "<style scoped>\n",
       "    .dataframe tbody tr th:only-of-type {\n",
       "        vertical-align: middle;\n",
       "    }\n",
       "\n",
       "    .dataframe tbody tr th {\n",
       "        vertical-align: top;\n",
       "    }\n",
       "\n",
       "    .dataframe thead th {\n",
       "        text-align: right;\n",
       "    }\n",
       "</style>\n",
       "<table border=\"1\" class=\"dataframe\">\n",
       "  <thead>\n",
       "    <tr style=\"text-align: right;\">\n",
       "      <th></th>\n",
       "      <th>Date</th>\n",
       "      <th>Close</th>\n",
       "    </tr>\n",
       "  </thead>\n",
       "  <tbody>\n",
       "    <tr>\n",
       "      <th>10</th>\n",
       "      <td>4/30/2019</td>\n",
       "      <td>485.239990</td>\n",
       "    </tr>\n",
       "    <tr>\n",
       "      <th>13</th>\n",
       "      <td>5/3/2019</td>\n",
       "      <td>482.500000</td>\n",
       "    </tr>\n",
       "    <tr>\n",
       "      <th>6</th>\n",
       "      <td>4/24/2019</td>\n",
       "      <td>480.170013</td>\n",
       "    </tr>\n",
       "    <tr>\n",
       "      <th>9</th>\n",
       "      <td>4/29/2019</td>\n",
       "      <td>479.839996</td>\n",
       "    </tr>\n",
       "    <tr>\n",
       "      <th>11</th>\n",
       "      <td>5/1/2019</td>\n",
       "      <td>479.130005</td>\n",
       "    </tr>\n",
       "  </tbody>\n",
       "</table>\n",
       "</div>"
      ],
      "text/plain": [
       "         Date       Close\n",
       "10  4/30/2019  485.239990\n",
       "13   5/3/2019  482.500000\n",
       "6   4/24/2019  480.170013\n",
       "9   4/29/2019  479.839996\n",
       "11   5/1/2019  479.130005"
      ]
     },
     "execution_count": 42,
     "metadata": {},
     "output_type": "execute_result"
    }
   ],
   "source": [
    "data.nlargest(5, 'Close')[[\"Date\",\"Close\"]] # only printing the date and close column"
   ]
  },
  {
   "cell_type": "markdown",
   "metadata": {},
   "source": [
    "We can work on multiple columns at the same time. For example, we are finding the 10 days of highest closeing price and out of the 5 days of lowest opening price."
   ]
  },
  {
   "cell_type": "code",
   "execution_count": 45,
   "metadata": {},
   "outputs": [
    {
     "data": {
      "text/html": [
       "<div>\n",
       "<style scoped>\n",
       "    .dataframe tbody tr th:only-of-type {\n",
       "        vertical-align: middle;\n",
       "    }\n",
       "\n",
       "    .dataframe tbody tr th {\n",
       "        vertical-align: top;\n",
       "    }\n",
       "\n",
       "    .dataframe thead th {\n",
       "        text-align: right;\n",
       "    }\n",
       "</style>\n",
       "<table border=\"1\" class=\"dataframe\">\n",
       "  <thead>\n",
       "    <tr style=\"text-align: right;\">\n",
       "      <th></th>\n",
       "      <th>Date</th>\n",
       "      <th>Open</th>\n",
       "      <th>High</th>\n",
       "      <th>Low</th>\n",
       "      <th>Close</th>\n",
       "      <th>Adj Close</th>\n",
       "      <th>Volume</th>\n",
       "    </tr>\n",
       "  </thead>\n",
       "  <tbody>\n",
       "    <tr>\n",
       "      <th>5</th>\n",
       "      <td>4/23/2019</td>\n",
       "      <td>464.000000</td>\n",
       "      <td>474.029999</td>\n",
       "      <td>463.899994</td>\n",
       "      <td>474.029999</td>\n",
       "      <td>474.029999</td>\n",
       "      <td>687400</td>\n",
       "    </tr>\n",
       "    <tr>\n",
       "      <th>14</th>\n",
       "      <td>5/6/2019</td>\n",
       "      <td>472.920013</td>\n",
       "      <td>478.619995</td>\n",
       "      <td>469.869995</td>\n",
       "      <td>476.369995</td>\n",
       "      <td>476.369995</td>\n",
       "      <td>434400</td>\n",
       "    </tr>\n",
       "    <tr>\n",
       "      <th>6</th>\n",
       "      <td>4/24/2019</td>\n",
       "      <td>474.029999</td>\n",
       "      <td>482.369995</td>\n",
       "      <td>472.609985</td>\n",
       "      <td>480.170013</td>\n",
       "      <td>480.170013</td>\n",
       "      <td>1008500</td>\n",
       "    </tr>\n",
       "    <tr>\n",
       "      <th>8</th>\n",
       "      <td>4/26/2019</td>\n",
       "      <td>475.109985</td>\n",
       "      <td>479.459991</td>\n",
       "      <td>471.850006</td>\n",
       "      <td>478.980011</td>\n",
       "      <td>478.980011</td>\n",
       "      <td>469000</td>\n",
       "    </tr>\n",
       "    <tr>\n",
       "      <th>7</th>\n",
       "      <td>4/25/2019</td>\n",
       "      <td>477.890015</td>\n",
       "      <td>480.480011</td>\n",
       "      <td>472.609985</td>\n",
       "      <td>474.450012</td>\n",
       "      <td>474.450012</td>\n",
       "      <td>598700</td>\n",
       "    </tr>\n",
       "  </tbody>\n",
       "</table>\n",
       "</div>"
      ],
      "text/plain": [
       "         Date        Open        High         Low       Close   Adj Close  \\\n",
       "5   4/23/2019  464.000000  474.029999  463.899994  474.029999  474.029999   \n",
       "14   5/6/2019  472.920013  478.619995  469.869995  476.369995  476.369995   \n",
       "6   4/24/2019  474.029999  482.369995  472.609985  480.170013  480.170013   \n",
       "8   4/26/2019  475.109985  479.459991  471.850006  478.980011  478.980011   \n",
       "7   4/25/2019  477.890015  480.480011  472.609985  474.450012  474.450012   \n",
       "\n",
       "     Volume  \n",
       "5    687400  \n",
       "14   434400  \n",
       "6   1008500  \n",
       "8    469000  \n",
       "7    598700  "
      ]
     },
     "execution_count": 45,
     "metadata": {},
     "output_type": "execute_result"
    }
   ],
   "source": [
    "data.nlargest(10,\"Close\").nsmallest(5,\"Open\")"
   ]
  },
  {
   "cell_type": "markdown",
   "metadata": {},
   "source": [
    "The above method is equivalent to __```sort_values```__ and selecting the required n rows. "
   ]
  },
  {
   "cell_type": "code",
   "execution_count": null,
   "metadata": {},
   "outputs": [],
   "source": []
  },
  {
   "cell_type": "code",
   "execution_count": null,
   "metadata": {
    "collapsed": true
   },
   "outputs": [],
   "source": []
  }
 ],
 "metadata": {
  "kernelspec": {
   "display_name": "Python 3",
   "language": "python",
   "name": "python3"
  },
  "language_info": {
   "codemirror_mode": {
    "name": "ipython",
    "version": 3
   },
   "file_extension": ".py",
   "mimetype": "text/x-python",
   "name": "python",
   "nbconvert_exporter": "python",
   "pygments_lexer": "ipython3",
   "version": "3.6.2"
  }
 },
 "nbformat": 4,
 "nbformat_minor": 2
}
